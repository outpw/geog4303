{
 "cells": [
  {
   "cell_type": "markdown",
   "metadata": {},
   "source": [
    "## Numpy Array Basics  \n",
    "\n",
    "In this notebook, we'll walk through some of the basics of working with Numpy arrays and try to gain an initial understanding of how to manipulate arrays.  \n",
    "\n",
    "Take your time. All of the code is provided, but the point is to read through each code block to understand what is happening. This can take a little time to wrap your head around, so play with different variations on the code below to see what works and what breaks."
   ]
  },
  {
   "cell_type": "code",
   "execution_count": null,
   "metadata": {},
   "outputs": [],
   "source": [
    "import numpy as np"
   ]
  },
  {
   "cell_type": "markdown",
   "metadata": {},
   "source": [
    "Here we will create an array:"
   ]
  },
  {
   "cell_type": "code",
   "execution_count": null,
   "metadata": {},
   "outputs": [],
   "source": [
    "myArray = np.array(([4,6,4,7,2],[5,8,4,9,7],[6,8,3,4,2],[9,5,8,6,7],[5,2,7,9,1],[7,4,2,6,7]))\n",
    "print myArray"
   ]
  },
  {
   "cell_type": "markdown",
   "metadata": {},
   "source": [
    "### Indexing:  \n",
    "Indexing starts off similar to our usual indexing methods, with a few twists: \n",
    "\n",
    "`myArray[2]` will grab the third row:"
   ]
  },
  {
   "cell_type": "code",
   "execution_count": null,
   "metadata": {},
   "outputs": [],
   "source": [
    "myArray[2]"
   ]
  },
  {
   "cell_type": "markdown",
   "metadata": {},
   "source": [
    "`myArray[2:5]` will grab the third through fifth rows:"
   ]
  },
  {
   "cell_type": "code",
   "execution_count": null,
   "metadata": {},
   "outputs": [],
   "source": [
    "myArray[2:5]"
   ]
  },
  {
   "cell_type": "markdown",
   "metadata": {},
   "source": [
    "Adding another index after that let's you make a subselection:\n",
    "`myArray[2:5][1:3]`"
   ]
  },
  {
   "cell_type": "code",
   "execution_count": null,
   "metadata": {},
   "outputs": [],
   "source": [
    "myArray[2:6][1:3]"
   ]
  },
  {
   "cell_type": "markdown",
   "metadata": {},
   "source": [
    "Here is something different:  \n",
    "What does this do `myArray[2,3]`?"
   ]
  },
  {
   "cell_type": "code",
   "execution_count": null,
   "metadata": {},
   "outputs": [],
   "source": [
    "myArray[2,3]"
   ]
  },
  {
   "cell_type": "markdown",
   "metadata": {},
   "source": [
    "What about this `myArray[2][3]`"
   ]
  },
  {
   "cell_type": "code",
   "execution_count": null,
   "metadata": {},
   "outputs": [],
   "source": [
    "myArray[2][3]"
   ]
  },
  {
   "cell_type": "markdown",
   "metadata": {},
   "source": [
    "Adding the comma into your index allows you to make subselections. It is like an index within an index in this case."
   ]
  },
  {
   "cell_type": "code",
   "execution_count": null,
   "metadata": {},
   "outputs": [],
   "source": [
    "myArray[2,:]"
   ]
  },
  {
   "cell_type": "code",
   "execution_count": null,
   "metadata": {},
   "outputs": [],
   "source": [
    "print 'Here is the array starting at index position 2:'\n",
    "print myArray[2:],'\\n'\n",
    "print '********************'\n",
    "print 'What are we selecting here?:'\n",
    "print myArray[2:,0],'\\n'\n",
    "print myArray[2:,1],'\\n'\n",
    "print myArray[2:,2],'\\n'\n",
    "print myArray[2:,3],'\\n'\n",
    "print myArray[2:,4],'\\n'"
   ]
  },
  {
   "cell_type": "markdown",
   "metadata": {},
   "source": [
    "**Think** about how that works.  \n",
    "\n",
    "Index before colon represents starting point, comma index after colon represents position within each... Think about how this works:"
   ]
  },
  {
   "cell_type": "code",
   "execution_count": null,
   "metadata": {},
   "outputs": [],
   "source": [
    "print myArray[0:,0]\n",
    "print myArray[1:,0]\n",
    "print myArray[2:,0]\n",
    "print myArray[3:,0]\n",
    "print myArray[4:,0]"
   ]
  },
  {
   "cell_type": "markdown",
   "metadata": {},
   "source": [
    "The comma will help you select a column. Note that this only works in Numpy.... \n",
    "\n",
    "#### Shapes and Sizes of arrays:  \n",
    "https://numpy.org/doc/stable/reference/generated/numpy.shape.html "
   ]
  },
  {
   "cell_type": "code",
   "execution_count": null,
   "metadata": {},
   "outputs": [],
   "source": [
    "print myArray.shape\n",
    "print myArray"
   ]
  },
  {
   "cell_type": "markdown",
   "metadata": {},
   "source": [
    "`np.size()` counts along a given axis. Args are the array and an axis. 0 is vertical, 1 is horizontal. But the axis args are optional... if no axes given, counts all elements."
   ]
  },
  {
   "cell_type": "code",
   "execution_count": null,
   "metadata": {},
   "outputs": [],
   "source": [
    "np.size(myArray)"
   ]
  },
  {
   "cell_type": "code",
   "execution_count": null,
   "metadata": {},
   "outputs": [],
   "source": [
    "np.size(myArray,1)"
   ]
  },
  {
   "cell_type": "code",
   "execution_count": null,
   "metadata": {},
   "outputs": [],
   "source": [
    "np.size(myArray,0)"
   ]
  },
  {
   "cell_type": "markdown",
   "metadata": {},
   "source": [
    "Numpy has a lot of useful methods and functions, for example `np.greater()`:  \n",
    "https://numpy.org/doc/stable/reference/generated/numpy.greater.html"
   ]
  },
  {
   "cell_type": "code",
   "execution_count": null,
   "metadata": {},
   "outputs": [],
   "source": [
    "print myArray\n",
    "print np.greater(myArray,4)"
   ]
  },
  {
   "cell_type": "markdown",
   "metadata": {},
   "source": [
    "`np.greater()` returns booleans  \n",
    "\n",
    "Let's try `np.where()`:  \n",
    "https://numpy.org/doc/stable/reference/generated/numpy.where.html  \n",
    "Where returns values based on a condition. the second and third parameters are the values returned for met/not met conditions... "
   ]
  },
  {
   "cell_type": "code",
   "execution_count": null,
   "metadata": {},
   "outputs": [],
   "source": [
    "np.where((myArray>4),1,0)"
   ]
  },
  {
   "cell_type": "markdown",
   "metadata": {},
   "source": [
    "This doesn't have to be 1s or 0s... put whatever you want there:"
   ]
  },
  {
   "cell_type": "code",
   "execution_count": null,
   "metadata": {},
   "outputs": [],
   "source": [
    "np.where((myArray>4),25+25,1+3)"
   ]
  },
  {
   "cell_type": "markdown",
   "metadata": {},
   "source": [
    "You can also nest things:"
   ]
  },
  {
   "cell_type": "code",
   "execution_count": null,
   "metadata": {},
   "outputs": [],
   "source": [
    "np.where(np.greater(myArray,4),1,0)"
   ]
  },
  {
   "cell_type": "markdown",
   "metadata": {},
   "source": [
    "That accomplished the same as above, but note that it can be useful to use the built in methods instead of building things from scratch.  \n",
    "\n",
    "Here we make output an array with 1s representing elements of 4 in myArray, and 0s for everything else:"
   ]
  },
  {
   "cell_type": "code",
   "execution_count": null,
   "metadata": {},
   "outputs": [],
   "source": [
    "np.where(np.equal(myArray,4),1,0)"
   ]
  },
  {
   "cell_type": "markdown",
   "metadata": {},
   "source": [
    "Here we'll create a variable out of the above...."
   ]
  },
  {
   "cell_type": "code",
   "execution_count": null,
   "metadata": {},
   "outputs": [],
   "source": [
    "myArray2 = np.where(np.greater(myArray,4),1,0)\n",
    "print myArray2"
   ]
  },
  {
   "cell_type": "markdown",
   "metadata": {},
   "source": [
    "Add them together:"
   ]
  },
  {
   "cell_type": "code",
   "execution_count": null,
   "metadata": {},
   "outputs": [],
   "source": [
    "myArray + myArray2"
   ]
  },
  {
   "cell_type": "code",
   "execution_count": null,
   "metadata": {},
   "outputs": [],
   "source": [
    "myArray3 = np.add(myArray,myArray2)\n",
    "myArray3"
   ]
  },
  {
   "cell_type": "markdown",
   "metadata": {},
   "source": [
    "`np.zeros()` can be used to create a blank array (that is, all elements = 0) in the shape of another array (or any shape you specify...):"
   ]
  },
  {
   "cell_type": "code",
   "execution_count": null,
   "metadata": {},
   "outputs": [],
   "source": [
    "np.zeros(myArray.shape)"
   ]
  },
  {
   "cell_type": "code",
   "execution_count": null,
   "metadata": {},
   "outputs": [],
   "source": [
    "myArray4 = np.zeros(myArray.shape) #.astype(int)\n",
    "myArray4"
   ]
  },
  {
   "cell_type": "markdown",
   "metadata": {},
   "source": [
    "Note that `np.zero()` returns elements as float type, but you could append .astype(int) to the function to return whole numbers"
   ]
  },
  {
   "cell_type": "code",
   "execution_count": null,
   "metadata": {},
   "outputs": [],
   "source": [
    "print myArray4[0][0]\n",
    "print type(myArray4[0][0])"
   ]
  },
  {
   "cell_type": "markdown",
   "metadata": {},
   "source": [
    "A little reminder for the next few code blocks:"
   ]
  },
  {
   "cell_type": "code",
   "execution_count": null,
   "metadata": {},
   "outputs": [],
   "source": [
    "print myArray, '\\n'\n",
    "print np.size(myArray), '\\n'\n",
    "print np.size(myArray,1) #remember, 1 is horizontal axis"
   ]
  },
  {
   "cell_type": "markdown",
   "metadata": {},
   "source": [
    "#### Iterating over arrays  \n",
    "You have to think a little extra when iterating over an array. Run the next two cells and think about how and why they produce the results they produce:"
   ]
  },
  {
   "cell_type": "code",
   "execution_count": null,
   "metadata": {},
   "outputs": [],
   "source": [
    "myArray4 = np.zeros(myArray.shape)\n",
    "for x in range (0,np.size(myArray,0)): #remember, 0 is vertical axis\n",
    "    myArray4[x] = +100\n",
    "print myArray4"
   ]
  },
  {
   "cell_type": "code",
   "execution_count": null,
   "metadata": {},
   "outputs": [],
   "source": [
    "myArray4 = np.zeros(myArray.shape)\n",
    "for x in range (0,np.size(myArray,1)):  #remember, 1 is horizontal axis\n",
    "    myArray4[x] = +100\n",
    "print myArray4"
   ]
  },
  {
   "cell_type": "markdown",
   "metadata": {},
   "source": [
    "Think about why you got these results...  Would the first example work if the array was turned on it's side? \n",
    "\n",
    "\n",
    "The proper method is to next your loops:"
   ]
  },
  {
   "cell_type": "code",
   "execution_count": null,
   "metadata": {},
   "outputs": [],
   "source": [
    "myArray4 = np.zeros(myArray.shape)\n",
    "for i in range(0,np.size(myArray,1)):\n",
    "    for x in range (0,np.size(myArray,0)):\n",
    "        myArray4[x][i] = +100\n",
    "print myArray4    "
   ]
  },
  {
   "cell_type": "markdown",
   "metadata": {},
   "source": [
    "We can use this do to some math across arrays. Here is `myArray` and `myArray2` for reference:"
   ]
  },
  {
   "cell_type": "code",
   "execution_count": null,
   "metadata": {},
   "outputs": [],
   "source": [
    "print myArray\n",
    "print myArray2"
   ]
  },
  {
   "cell_type": "markdown",
   "metadata": {},
   "source": [
    "We'll modify the loop above:"
   ]
  },
  {
   "cell_type": "code",
   "execution_count": null,
   "metadata": {},
   "outputs": [],
   "source": [
    "myArray4 = np.zeros(myArray.shape)\n",
    "for i in range(0,np.size(myArray,1)):\n",
    "    for x in range (0,np.size(myArray,0)):\n",
    "        myArray4[x][i] = myArray[x][i] * myArray2[x][i]\n",
    "print myArray4        "
   ]
  },
  {
   "cell_type": "markdown",
   "metadata": {},
   "source": [
    "But why iterate in both directions?  \n",
    "\n",
    "In the following example, we'll find values in `myArray` that are between 4 and 6, mark them as 1s and all else as 0s:  \n",
    "\n",
    "\n",
    "Let's break this down into small elements.  \n",
    "\n",
    "First the size and shape"
   ]
  },
  {
   "cell_type": "code",
   "execution_count": null,
   "metadata": {},
   "outputs": [],
   "source": [
    "print myArray.shape\n",
    "print myArray.size"
   ]
  },
  {
   "cell_type": "markdown",
   "metadata": {},
   "source": [
    "We'll make an array of all zeros in the same shape as `myArray`:"
   ]
  },
  {
   "cell_type": "code",
   "execution_count": null,
   "metadata": {},
   "outputs": [],
   "source": [
    "myArrayRange = np.zeros(myArray.shape).astype(int)\n",
    "print myArrayRange"
   ]
  },
  {
   "cell_type": "markdown",
   "metadata": {},
   "source": [
    "How do we iterate over every element the right amount of times:"
   ]
  },
  {
   "cell_type": "code",
   "execution_count": null,
   "metadata": {},
   "outputs": [],
   "source": [
    "range(0, np.size(myArray,1))"
   ]
  },
  {
   "cell_type": "code",
   "execution_count": null,
   "metadata": {},
   "outputs": [],
   "source": [
    "for hindex in range(0,np.size(myArray,1)):\n",
    "    for vindex in range(0,np.size(myArray,0)):\n",
    "        print myArray[vindex][hindex]"
   ]
  },
  {
   "cell_type": "markdown",
   "metadata": {},
   "source": [
    "### Now you're iterating! Think about how this works!\n",
    "Try it short axis first and see what happens:"
   ]
  },
  {
   "cell_type": "code",
   "execution_count": null,
   "metadata": {},
   "outputs": [],
   "source": [
    "for vindex in range(0,np.size(myArray,0)):\n",
    "    for hindex in range(0,np.size(myArray,1)):\n",
    "        print myArray[hindex][vindex]"
   ]
  },
  {
   "cell_type": "markdown",
   "metadata": {},
   "source": [
    "Why the error?  \n",
    "\n",
    "Which axis should go first?  \n",
    "\n",
    "Now we'll print the array elements in order that are between 4 and 6, and with those that are less than 4 or greater than 6 as 0s: "
   ]
  },
  {
   "cell_type": "code",
   "execution_count": null,
   "metadata": {},
   "outputs": [],
   "source": [
    "for hindex in range(0,np.size(myArray,1)):\n",
    "    for vindex in range(0,np.size(myArray,0)):\n",
    "        if myArray[vindex][hindex] >= 4 and myArray[vindex][hindex] <=6:\n",
    "            print myArray[vindex][hindex]\n",
    "        else:\n",
    "            print 0"
   ]
  },
  {
   "cell_type": "markdown",
   "metadata": {},
   "source": [
    "Instead of printing, we will assign the values between 4 and 6 to a new array as 1, and assign all else 0:"
   ]
  },
  {
   "cell_type": "code",
   "execution_count": null,
   "metadata": {},
   "outputs": [],
   "source": [
    "for hindex in range(0,np.size(myArray,1)):\n",
    "    for vindex in range(0,np.size(myArray,0)):\n",
    "        if myArray[vindex][hindex] >= 4 and myArray[vindex][hindex] <=6:\n",
    "            myArrayRange[vindex][hindex] = 1\n",
    "        else:\n",
    "            myArrayRange[vindex][hindex] = 0"
   ]
  },
  {
   "cell_type": "code",
   "execution_count": null,
   "metadata": {},
   "outputs": [],
   "source": [
    "print myArray\n",
    "print myArrayRange"
   ]
  },
  {
   "cell_type": "markdown",
   "metadata": {},
   "source": [
    "It's important to know how to manipulate arrays.... there are sometimes built in functions you can use, though. See the following few code blocks...\n",
    "\n",
    "Alternative: Matrix functions:"
   ]
  },
  {
   "cell_type": "code",
   "execution_count": null,
   "metadata": {},
   "outputs": [],
   "source": [
    "arrGreater4 = np.where(np.greater_equal(myArray,4),1,0)\n",
    "print arrGreater4"
   ]
  },
  {
   "cell_type": "code",
   "execution_count": null,
   "metadata": {},
   "outputs": [],
   "source": [
    "arrLess6 = np.where(np.less_equal(myArray,6),1,0)\n",
    "print arrLess6"
   ]
  },
  {
   "cell_type": "code",
   "execution_count": null,
   "metadata": {},
   "outputs": [],
   "source": [
    "result = np.multiply(arrGreater4,arrLess6)\n",
    "print result\n",
    "\n",
    "\n",
    "# or alternatively, pack it all into one line:\n",
    "# result = np.multiply(np.where(np.greater_equal(myArray,4),1,0),np.where(np.less_equal(myArray,6),1,0))\n",
    "# print result"
   ]
  },
  {
   "cell_type": "code",
   "execution_count": null,
   "metadata": {},
   "outputs": [],
   "source": [
    "print myArrayRange\n",
    "print result"
   ]
  },
  {
   "cell_type": "markdown",
   "metadata": {},
   "source": [
    "### Same result, different approach... but good to understand the manual way in case you need to customize... which you will of course!\n",
    "\n",
    "#### And a final thought: \n",
    "If you've ever used something like the raster calculator in ArcGIS to create a binary model, you've just accomplished the same task here. Soon, we will start applying this approach toward working with raster data--which are essentially just great big arrays!  \n",
    "\n",
    "The cool thing here is that it helps you understand what a raster is and how rasters are manipulated in a more fundamental way. You're leveling up!"
   ]
  }
 ],
 "metadata": {
  "kernelspec": {
   "display_name": "Python 2",
   "language": "python",
   "name": "python2"
  },
  "language_info": {
   "codemirror_mode": {
    "name": "ipython",
    "version": 2
   },
   "file_extension": ".py",
   "mimetype": "text/x-python",
   "name": "python",
   "nbconvert_exporter": "python",
   "pygments_lexer": "ipython2",
   "version": "2.7.15"
  }
 },
 "nbformat": 4,
 "nbformat_minor": 2
}
