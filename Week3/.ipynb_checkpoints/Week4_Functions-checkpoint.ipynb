{
 "cells": [
  {
   "cell_type": "markdown",
   "metadata": {},
   "source": [
    "## Functions!  \n",
    "\n",
    "Functions are blocks of code that only run when you call them. First you define a function, then you call it. You have already been using numerous functions from ArcPy and other libraries. But you can create your own as well.  \n",
    "\n",
    "Functions are useful for minimizing repetition in your script. They are also a step toward modularity in your code. More on that later.  \n",
    "\n",
    "Let's start with a basic function:  \n",
    "\n",
    "You define a function using `def`\n",
    "```python\n",
    "def myFct():\n",
    "    print 'function output'\n",
    "```"
   ]
  },
  {
   "cell_type": "code",
   "execution_count": 78,
   "metadata": {},
   "outputs": [],
   "source": []
  },
  {
   "cell_type": "markdown",
   "metadata": {},
   "source": [
    "You call a function simply by running the function name followed by parentheses:\n",
    "```python\n",
    "myFct()\n",
    "```"
   ]
  },
  {
   "cell_type": "code",
   "execution_count": null,
   "metadata": {},
   "outputs": [],
   "source": []
  },
  {
   "cell_type": "markdown",
   "metadata": {},
   "source": [
    "In a function, you use `return` to return some sort of data from the function which can be used in your main script.  \n",
    "\n",
    "The default `return` value is `None`.  If a function lacks a `return` statement, then the function implicitly contains a `return None` statement. \n",
    "```python\n",
    "def myFct2():\n",
    "    something = 1\n",
    "    return something\n",
    "```"
   ]
  },
  {
   "cell_type": "code",
   "execution_count": 89,
   "metadata": {},
   "outputs": [],
   "source": []
  },
  {
   "cell_type": "markdown",
   "metadata": {},
   "source": [
    "```python\n",
    "myFct2()\n",
    "```"
   ]
  },
  {
   "cell_type": "code",
   "execution_count": null,
   "metadata": {},
   "outputs": [],
   "source": []
  },
  {
   "cell_type": "markdown",
   "metadata": {},
   "source": [
    "### DocString  \n",
    "Any function intended to be re-used (that is, a \"non-trivial\" function), it should contain a document string (aka DocString).  \n",
    "\n",
    "A docstring begins and ends with: `'''`. The first line defines briefly what the function does, followed by a blank line, then further explanation:\n",
    "```python\n",
    "def myFct3(param):\n",
    "    '''\n",
    "    DocStrings contain info about how the function works.\n",
    "    \n",
    "    For example:\n",
    "    param value must be a number\n",
    "    '''\n",
    "    \n",
    "    output = param*2\n",
    "    \n",
    "    return output   \n",
    "```"
   ]
  },
  {
   "cell_type": "code",
   "execution_count": 91,
   "metadata": {},
   "outputs": [],
   "source": [
    " "
   ]
  },
  {
   "cell_type": "markdown",
   "metadata": {},
   "source": [
    "```python\n",
    "myFct3(20)\n",
    "```"
   ]
  },
  {
   "cell_type": "code",
   "execution_count": 92,
   "metadata": {},
   "outputs": [
    {
     "data": {
      "text/plain": [
       "40"
      ]
     },
     "execution_count": 92,
     "metadata": {},
     "output_type": "execute_result"
    }
   ],
   "source": []
  },
  {
   "cell_type": "markdown",
   "metadata": {},
   "source": [
    "DocStrings are extremely useful. You don't have to have the script containing the function open to read it's docstring, you can simply print it like so:\n",
    "```python\n",
    "print myFct3.__doc__\n",
    "```"
   ]
  },
  {
   "cell_type": "code",
   "execution_count": null,
   "metadata": {},
   "outputs": [],
   "source": []
  },
  {
   "cell_type": "markdown",
   "metadata": {},
   "source": [
    "Or, you can call the help function with the function in question as the parameter:\n",
    "```python\n",
    "help(myFct3)\n",
    "```"
   ]
  },
  {
   "cell_type": "code",
   "execution_count": null,
   "metadata": {},
   "outputs": [],
   "source": []
  },
  {
   "cell_type": "markdown",
   "metadata": {},
   "source": [
    "Try some other functions...  \n",
    "```python\n",
    "print bool().__doc__\n",
    "```"
   ]
  },
  {
   "cell_type": "code",
   "execution_count": null,
   "metadata": {},
   "outputs": [],
   "source": []
  },
  {
   "cell_type": "markdown",
   "metadata": {},
   "source": [
    "### Function Parameters  \n",
    "\n",
    "Function parameters are what the user enters into the parentheses of the function when called.  \n",
    "\n",
    "**Parameters** are also known as **Arguements**. These terms are synonymous. In documentation and various other forums and posts, you may see this as **params** or **args**.  \n",
    "\n",
    "Parameters are input values the user supplies to the function to make it do something with the input values.  \n",
    "\n",
    "A function can have zero parameters. This is not unusual:  \n",
    "```python\n",
    "def fct_no_params():\n",
    "    a = 8\n",
    "    b = 9\n",
    "    c = 7\n",
    "    \n",
    "    d = a*b*c\n",
    "    \n",
    "    return d\n",
    "```"
   ]
  },
  {
   "cell_type": "code",
   "execution_count": 95,
   "metadata": {},
   "outputs": [],
   "source": []
  },
  {
   "cell_type": "markdown",
   "metadata": {},
   "source": [
    "```python\n",
    "fct_no_params()\n",
    "```"
   ]
  },
  {
   "cell_type": "code",
   "execution_count": 96,
   "metadata": {},
   "outputs": [
    {
     "data": {
      "text/plain": [
       "504"
      ]
     },
     "execution_count": 96,
     "metadata": {},
     "output_type": "execute_result"
    }
   ],
   "source": []
  },
  {
   "cell_type": "markdown",
   "metadata": {},
   "source": [
    "```python\n",
    "def fct_w_params(a,b,c):\n",
    "    \n",
    "    c = a-b\n",
    "    d = c*2\n",
    "    \n",
    "    return d\n",
    "```"
   ]
  },
  {
   "cell_type": "code",
   "execution_count": 114,
   "metadata": {},
   "outputs": [],
   "source": []
  },
  {
   "cell_type": "markdown",
   "metadata": {},
   "source": [
    "```python\n",
    "fct_w_params(5, 10, 3)\n",
    "```"
   ]
  },
  {
   "cell_type": "code",
   "execution_count": null,
   "metadata": {},
   "outputs": [],
   "source": []
  },
  {
   "cell_type": "markdown",
   "metadata": {},
   "source": [
    "Note that you can create a variable from the return data of a function if you need to use it in your script: \n",
    "```python\n",
    "thing = fct_w_params(-4, -50, 4)\n",
    "print thing\n",
    "```"
   ]
  },
  {
   "cell_type": "code",
   "execution_count": null,
   "metadata": {},
   "outputs": [],
   "source": []
  },
  {
   "cell_type": "markdown",
   "metadata": {},
   "source": [
    "Control flow within a function lets you assign different return values following a given scenario: \n",
    "```python\n",
    "def fct_if(a,b,c):\n",
    "    \n",
    "    d = a*b*c\n",
    "    \n",
    "    if d == 0:\n",
    "        print 'Due to one factor being 0, the result is 0'\n",
    "        return d\n",
    "    else:\n",
    "        d != 0\n",
    "        return d\n",
    "```"
   ]
  },
  {
   "cell_type": "code",
   "execution_count": 118,
   "metadata": {},
   "outputs": [],
   "source": []
  },
  {
   "cell_type": "markdown",
   "metadata": {},
   "source": [
    "```\n",
    "fct_if()\n",
    "```"
   ]
  },
  {
   "cell_type": "code",
   "execution_count": null,
   "metadata": {},
   "outputs": [],
   "source": []
  },
  {
   "cell_type": "markdown",
   "metadata": {},
   "source": [
    "Functions can also return multiple values:\n",
    "```python\n",
    "def fct_mult_rets(a,b,c):\n",
    "    d = a*b*c\n",
    "    e = a/b/c\n",
    "    return d,e\n",
    "```"
   ]
  },
  {
   "cell_type": "code",
   "execution_count": 120,
   "metadata": {},
   "outputs": [],
   "source": []
  },
  {
   "cell_type": "markdown",
   "metadata": {},
   "source": [
    "```python\n",
    "fct_mult_rets(12, 3, 2)\n",
    "```"
   ]
  },
  {
   "cell_type": "code",
   "execution_count": null,
   "metadata": {},
   "outputs": [],
   "source": []
  },
  {
   "cell_type": "markdown",
   "metadata": {},
   "source": [
    "Note that this results in a tuple. How does one access these? "
   ]
  },
  {
   "cell_type": "code",
   "execution_count": null,
   "metadata": {},
   "outputs": [],
   "source": []
  },
  {
   "cell_type": "markdown",
   "metadata": {},
   "source": [
    "#### Default arguments  \n",
    "\n",
    "You can set optional or default parameters. These can be omitted by the user, in which case the default value will be used. Or, they can be specified and overriden by the user:  "
   ]
  },
  {
   "cell_type": "code",
   "execution_count": 128,
   "metadata": {},
   "outputs": [],
   "source": [
    "def fct_w_def(a, b, c=4): # c=4 is a default parameter/arguement. The user does not need to specify a value\n",
    "    \n",
    "    d = a*b*c\n",
    "    return d"
   ]
  },
  {
   "cell_type": "code",
   "execution_count": null,
   "metadata": {},
   "outputs": [],
   "source": [
    "fct_w_key()"
   ]
  },
  {
   "cell_type": "code",
   "execution_count": null,
   "metadata": {},
   "outputs": [],
   "source": []
  },
  {
   "cell_type": "markdown",
   "metadata": {},
   "source": [
    "## Challenge time!  \n",
    "\n",
    "Below is a script/code block that turns a text file of x,y coordinates into a line shapefile... review and run it."
   ]
  },
  {
   "cell_type": "code",
   "execution_count": null,
   "metadata": {},
   "outputs": [],
   "source": [
    "import arcpy\n",
    "from arcpy import env\n",
    "\n",
    "env.workspace = r'C:\\Users\\phwh9568\\GEOG_4303\\Week3'\n",
    "line = 'results\\myNewLine.shp'\n",
    "arcpy.management.CreateFeatureclass(env.workspace, line, 'polyline')"
   ]
  },
  {
   "cell_type": "code",
   "execution_count": 69,
   "metadata": {},
   "outputs": [],
   "source": [
    "# read in a text file. \n",
    "#The first line represents x coordinates separated by a comma, \n",
    "#the second line are y coords.\n",
    "textFile = open(r'c:/your/path/GEOG_4303/week3/data/coords.txt')\n",
    "x_coords_string = textFile.readline() # var representing x coords\n",
    "y_coords_string = textFile.readline() # var representing y coords\n",
    "textFile.close()\n",
    "\n",
    "# split coordinate strings into lists\n",
    "xCoords = x_coords_string.split(',') # splits string of x coords into list\n",
    "yCoords = y_coords_string.split(',') # splits string of y coords into list\n",
    "\n",
    "\n",
    "lineArray = arcpy.CreateObject('array')\n",
    "point = arcpy.CreateObject('point')\n",
    "\n",
    "with arcpy.da.InsertCursor(line,['SHAPE@']) as cursor:\n",
    "    for i in range(len(xCoords)):\n",
    "        point.X = xCoords[i]\n",
    "        point.Y = yCoords[i]\n",
    "        lineArray.add(point)\n",
    "        \n",
    "    newPolyLine = arcpy.Polyline(lineArray)\n",
    "    cursor.insertRow([newPolyLine])\n",
    "    lineArray.removeAll() #clear out the array"
   ]
  },
  {
   "cell_type": "markdown",
   "metadata": {},
   "source": [
    "Okay, so that works, but... let's up our game here.  \n",
    "\n",
    "You will create two functions:\n",
    "1. The first will run through the process of reading the x and y coordinates and return them as strings\n",
    "2. The second will split coordinate strings into a list you can iterate over."
   ]
  },
  {
   "cell_type": "code",
   "execution_count": 67,
   "metadata": {},
   "outputs": [
    {
     "name": "stdout",
     "output_type": "stream",
     "text": [
      "Blew up the myNewLine.shp\n"
     ]
    }
   ],
   "source": [
    "if arcpy.Exists(line):\n",
    "    arcpy.management.Delete(line)\n",
    "    print 'Blew up the', line\n",
    "    \n",
    "else:\n",
    "    print 'Nothing to explode'"
   ]
  },
  {
   "cell_type": "markdown",
   "metadata": {},
   "source": [
    "Recreate as needed"
   ]
  },
  {
   "cell_type": "code",
   "execution_count": 65,
   "metadata": {},
   "outputs": [
    {
     "data": {
      "text/plain": [
       "<Result 'C:\\\\Users\\\\phwh9568\\\\GEOG_4303\\\\Week3\\\\results\\\\myNewLine.shp'>"
      ]
     },
     "execution_count": 65,
     "metadata": {},
     "output_type": "execute_result"
    }
   ],
   "source": [
    "line = 'myNewLine.shp'\n",
    "arcpy.management.CreateFeatureclass(env.workspace, line, 'polyline')"
   ]
  },
  {
   "cell_type": "markdown",
   "metadata": {},
   "source": [
    "Create your functions in the next two cells"
   ]
  },
  {
   "cell_type": "code",
   "execution_count": 59,
   "metadata": {},
   "outputs": [],
   "source": [
    "def text2str(text_File):\n",
    "    '''\n",
    "    put the procedures your function will execute below \n",
    "    '''\n",
    "    \n",
    "    \n",
    "    "
   ]
  },
  {
   "cell_type": "code",
   "execution_count": 63,
   "metadata": {},
   "outputs": [],
   "source": [
    "def coordSplitter(coords_str):\n",
    "    '''\n",
    "    put the procedures your function will execute below \n",
    "    '''    \n",
    "    \n",
    "    \n",
    "    "
   ]
  },
  {
   "cell_type": "markdown",
   "metadata": {},
   "source": [
    "Modify the codeblock below to incorporate your functions and their outputs"
   ]
  },
  {
   "cell_type": "code",
   "execution_count": 66,
   "metadata": {},
   "outputs": [],
   "source": [
    "textFile = open(r'c:/users/phwh9568/GEOG_4303/week3/data/coords.txt')\n",
    "\n",
    "\n",
    "#input parameter should be the textfile,\n",
    "#output should be string of x coords and strong of y coords\n",
    "text2str() # do something with this :-)\n",
    "\n",
    "\n",
    "#input parameter should be string of x coords and string of y coords, \n",
    "#output should be list of x coords and list of y coords\n",
    "coordSplitter() # do something with this :-)\n",
    "\n",
    "# now modify the code below to incorporate the outputs\n",
    "lineArray = arcpy.CreateObject('array')\n",
    "point = arcpy.CreateObject('point')\n",
    "\n",
    "with arcpy.da.InsertCursor(line,['SHAPE@']) as cursor:\n",
    "    for i in range(len(xCoords)):\n",
    "        point.X = xCoords[i]\n",
    "        point.Y = yCoords[i]\n",
    "        lineArray.add(point)\n",
    "        \n",
    "    newPolyLine = arcpy.Polyline(lineArray)\n",
    "    cursor.insertRow([newPolyLine])\n",
    "    lineArray.removeAll() #clear out the array"
   ]
  },
  {
   "cell_type": "markdown",
   "metadata": {},
   "source": [
    "### Keyword Arguments  \n",
    "\n",
    "If you have lots of parameters going into a function, it can help to use keyword arguements.*  \n",
    "\n",
    "In the above examples, we specified arguments based on their position or sequence within the `()`.  \n",
    "\n",
    "With keyword arguments (aka kwargs) you don't need to specify based on position, you just name it with the keyword. This is helpful if there are many optional keyword arguments.  **Note that you see this frequently in ArcPy documentation.**  \n",
    "\n",
    "***But watch out, these can be confusing and weird to use**"
   ]
  },
  {
   "cell_type": "code",
   "execution_count": 163,
   "metadata": {},
   "outputs": [],
   "source": [
    "def fct_kwargs(a,b=50,c=200):\n",
    "    d = a*b*c\n",
    "    \n",
    "    return d"
   ]
  },
  {
   "cell_type": "code",
   "execution_count": null,
   "metadata": {},
   "outputs": [],
   "source": [
    "fct_kwargs() #fiddle with positions of args/kwargs"
   ]
  },
  {
   "cell_type": "markdown",
   "metadata": {},
   "source": [
    "Note that you can still enter the kwargs positionally without their keys...  \n",
    "  \n",
    "  \n",
    "### Variable Arguments  \n",
    "\n",
    "Or VarArgs. Sometimes you may want the function to accept a variable number of arguments (args) or keyword arguments (kwargs).  \n",
    "\n",
    "You can indicate this in your function using `*`s...  \n",
    "\n",
    "If you want a variable number of arguments, you use one `*`:  "
   ]
  },
  {
   "cell_type": "code",
   "execution_count": 237,
   "metadata": {},
   "outputs": [],
   "source": [
    "def fct_vargs(*numbers):\n",
    "    print numbers\n",
    "    \n",
    "    return numbers[0] * numbers[1] * numbers[2]"
   ]
  },
  {
   "cell_type": "code",
   "execution_count": 240,
   "metadata": {},
   "outputs": [
    {
     "name": "stdout",
     "output_type": "stream",
     "text": [
      "(3, 5, 6)\n"
     ]
    },
    {
     "data": {
      "text/plain": [
       "90"
      ]
     },
     "execution_count": 240,
     "metadata": {},
     "output_type": "execute_result"
    }
   ],
   "source": [
    "fct_vargs(3,5,6)"
   ]
  },
  {
   "cell_type": "markdown",
   "metadata": {},
   "source": [
    "Variable Arguments (`*args`) are interpreted as a tuple.  \n",
    "\n",
    "Here's another version of the above:  "
   ]
  },
  {
   "cell_type": "code",
   "execution_count": 232,
   "metadata": {},
   "outputs": [],
   "source": [
    "def fct_vargs_wkey(multiplier = 3, *numbers):\n",
    "    out_list = []\n",
    "    for i in range(len(numbers)):\n",
    "        out = numbers[i]*multiplier\n",
    "        out_list.append(out)\n",
    "    \n",
    "    return out_list"
   ]
  },
  {
   "cell_type": "code",
   "execution_count": 233,
   "metadata": {},
   "outputs": [
    {
     "data": {
      "text/plain": [
       "[20, 30, 10, 30, 455]"
      ]
     },
     "execution_count": 233,
     "metadata": {},
     "output_type": "execute_result"
    }
   ],
   "source": [
    "fct_vargs_wkey(5, 4, 6, 2, 6, 91)"
   ]
  },
  {
   "cell_type": "code",
   "execution_count": 223,
   "metadata": {},
   "outputs": [],
   "source": [
    "args = 10,13,65"
   ]
  },
  {
   "cell_type": "code",
   "execution_count": 212,
   "metadata": {},
   "outputs": [
    {
     "data": {
      "text/plain": [
       "3"
      ]
     },
     "execution_count": 212,
     "metadata": {},
     "output_type": "execute_result"
    }
   ],
   "source": [
    "len(args)"
   ]
  },
  {
   "cell_type": "code",
   "execution_count": 231,
   "metadata": {},
   "outputs": [
    {
     "ename": "SyntaxError",
     "evalue": "non-keyword arg after keyword arg (<ipython-input-231-77afbd37143c>, line 1)",
     "output_type": "error",
     "traceback": [
      "\u001b[1;36m  File \u001b[1;32m\"<ipython-input-231-77afbd37143c>\"\u001b[1;36m, line \u001b[1;32m1\u001b[0m\n\u001b[1;33m    fct_vargs_wkey(multiplier=3, args)\u001b[0m\n\u001b[1;31mSyntaxError\u001b[0m\u001b[1;31m:\u001b[0m non-keyword arg after keyword arg\n"
     ]
    }
   ],
   "source": [
    "fct_vargs_wkey(multiplier=3, args)"
   ]
  },
  {
   "cell_type": "code",
   "execution_count": 197,
   "metadata": {},
   "outputs": [
    {
     "data": {
      "text/plain": [
       "65"
      ]
     },
     "execution_count": 197,
     "metadata": {},
     "output_type": "execute_result"
    }
   ],
   "source": [
    "args[2]"
   ]
  },
  {
   "cell_type": "code",
   "execution_count": 241,
   "metadata": {},
   "outputs": [],
   "source": [
    "def thingy(num,multiplier=3):\n",
    "    out = num*multiplier\n",
    "    return out"
   ]
  },
  {
   "cell_type": "code",
   "execution_count": 242,
   "metadata": {},
   "outputs": [
    {
     "data": {
      "text/plain": [
       "9"
      ]
     },
     "execution_count": 242,
     "metadata": {},
     "output_type": "execute_result"
    }
   ],
   "source": [
    "thingy(3)"
   ]
  },
  {
   "cell_type": "code",
   "execution_count": 259,
   "metadata": {},
   "outputs": [],
   "source": [
    "def thing2(multiplier = 3, *nums):\n",
    "    print nums\n",
    "    out = [multiplier * num for num in nums]\n",
    "    return tuple(out)"
   ]
  },
  {
   "cell_type": "code",
   "execution_count": 260,
   "metadata": {},
   "outputs": [
    {
     "name": "stdout",
     "output_type": "stream",
     "text": [
      "(2, 4, 5)\n"
     ]
    },
    {
     "data": {
      "text/plain": [
       "(6, 12, 15)"
      ]
     },
     "execution_count": 260,
     "metadata": {},
     "output_type": "execute_result"
    }
   ],
   "source": [
    "thing2(3,2,4,5)"
   ]
  },
  {
   "cell_type": "code",
   "execution_count": 251,
   "metadata": {},
   "outputs": [],
   "source": [
    "nums = 2,4,5"
   ]
  },
  {
   "cell_type": "code",
   "execution_count": 253,
   "metadata": {},
   "outputs": [
    {
     "name": "stdout",
     "output_type": "stream",
     "text": [
      "((2, 4, 5),)\n"
     ]
    },
    {
     "data": {
      "text/plain": [
       "((2, 4, 5, 2, 4, 5, 2, 4, 5),)"
      ]
     },
     "execution_count": 253,
     "metadata": {},
     "output_type": "execute_result"
    }
   ],
   "source": [
    "thing2(3,nums)"
   ]
  },
  {
   "cell_type": "code",
   "execution_count": 254,
   "metadata": {},
   "outputs": [],
   "source": [
    "def say(message, times=1):\n",
    "    print(message * times)"
   ]
  },
  {
   "cell_type": "code",
   "execution_count": 257,
   "metadata": {},
   "outputs": [
    {
     "name": "stdout",
     "output_type": "stream",
     "text": [
      "Hello\n"
     ]
    }
   ],
   "source": [
    "say('Hello')"
   ]
  },
  {
   "cell_type": "code",
   "execution_count": 258,
   "metadata": {},
   "outputs": [
    {
     "name": "stdout",
     "output_type": "stream",
     "text": [
      "WorldWorldWorldWorldWorld\n"
     ]
    }
   ],
   "source": [
    "say('World',5)"
   ]
  },
  {
   "cell_type": "code",
   "execution_count": 1,
   "metadata": {},
   "outputs": [],
   "source": [
    "import pythag"
   ]
  },
  {
   "cell_type": "code",
   "execution_count": 2,
   "metadata": {},
   "outputs": [
    {
     "data": {
      "text/plain": [
       "'\\n    Pythagorean theorem function.\\n    \\n    Performs the square root of a to the power of 2 plus b to the power of 2\\n    b param is optional. If no b input provided, 50 will be used by default.\\n    '"
      ]
     },
     "execution_count": 2,
     "metadata": {},
     "output_type": "execute_result"
    }
   ],
   "source": [
    "pythag.pyth.__doc__"
   ]
  },
  {
   "cell_type": "code",
   "execution_count": 3,
   "metadata": {},
   "outputs": [
    {
     "name": "stdout",
     "output_type": "stream",
     "text": [
      "\n",
      "    Pythagorean theorem function.\n",
      "    \n",
      "    Performs the square root of a to the power of 2 plus b to the power of 2\n",
      "    b param is optional. If no b input provided, 50 will be used by default.\n",
      "    \n"
     ]
    }
   ],
   "source": [
    "print pythag.pyth.__doc__"
   ]
  },
  {
   "cell_type": "code",
   "execution_count": 5,
   "metadata": {},
   "outputs": [
    {
     "name": "stdout",
     "output_type": "stream",
     "text": [
      "Help on function sqrt in module pythag:\n",
      "\n",
      "sqrt(n)\n",
      "    Square root function.\n",
      "    \n",
      "    n parameter can be any number.\n",
      "    \n",
      "    returns square root of that number by raising it to .5 power\n",
      "\n"
     ]
    }
   ],
   "source": [
    "help(pythag.sqrt)"
   ]
  },
  {
   "cell_type": "code",
   "execution_count": null,
   "metadata": {},
   "outputs": [],
   "source": []
  }
 ],
 "metadata": {
  "kernelspec": {
   "display_name": "Python 2",
   "language": "python",
   "name": "python2"
  },
  "language_info": {
   "codemirror_mode": {
    "name": "ipython",
    "version": 2
   },
   "file_extension": ".py",
   "mimetype": "text/x-python",
   "name": "python",
   "nbconvert_exporter": "python",
   "pygments_lexer": "ipython2",
   "version": "2.7.15"
  }
 },
 "nbformat": 4,
 "nbformat_minor": 2
}
