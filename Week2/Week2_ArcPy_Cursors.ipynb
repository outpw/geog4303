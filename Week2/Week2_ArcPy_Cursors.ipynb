{
 "cells": [
  {
   "cell_type": "code",
   "execution_count": null,
   "metadata": {},
   "outputs": [],
   "source": []
  },
  {
   "cell_type": "code",
   "execution_count": 1,
   "metadata": {},
   "outputs": [],
   "source": [
    "import arcpy\n",
    "import traceback\n",
    "import sys\n",
    "from arcpy import env"
   ]
  },
  {
   "cell_type": "code",
   "execution_count": 2,
   "metadata": {},
   "outputs": [],
   "source": [
    "env.workspace = r'C:\\Users\\phwh9568\\GEOG_4303\\GEOG_4303_5303\\Week2'"
   ]
  },
  {
   "cell_type": "code",
   "execution_count": 6,
   "metadata": {},
   "outputs": [],
   "source": [
    "inFC = r'/data/lyons_mrd.shp'\n",
    "copyFC = r'results/cp_lyons_mrd1.shp'\n",
    "count80540 = 0"
   ]
  },
  {
   "cell_type": "code",
   "execution_count": 5,
   "metadata": {},
   "outputs": [
    {
     "data": {
      "text/plain": [
       "<Result 'C:\\\\Users\\\\phwh9568\\\\GEOG_4303\\\\GEOG_4303_5303\\\\Week2\\\\\\\\results\\\\cp_lyons_mrd1.shp'>"
      ]
     },
     "execution_count": 5,
     "metadata": {},
     "output_type": "execute_result"
    }
   ],
   "source": [
    "arcpy.management.Copy(inFC,copyFC)"
   ]
  },
  {
   "cell_type": "code",
   "execution_count": null,
   "metadata": {},
   "outputs": [],
   "source": []
  },
  {
   "cell_type": "code",
   "execution_count": 15,
   "metadata": {},
   "outputs": [
    {
     "ename": "SystemError",
     "evalue": "error return without exception set",
     "output_type": "error",
     "traceback": [
      "\u001b[1;31m---------------------------------------------------------------------------\u001b[0m",
      "\u001b[1;31mSystemError\u001b[0m                               Traceback (most recent call last)",
      "\u001b[1;32m<ipython-input-15-468ddc5dd37c>\u001b[0m in \u001b[0;36m<module>\u001b[1;34m()\u001b[0m\n\u001b[0;32m      1\u001b[0m \u001b[1;32mwith\u001b[0m \u001b[0marcpy\u001b[0m\u001b[1;33m.\u001b[0m\u001b[0mda\u001b[0m\u001b[1;33m.\u001b[0m\u001b[0mSearchCursor\u001b[0m\u001b[1;33m(\u001b[0m\u001b[0mcopyFC\u001b[0m\u001b[1;33m,\u001b[0m\u001b[1;33m[\u001b[0m\u001b[1;34m'FID'\u001b[0m\u001b[1;33m,\u001b[0m \u001b[1;34m'ZIPL'\u001b[0m\u001b[1;33m]\u001b[0m\u001b[1;33m)\u001b[0m \u001b[1;32mas\u001b[0m \u001b[0msCursor\u001b[0m\u001b[1;33m:\u001b[0m\u001b[1;33m\u001b[0m\u001b[0m\n\u001b[1;32m----> 2\u001b[1;33m     \u001b[1;32mprint\u001b[0m \u001b[0msCursor\u001b[0m\u001b[1;33m[\u001b[0m\u001b[1;36m0\u001b[0m\u001b[1;33m]\u001b[0m\u001b[1;33m\u001b[0m\u001b[0m\n\u001b[0m",
      "\u001b[1;31mSystemError\u001b[0m: error return without exception set"
     ]
    }
   ],
   "source": [
    "with arcpy.da.SearchCursor(copyFC,['FID', 'ZIPL']) as sCursor:\n",
    "    print sCursor[0]"
   ]
  },
  {
   "cell_type": "code",
   "execution_count": 12,
   "metadata": {},
   "outputs": [
    {
     "name": "stdout",
     "output_type": "stream",
     "text": [
      "Zip at 17 is 80540\n",
      "Zip at 20 is 80540\n",
      "Zip at 23 is 80540\n",
      "Zip at 31 is 80540\n",
      "Zip at 32 is 80540\n",
      "Zip at 34 is 80540\n",
      "Zip at 35 is 80540\n",
      "Zip at 36 is 80540\n",
      "Zip at 46 is 80540\n",
      "Zip at 49 is 80540\n",
      "Zip at 50 is 80540\n",
      "Zip at 51 is 80540\n",
      "Zip at 52 is 80540\n",
      "Zip at 55 is 80540\n",
      "Zip at 57 is 80540\n",
      "Zip at 59 is 80540\n",
      "Zip at 60 is 80540\n",
      "Zip at 64 is 80540\n",
      "Zip at 69 is 80540\n",
      "Zip at 70 is 80540\n",
      "Zip at 72 is 80540\n",
      "Zip at 74 is 80540\n",
      "Zip at 75 is 80540\n",
      "Zip at 76 is 80540\n",
      "Zip at 77 is 80540\n",
      "Zip at 79 is 80540\n",
      "Zip at 80 is 80540\n",
      "Zip at 81 is 80540\n",
      "Zip at 91 is 80540\n",
      "Zip at 93 is 80540\n",
      "Zip at 95 is 80540\n",
      "Zip at 96 is 80540\n",
      "Zip at 97 is 80540\n",
      "Zip at 98 is 80540\n",
      "Zip at 99 is 80540\n",
      "Zip at 100 is 80540\n",
      "Zip at 101 is 80540\n",
      "Zip at 102 is 80540\n",
      "Zip at 103 is 80540\n",
      "Zip at 104 is 80540\n",
      "Zip at 105 is 80540\n",
      "Zip at 106 is 80540\n",
      "The Zip 80540 occurs 168 times.\n"
     ]
    }
   ],
   "source": [
    "sCursor = arcpy.da.SearchCursor(copyFC,['FID','ZIPL'])\n",
    "for row in sCursor:\n",
    "    if row[1] == '80540':\n",
    "        count80540 += 1\n",
    "        print 'Zip at ' + str(row[0]) + ' is ' + str(row[1])\n",
    "        \n",
    "print 'The Zip 80540 occurs ' + str(count80540) + ' times.'\n",
    "\n",
    "del sCursor"
   ]
  },
  {
   "cell_type": "code",
   "execution_count": null,
   "metadata": {},
   "outputs": [],
   "source": []
  }
 ],
 "metadata": {
  "kernelspec": {
   "display_name": "Python 2",
   "language": "python",
   "name": "python2"
  },
  "language_info": {
   "codemirror_mode": {
    "name": "ipython",
    "version": 2
   },
   "file_extension": ".py",
   "mimetype": "text/x-python",
   "name": "python",
   "nbconvert_exporter": "python",
   "pygments_lexer": "ipython2",
   "version": "2.7.15"
  }
 },
 "nbformat": 4,
 "nbformat_minor": 2
}
