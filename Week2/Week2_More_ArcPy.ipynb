{
 "cells": [
  {
   "cell_type": "markdown",
   "metadata": {},
   "source": [
    "## ArcPy  "
   ]
  },
  {
   "cell_type": "code",
   "execution_count": 1,
   "metadata": {},
   "outputs": [],
   "source": [
    "import arcpy\n",
    "import traceback\n",
    "import sys\n",
    "from arcpy import env"
   ]
  },
  {
   "cell_type": "markdown",
   "metadata": {},
   "source": [
    "Set your workspace:"
   ]
  },
  {
   "cell_type": "code",
   "execution_count": 4,
   "metadata": {},
   "outputs": [],
   "source": [
    "env.workspace = r'C:\\Users\\phwh9568\\GEOG_4303\\GEOG_4303_5303\\Week2\\data'"
   ]
  },
  {
   "cell_type": "markdown",
   "metadata": {},
   "source": [
    "Let's take a look at `arcpy.ListFeatureClasses()`: https://desktop.arcgis.com/en/arcmap/latest/analyze/arcpy-functions/listfeatureclasses.htm  \n",
    "\n",
    "works like this: `ListFeatureClasses ({wild_card}, {feature_type}, {feature_dataset})`. All args are optional."
   ]
  },
  {
   "cell_type": "code",
   "execution_count": 21,
   "metadata": {},
   "outputs": [
    {
     "data": {
      "text/plain": [
       "[u'lyons_mrd.shp',\n",
       " u'samplePNT1_1972.shp',\n",
       " u'samplePNT1_1973.shp',\n",
       " u'samplePNT1_1974.shp',\n",
       " u'samplePNT1_1975.shp',\n",
       " u'samplePNT1_1976.shp',\n",
       " u'samplePNT1_1977.shp',\n",
       " u'samplePNT1_1978.shp']"
      ]
     },
     "execution_count": 21,
     "metadata": {},
     "output_type": "execute_result"
    }
   ],
   "source": [
    "arcpy.ListFeatureClasses()"
   ]
  },
  {
   "cell_type": "markdown",
   "metadata": {},
   "source": [
    "You can also return fields of a feature class using:  \n",
    "`arcpy.ListFields()`  https://desktop.arcgis.com/en/arcmap/latest/analyze/arcpy-functions/listfields.htm  \n",
    "\n",
    "But it works a little differently...  \n",
    "\n",
    "Works like this: `ListFields (dataset, {wild_card}, {field_type})` dataset input is required, other args are optional"
   ]
  },
  {
   "cell_type": "code",
   "execution_count": 24,
   "metadata": {},
   "outputs": [
    {
     "data": {
      "text/plain": [
       "[<Field object at 0x5aa3550[0x50f77b8]>,\n",
       " <Field object at 0x5aa3590[0x50f73b0]>,\n",
       " <Field object at 0x5aa35b0[0x50f7458]>,\n",
       " <Field object at 0x5aa35f0[0x50f7b78]>,\n",
       " <Field object at 0x5aa3610[0x50f7ce0]>,\n",
       " <Field object at 0x58159b0[0x50f7bd8]>,\n",
       " <Field object at 0x5815b50[0x50f74a0]>,\n",
       " <Field object at 0x5aa3630[0x50f75d8]>,\n",
       " <Field object at 0x5aa3650[0x50f75f0]>,\n",
       " <Field object at 0x5aa3670[0x50f7818]>,\n",
       " <Field object at 0x5aa3690[0x50f7920]>,\n",
       " <Field object at 0x5aa36b0[0x50f7a70]>,\n",
       " <Field object at 0x5aa36d0[0x50f7d70]>]"
      ]
     },
     "execution_count": 24,
     "metadata": {},
     "output_type": "execute_result"
    }
   ],
   "source": [
    "inputFile = r'data/lyons_mrd.shp'\n",
    "\n",
    "arcpy.ListFields(inputFile)"
   ]
  },
  {
   "cell_type": "code",
   "execution_count": 28,
   "metadata": {},
   "outputs": [
    {
     "name": "stdout",
     "output_type": "stream",
     "text": [
      "FID OID 4\n",
      "Shape Geometry 0\n",
      "L_F_ADD String 11\n",
      "L_T_ADD String 11\n",
      "R_F_ADD String 11\n",
      "R_T_ADD String 11\n",
      "PREFIX String 2\n",
      "NAME String 30\n",
      "TYPE String 4\n",
      "SUFFIX String 2\n",
      "CFCC String 3\n",
      "ZIPL String 5\n",
      "ZIPR String 5\n"
     ]
    }
   ],
   "source": [
    "fields = arcpy.ListFields(inputFile)\n",
    "\n",
    "for field in fields:\n",
    "    print field.name, field.type, field.length"
   ]
  },
  {
   "cell_type": "markdown",
   "metadata": {},
   "source": [
    "### Describe function:  \n",
    "\n",
    "`arcpy.Describe()` has many [properties](https://desktop.arcgis.com/en/arcmap/latest/analyze/arcpy-functions/describe-object-properties.htm) you can return, like this:  \n",
    "\n",
    "`arcpy.Describe(dataSet).path`  \n",
    "\n",
    "Try several here:"
   ]
  },
  {
   "cell_type": "code",
   "execution_count": 36,
   "metadata": {},
   "outputs": [
    {
     "data": {
      "text/plain": [
       "u'ShapeFile'"
      ]
     },
     "execution_count": 36,
     "metadata": {},
     "output_type": "execute_result"
    }
   ],
   "source": [
    "arcpy.Describe(inputFile).dataType"
   ]
  },
  {
   "cell_type": "code",
   "execution_count": null,
   "metadata": {},
   "outputs": [],
   "source": []
  },
  {
   "cell_type": "markdown",
   "metadata": {},
   "source": [
    "#### Put it together:"
   ]
  },
  {
   "cell_type": "code",
   "execution_count": 37,
   "metadata": {},
   "outputs": [
    {
     "name": "stdout",
     "output_type": "stream",
     "text": [
      "**************************************************************************\n",
      "We are working with 1 themes that fulfill the filter conditions.\n",
      "**************************************************************************\n",
      "<type 'file'> has 13 fields\n",
      "FID\n",
      "Shape\n",
      "L_F_ADD\n",
      "L_T_ADD\n",
      "R_F_ADD\n",
      "R_T_ADD\n",
      "PREFIX\n",
      "NAME\n",
      "TYPE\n",
      "SUFFIX\n",
      "CFCC\n",
      "ZIPL\n",
      "ZIPR\n",
      "This file is of type shp\n",
      "The shape type is: Polyline\n"
     ]
    }
   ],
   "source": [
    "try:\n",
    "    \n",
    "    countThemes = 0\n",
    "    myThemesList = arcpy.ListFeatureClasses('*', 'line')   #point/line\n",
    "    countThemes += len(myThemesList)\n",
    "    print \"**************************************************************************\"\n",
    "    print \"We are working with\", countThemes, \"themes that fulfill the filter conditions.\"\n",
    "    print \"**************************************************************************\"\n",
    "    #listOfFields_GP = gp.listFields(myThemesList[1])\n",
    "    for myfile in myThemesList:\n",
    "        listOfFields_GP = arcpy.ListFields(myfile)\n",
    "        print file, \"has\", len(listOfFields_GP), \"fields\"\n",
    "        for field in listOfFields_GP:\n",
    "            print field.name\n",
    "        \n",
    "        print \"This file is of type\", arcpy.Describe(myfile).extension\n",
    "        print \"The shape type is:\", arcpy.Describe(myfile).shapeType\n",
    "            \n",
    "except:\n",
    "    print \"Try it again...\"\n",
    "    tb = sys.exc_info()[2]\n",
    "    tbinfo = traceback.format_tb(tb)[0]\n",
    "    pymsg = \"PYTHON ERRORS:\\nTraceback Info:\\n\" + tbinfo + \"\\nError Info:\\n \" +str(sys.exc_info()[1])    \n",
    "    msgs = \"ARCPY ERRORS:\\n\" + arcpy.GetMessages(0) + \"\\n\"\n",
    "    print msgs\n",
    "    print pymsg"
   ]
  },
  {
   "cell_type": "code",
   "execution_count": null,
   "metadata": {},
   "outputs": [],
   "source": []
  },
  {
   "cell_type": "code",
   "execution_count": null,
   "metadata": {},
   "outputs": [],
   "source": []
  }
 ],
 "metadata": {
  "kernelspec": {
   "display_name": "Python 2",
   "language": "python",
   "name": "python2"
  },
  "language_info": {
   "codemirror_mode": {
    "name": "ipython",
    "version": 2
   },
   "file_extension": ".py",
   "mimetype": "text/x-python",
   "name": "python",
   "nbconvert_exporter": "python",
   "pygments_lexer": "ipython2",
   "version": "2.7.15"
  }
 },
 "nbformat": 4,
 "nbformat_minor": 2
}
