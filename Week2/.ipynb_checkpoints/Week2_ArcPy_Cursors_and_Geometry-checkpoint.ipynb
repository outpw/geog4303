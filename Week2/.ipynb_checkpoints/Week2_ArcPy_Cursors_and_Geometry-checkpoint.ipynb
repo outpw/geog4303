{
 "cells": [
  {
   "cell_type": "markdown",
   "metadata": {},
   "source": [
    "## Arcpy: Working with Cursors and Geometries  \n",
    "\n",
    "In this exercise we'll walk through the Search Cursor and Update Cursor, and complete some light attribute and geometry editing. \n",
    "\n",
    "  \n",
    "Script by: Stefan Leyk  \n",
    "Updated 1/2022 by: Phil White"
   ]
  },
  {
   "cell_type": "code",
   "execution_count": null,
   "metadata": {},
   "outputs": [],
   "source": [
    "import arcpy\n",
    "import traceback\n",
    "import sys\n",
    "from arcpy import env"
   ]
  },
  {
   "cell_type": "markdown",
   "metadata": {},
   "source": [
    "Set your workspace to our Week2 Data directory:"
   ]
  },
  {
   "cell_type": "code",
   "execution_count": null,
   "metadata": {},
   "outputs": [],
   "source": [
    "env.workspace = r'C:\\your\\path\\GEOG_4303\\Week2\\data'"
   ]
  },
  {
   "cell_type": "markdown",
   "metadata": {},
   "source": [
    "Just as a reminder to what files we have in this drive:"
   ]
  },
  {
   "cell_type": "code",
   "execution_count": null,
   "metadata": {},
   "outputs": [],
   "source": [
    "print arcpy.ListFeatureClasses()"
   ]
  },
  {
   "cell_type": "markdown",
   "metadata": {},
   "source": [
    "Now set your workspace back to the Week2 directory:"
   ]
  },
  {
   "cell_type": "code",
   "execution_count": null,
   "metadata": {},
   "outputs": [],
   "source": [
    "env.workspace = r'C:\\your\\path\\GEOG_4303\\Week2'"
   ]
  },
  {
   "cell_type": "markdown",
   "metadata": {},
   "source": [
    "Okay, let's create variables for our input shapefile and a new output shapefile:"
   ]
  },
  {
   "cell_type": "code",
   "execution_count": null,
   "metadata": {},
   "outputs": [],
   "source": [
    "inFC = r'/data/lyons_mrd.shp'"
   ]
  },
  {
   "cell_type": "code",
   "execution_count": null,
   "metadata": {},
   "outputs": [],
   "source": [
    "copyFC = r'/results/copy_lyons_mrd.shp'"
   ]
  },
  {
   "cell_type": "markdown",
   "metadata": {},
   "source": [
    "Now, we can use this if/else statement to check if our output file exists, and delete it if it does. This will be useful later on if we need to rerun sections of code."
   ]
  },
  {
   "cell_type": "code",
   "execution_count": null,
   "metadata": {},
   "outputs": [],
   "source": [
    "if arcpy.Exists(copyFC):\n",
    "    arcpy.management.Delete(copyFC)\n",
    "    print 'existing output file DESTROYED.'\n",
    "else:\n",
    "    print 'nothing to blow up, sorry.'"
   ]
  },
  {
   "cell_type": "markdown",
   "metadata": {},
   "source": [
    "This snippet uses `management.Copy()` to createa fresh copy of our input Lyons roads shapefile:"
   ]
  },
  {
   "cell_type": "code",
   "execution_count": null,
   "metadata": {},
   "outputs": [],
   "source": [
    "arcpy.management.Copy(inFC,copyFC)"
   ]
  },
  {
   "cell_type": "markdown",
   "metadata": {},
   "source": [
    "Check the fields of this shapefile using `.ListFields()`:"
   ]
  },
  {
   "cell_type": "code",
   "execution_count": null,
   "metadata": {},
   "outputs": [],
   "source": [
    "fields = arcpy.ListFields(copyFC)\n",
    "for field in fields:\n",
    "    print field.name"
   ]
  },
  {
   "cell_type": "markdown",
   "metadata": {},
   "source": [
    "### Search Cursor\n",
    "\n",
    "Let's take a sec to read about the data access search cursor: [https://desktop.arcgis.com/en/arcmap/latest/analyze/arcpy-data-access/searchcursor-class.htm](https://desktop.arcgis.com/en/arcmap/latest/analyze/arcpy-data-access/searchcursor-class.htm)  \n",
    "\n",
    "SearchCursor establishes **read-only** access to the records returned from a feature class or table.  \n",
    "\n",
    "*Basically, search cursor allows you to loop over values of an attribute field.*"
   ]
  },
  {
   "cell_type": "code",
   "execution_count": null,
   "metadata": {},
   "outputs": [],
   "source": [
    "sCursor = arcpy.da.SearchCursor(copyFC,['FID','ZIPL'])\n",
    "\n",
    "print sCursor.next()\n",
    "print sCursor.next()\n",
    "print sCursor.next()\n",
    "\n",
    "del sCursor"
   ]
  },
  {
   "cell_type": "markdown",
   "metadata": {},
   "source": [
    "What data type is returned? https://www.w3schools.com/python/python_datatypes.asp  \n",
    "\n",
    "How would we return just the zip codes without the index?"
   ]
  },
  {
   "cell_type": "code",
   "execution_count": null,
   "metadata": {},
   "outputs": [],
   "source": [
    "sCursor = arcpy.da.SearchCursor(copyFC,['FID','ZIPL'])\n",
    "for row in sCursor:\n",
    "    print row\n",
    "    \n",
    "del sCursor    "
   ]
  },
  {
   "cell_type": "markdown",
   "metadata": {},
   "source": [
    "What if we wanted to count occurrences of the zip code 80540? "
   ]
  },
  {
   "cell_type": "code",
   "execution_count": null,
   "metadata": {},
   "outputs": [],
   "source": [
    "sCursor = arcpy.da.SearchCursor(copyFC,['FID','ZIPL'])\n",
    "\n",
    "count = 0\n",
    "\n",
    "for row in sCursor:\n",
    "    if row[1] == '80540':\n",
    "        count += 1\n",
    "        print 'Zip at ' + str(row[0]) + 'is ' + str(row[1])\n",
    "        \n",
    "print 'Zip code 80540 occurs ' + str(count) + ' times.'\n",
    "\n",
    "del sCursor"
   ]
  },
  {
   "cell_type": "markdown",
   "metadata": {},
   "source": [
    "### Now let's look at Geometry.  \n",
    "\n",
    "\n",
    "Again, see docs: https://desktop.arcgis.com/en/arcmap/latest/analyze/arcpy-data-access/searchcursor-class.htm  \n",
    "\n",
    "From here on, we'll use `with` to instantiate the sCursor:"
   ]
  },
  {
   "cell_type": "code",
   "execution_count": null,
   "metadata": {},
   "outputs": [],
   "source": [
    "with arcpy.da.SearchCursor(copyFC,['SHAPE@']) as sCursor:\n",
    "\n",
    "    row = sCursor.next()\n",
    "\n",
    "    print row"
   ]
  },
  {
   "cell_type": "markdown",
   "metadata": {},
   "source": [
    "Okay, so we know it's a polyline... a polyline is a geometry type...  Not much else to see here...\n",
    "\n",
    "Take a look at the ArcPy Geometry class: https://desktop.arcgis.com/en/arcmap/latest/analyze/arcpy-classes/geometry.htm "
   ]
  },
  {
   "cell_type": "code",
   "execution_count": null,
   "metadata": {},
   "outputs": [],
   "source": [
    "with arcpy.da.SearchCursor(copyFC,['SHAPE@']) as sCursor:\n",
    "\n",
    "    row = sCursor.next()\n",
    "\n",
    "    pLine = row[0] \n",
    "\n",
    "    print pLine.isMultipart \n",
    "    #print pLine.partCount\n",
    "    #print pLine.pointCount\n",
    "    #print pLine.length\n",
    "    #print pLine.getPart()"
   ]
  },
  {
   "cell_type": "markdown",
   "metadata": {},
   "source": [
    "Why are we getting these results? What does this mean?  \n",
    "\n",
    "`.getPart()` returns an [array](https://www.w3schools.com/python/python_arrays.asp) that tells us information about the different parts... in this case the start and end points of our polyline. If you want one of these parts, use it's index position...  \n",
    "\n",
    "As you run the next code block, run, examine results, uncomment the next line, re-run, until you've worked through the whole thing. What you're doing here is accessing the x,y coordinates for the first point in a polyline.  "
   ]
  },
  {
   "cell_type": "code",
   "execution_count": null,
   "metadata": {},
   "outputs": [],
   "source": [
    "with arcpy.da.SearchCursor(copyFC,['SHAPE@']) as sCursor:\n",
    "\n",
    "    row = sCursor.next()\n",
    "\n",
    "    pLine = row[0] \n",
    "\n",
    "    pLineArray = pLine.getPart(0) #this returns the first index\n",
    "\n",
    "    print pLineArray\n",
    "\n",
    "    #point1 = pLineArray[1]\n",
    "\n",
    "    #print point1\n",
    "\n",
    "    #print point1.X\n",
    "    #print point1.Y"
   ]
  },
  {
   "cell_type": "markdown",
   "metadata": {},
   "source": [
    "That's all good... but let's do this in a smarter way... Make a `for` loop!  "
   ]
  },
  {
   "cell_type": "code",
   "execution_count": null,
   "metadata": {},
   "outputs": [],
   "source": [
    "with arcpy.da.SearchCursor(copyFC,['SHAPE@']) as sCursor:\n",
    "    row = sCursor.next()\n",
    "    pLine = row[0] \n",
    "    pLineArray = pLine.getPart(0)\n",
    "\n",
    "    for p in pLineArray:\n",
    "        print str(p.X) + ', ' + str(p.Y) "
   ]
  },
  {
   "cell_type": "markdown",
   "metadata": {},
   "source": [
    "There are LOTS of geometry methods. `.touches()` for example returns topology information:  \n",
    "\n",
    "**What should the following return?**  \n",
    "\n",
    "Again, see Geometry methods: https://desktop.arcgis.com/en/arcmap/latest/analyze/arcpy-classes/geometry.htm"
   ]
  },
  {
   "cell_type": "code",
   "execution_count": null,
   "metadata": {},
   "outputs": [],
   "source": [
    "with arcpy.da.SearchCursor(copyFC,['SHAPE@']) as sCursor:\n",
    "    row = sCursor.next()\n",
    "    pLine = row[0] \n",
    "    pLineArray = pLine.getPart(0)\n",
    "    point1 = pLineArray[1]\n",
    "    \n",
    "    #Does point1 touch the polyline?\n",
    "    print point1.touches(pLine)"
   ]
  },
  {
   "cell_type": "markdown",
   "metadata": {},
   "source": [
    "We can use the `.Polyline()` geometry method to create a new line from one of the line segments:"
   ]
  },
  {
   "cell_type": "code",
   "execution_count": null,
   "metadata": {},
   "outputs": [],
   "source": [
    "with arcpy.da.SearchCursor(copyFC,['SHAPE@']) as sCursor:\n",
    "    row = sCursor.next()\n",
    "    pLine = row[0] #take the first polyline\n",
    "    pLineArray = pLine.getPart(0) #take the first part of the first polyline\n",
    "    \n",
    "    newPolyLine = arcpy.Polyline(pLineArray) #create a new polyline from the existing segment"
   ]
  },
  {
   "cell_type": "code",
   "execution_count": null,
   "metadata": {},
   "outputs": [],
   "source": [
    "newPolyLine"
   ]
  },
  {
   "cell_type": "markdown",
   "metadata": {},
   "source": [
    "Hm... Now what?   \n",
    "\n",
    "### Update Cursor  \n",
    "\n",
    "So far we've been reading and examining features of our shapefile using SearchCursor...  We can accomplish things when reading-only, but if you want to update (make changes to the file) you want to use the UpdateCursor.  \n",
    "\n",
    "Docs: https://desktop.arcgis.com/en/arcmap/latest/analyze/arcpy-data-access/updatecursor-class.htm  \n",
    "\n",
    "UpdateCursor establishes **read-write** access to records returned from a feature class or table.  \n",
    "\n",
    "First let's use the update cursor to populate a new attribute field:\n"
   ]
  },
  {
   "cell_type": "code",
   "execution_count": null,
   "metadata": {},
   "outputs": [],
   "source": [
    "#first add a field:\n",
    "arcpy.management.AddField(copyFC,'ZIP2', 'LONG')\n",
    "#this new field is named ZIP2 and is a LONG type"
   ]
  },
  {
   "cell_type": "code",
   "execution_count": null,
   "metadata": {},
   "outputs": [],
   "source": [
    "#Now we will populate the field:\n",
    "with arcpy.da.UpdateCursor(copyFC, ['FID','ZIPL','ZIP2']) as uCursor: # this activates the cursor, working on the three attributes we specified\n",
    "    for row in uCursor:\n",
    "        if row[1] == '80540':\n",
    "            row[2] = 3562\n",
    "            print 'Zip2 at ' + str(row[0]) + ' is now ' + str(row[2])\n",
    "        uCursor.updateRow(row)"
   ]
  },
  {
   "cell_type": "markdown",
   "metadata": {},
   "source": [
    "Did it work? Check it with SearchCursor:"
   ]
  },
  {
   "cell_type": "code",
   "execution_count": null,
   "metadata": {},
   "outputs": [],
   "source": [
    "with arcpy.da.SearchCursor(copyFC, ['FID','ZIPL','ZIP2']) as sCursor:\n",
    "    for row in sCursor:\n",
    "        print row"
   ]
  },
  {
   "cell_type": "markdown",
   "metadata": {},
   "source": [
    "Neat...  \n",
    "\n",
    "Let's do some more UpdateCursor, this time working on geometry. \n",
    "\n",
    "We will shift a line's end point 2000 meters to the east... but first, what reference system is this in? "
   ]
  },
  {
   "cell_type": "code",
   "execution_count": null,
   "metadata": {},
   "outputs": [],
   "source": [
    "arcpy.Describe(copyFC).spatialReference.name"
   ]
  },
  {
   "cell_type": "markdown",
   "metadata": {},
   "source": [
    "Think for a sec how UTM works... https://www.usgs.gov/faqs/how-are-utm-coordinates-measured-usgs-topographic-maps#:~:text=The%20UTM%20  \n",
    "\n",
    "**Now**, work through the update cursor block below. Run it, examine the results, then uncomment the next line, re-run, and examine what it does, continue through each line. You will "
   ]
  },
  {
   "cell_type": "code",
   "execution_count": null,
   "metadata": {},
   "outputs": [],
   "source": [
    "with arcpy.da.UpdateCursor(copyFC,['SHAPE@']) as uCursor:\n",
    "    row = uCursor.next()\n",
    "    pLine = row[0]\n",
    "    print pLine.pointCount\n",
    "    #pLineArr = pLine.getPart(0)\n",
    "    #p1 = pLineArr[0]\n",
    "    #print 'old point 1 = ', p1.X\n",
    "    #p1.X = p1.X+2000\n",
    "    #print 'new point 1 = ', p1.X\n",
    "    \n",
    "    #newPolyLine = arcpy.Polyline(pLineArr)\n",
    "    #uCursor.updateRow([newPolyLine])"
   ]
  },
  {
   "cell_type": "markdown",
   "metadata": {},
   "source": [
    "What happens if we run this again?"
   ]
  },
  {
   "cell_type": "markdown",
   "metadata": {},
   "source": [
    "Now, let's do the same except move the x values in all of the lines in the copyFC shepfile:"
   ]
  },
  {
   "cell_type": "code",
   "execution_count": null,
   "metadata": {},
   "outputs": [],
   "source": [
    "if arcpy.Exists(copyFC):\n",
    "    arcpy.management.Delete(copyFC)\n",
    "    print 'existing output file DESTROYED.'\n",
    "else:\n",
    "    print 'nothing to blow up, sorry.'"
   ]
  },
  {
   "cell_type": "code",
   "execution_count": null,
   "metadata": {},
   "outputs": [],
   "source": [
    "arcpy.management.Copy(inFC,copyFC)"
   ]
  },
  {
   "cell_type": "code",
   "execution_count": null,
   "metadata": {},
   "outputs": [],
   "source": [
    "with arcpy.da.UpdateCursor(copyFC,['SHAPE@']) as uCursor:\n",
    "    row = uCursor.next()\n",
    "    pLine = row[0]\n",
    "    pLineArr = pLine.getPart(0)\n",
    "    for i in range(len(pLineArr)):\n",
    "        p=pLineArr[i]\n",
    "        print 'old values of point' + str(i) +' : ', p\n",
    "        p.X = p.X+2000\n",
    "        print 'new values of point' + str(i) +' : ', p\n",
    "        \n",
    "    newPolyLine=arcpy.Polyline(pLineArr)\n",
    "    uCursor.updateRow([newPolyLine])\n",
    "del pLineArr "
   ]
  },
  {
   "cell_type": "markdown",
   "metadata": {},
   "source": [
    "Did it work? Open up the input and output files in ArcMap to view the results."
   ]
  }
 ],
 "metadata": {
  "kernelspec": {
   "display_name": "Python 2",
   "language": "python",
   "name": "python2"
  },
  "language_info": {
   "codemirror_mode": {
    "name": "ipython",
    "version": 2
   },
   "file_extension": ".py",
   "mimetype": "text/x-python",
   "name": "python",
   "nbconvert_exporter": "python",
   "pygments_lexer": "ipython2",
   "version": "2.7.15"
  }
 },
 "nbformat": 4,
 "nbformat_minor": 2
}
