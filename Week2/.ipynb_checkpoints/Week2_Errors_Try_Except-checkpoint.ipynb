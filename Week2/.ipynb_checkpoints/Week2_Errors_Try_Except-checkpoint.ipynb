{
 "cells": [
  {
   "cell_type": "markdown",
   "metadata": {},
   "source": [
    "### Understanding Error Messages, try/except statements  \n",
    "\n",
    "`try:` and `except:` are for testing code for errors and then handling errors."
   ]
  },
  {
   "cell_type": "code",
   "execution_count": 26,
   "metadata": {},
   "outputs": [],
   "source": [
    "import traceback\n",
    "import sys"
   ]
  },
  {
   "cell_type": "markdown",
   "metadata": {},
   "source": [
    "### Here's some code with an error...  "
   ]
  },
  {
   "cell_type": "code",
   "execution_count": 9,
   "metadata": {},
   "outputs": [
    {
     "name": "stdout",
     "output_type": "stream",
     "text": [
      "starting my analysis\n"
     ]
    },
    {
     "ename": "TypeError",
     "evalue": "unsupported operand type(s) for +: 'int' and 'str'",
     "output_type": "error",
     "traceback": [
      "\u001b[1;31m---------------------------------------------------------------------------\u001b[0m",
      "\u001b[1;31mTypeError\u001b[0m                                 Traceback (most recent call last)",
      "\u001b[1;32m<ipython-input-9-66e80834d7b7>\u001b[0m in \u001b[0;36m<module>\u001b[1;34m()\u001b[0m\n\u001b[0;32m      2\u001b[0m \u001b[0ma\u001b[0m \u001b[1;33m=\u001b[0m \u001b[1;36m34\u001b[0m\u001b[1;33m\u001b[0m\u001b[0m\n\u001b[0;32m      3\u001b[0m \u001b[0mb\u001b[0m \u001b[1;33m=\u001b[0m \u001b[1;34m'45'\u001b[0m\u001b[1;33m\u001b[0m\u001b[0m\n\u001b[1;32m----> 4\u001b[1;33m \u001b[0mg\u001b[0m \u001b[1;33m=\u001b[0m \u001b[0ma\u001b[0m \u001b[1;33m+\u001b[0m \u001b[0mb\u001b[0m\u001b[1;33m\u001b[0m\u001b[0m\n\u001b[0m\u001b[0;32m      5\u001b[0m \u001b[1;32mprint\u001b[0m \u001b[1;34m'The result is:'\u001b[0m\u001b[1;33m,\u001b[0m \u001b[0mg\u001b[0m\u001b[1;33m\u001b[0m\u001b[0m\n",
      "\u001b[1;31mTypeError\u001b[0m: unsupported operand type(s) for +: 'int' and 'str'"
     ]
    }
   ],
   "source": [
    "print 'starting my analysis'\n",
    "a = 34\n",
    "b = '45'\n",
    "g = a + b\n",
    "print 'The result is:', g"
   ]
  },
  {
   "cell_type": "code",
   "execution_count": 19,
   "metadata": {},
   "outputs": [
    {
     "name": "stdout",
     "output_type": "stream",
     "text": [
      "starting my analysis\n",
      "BEEP BOOP BEEP! You messed up!\n"
     ]
    }
   ],
   "source": [
    "try:\n",
    "    print 'starting my analysis'\n",
    "    a = 34\n",
    "    b = '45'\n",
    "    g = a + b\n",
    "    print 'The result is:', g\n",
    "except:\n",
    "    print 'BEEP BOOP BEEP! You messed up!'"
   ]
  },
  {
   "cell_type": "markdown",
   "metadata": {},
   "source": [
    "Okay, we made a mistake, but where did things go wrong?  \n",
    "\n",
    "This is where traceback comes in. Traceback messages tell you where an exception aka error occurred.\n",
    "\n",
    "This is a traceback message:\n",
    "\n",
    "```\n",
    "---------------------------------------------------------------------------\n",
    "TypeError                                 Traceback (most recent call last)\n",
    "<ipython-input-9-66e80834d7b7> in <module>()\n",
    "      2 a = 34\n",
    "      3 b = '45'\n",
    "----> 4 g = a + b\n",
    "      5 print 'The result is:', g\n",
    "\n",
    "TypeError: unsupported operand type(s) for +: 'int' and 'str'\n",
    "```  \n",
    "\n",
    "The `sys.exc_info` returns a tuple of 3 values with information about the exception that occurred....  "
   ]
  },
  {
   "cell_type": "code",
   "execution_count": 13,
   "metadata": {},
   "outputs": [
    {
     "name": "stdout",
     "output_type": "stream",
     "text": [
      "starting my analysis\n",
      "BEEP BOOP BEEP! You messed up!\n",
      "<type 'exceptions.TypeError'>\n",
      "unsupported operand type(s) for +: 'int' and 'str'\n",
      "<traceback object at 0x05091300>\n"
     ]
    }
   ],
   "source": [
    "try:\n",
    "    print 'starting my analysis'\n",
    "    a = 34\n",
    "    b = '45'\n",
    "    g = a + b\n",
    "    print 'The result is:', g\n",
    "except:\n",
    "    print 'BEEP BOOP BEEP! You messed up!'\n",
    "    print sys.exc_info()[0]\n",
    "    print sys.exc_info()[1]\n",
    "    print sys.exc_info()[2]"
   ]
  },
  {
   "cell_type": "markdown",
   "metadata": {},
   "source": [
    "This info tells us the following:\n",
    "1. `<type 'exceptions.TypeError'>`: You made a type error (that is, something to do with data types)\n",
    "2. `unsupported operand type(s) for +: 'int' and 'str'`: This get's to the bottom of it--you tried to add a number and a string together. \n",
    "3. `<traceback object at 0x05091300>`: this is where it exists in your computer's memory. Sort of... more on this:"
   ]
  },
  {
   "cell_type": "markdown",
   "metadata": {},
   "source": [
    "You can use the traceback module to make things more human readable. For example: `traceback.format_tb()` can make the location actually human-readable: "
   ]
  },
  {
   "cell_type": "code",
   "execution_count": 16,
   "metadata": {},
   "outputs": [
    {
     "name": "stdout",
     "output_type": "stream",
     "text": [
      "starting my analysis\n",
      "Bump! There is something wrong.\n",
      "[u'  File \"<ipython-input-16-6c43b5eb1175>\", line 5, in <module>\\n    g = a + b\\n']\n"
     ]
    }
   ],
   "source": [
    "try: \n",
    "    print 'starting my analysis'\n",
    "    a = 34\n",
    "    b = '45'\n",
    "    g = a + b\n",
    "    print 'The result is:', g\n",
    "\n",
    "except:\n",
    "    print 'Bump! There is something wrong.'\n",
    "    print traceback.format_tb(sys.exc_info()[2])"
   ]
  },
  {
   "cell_type": "markdown",
   "metadata": {},
   "source": [
    "Now we can see the error is in line 5, and the offending bit of code was `g = a+ b`. *Note that `traceback.format_tb()` returns a list of three elements.*\n",
    "\n",
    "But let's combine the traceback info with our own print message to make it a little easier to read."
   ]
  },
  {
   "cell_type": "code",
   "execution_count": 20,
   "metadata": {},
   "outputs": [
    {
     "name": "stdout",
     "output_type": "stream",
     "text": [
      "starting my analysis\n",
      "BEEP BOOP BEEP! You messed up!\n",
      "<traceback object at 0x048F0170>\n",
      "PYTHON ERRORS: \n",
      "Traceback Info:\n",
      "  File \"<ipython-input-20-e8fe78e6fad5>\", line 5, in <module>\n",
      "    g = a + b\n",
      "\n",
      "Error Info:\n",
      "unsupported operand type(s) for +: 'int' and 'str'\n"
     ]
    }
   ],
   "source": [
    "try: \n",
    "    print 'starting my analysis'\n",
    "    a = 34\n",
    "    b = '45'\n",
    "    g = a + b\n",
    "    print 'The result is:', g\n",
    "\n",
    "except:\n",
    "    print 'BEEP BOOP BEEP! You messed up!'\n",
    "    tb = sys.exc_info()[2]\n",
    "    print tb\n",
    "    tbinfo = traceback.format_tb(tb)[0]\n",
    "    pymsg = 'PYTHON ERRORS: \\nTraceback Info:\\n' + tbinfo + '\\nError Info:\\n' + str(sys.exc_info()[1])\n",
    "    print pymsg"
   ]
  },
  {
   "cell_type": "markdown",
   "metadata": {},
   "source": [
    "#### You will see try/except blocks in various exercise and lab scripts that will return errors in a similar fashion...  \n",
    "\n",
    "### Now, let's practice some debugging and reading error messages.  \n",
    "\n",
    "Bring in some modules:"
   ]
  },
  {
   "cell_type": "code",
   "execution_count": 27,
   "metadata": {},
   "outputs": [],
   "source": [
    "import arcpy\n",
    "from arcpy import env"
   ]
  },
  {
   "cell_type": "markdown",
   "metadata": {},
   "source": [
    "Set your workspace and define variables that represent our input and output files:"
   ]
  },
  {
   "cell_type": "code",
   "execution_count": 28,
   "metadata": {},
   "outputs": [],
   "source": [
    "env.workspace = r'C:\\Users\\phwh9568\\GEOG_4303\\GEOG_4303_5303\\Week2'\n",
    "\n",
    "outpath = r'/results'\n",
    "infile = r'/data/lyons_mrdA.shp'\n",
    "outfile = outpath + r'/ly_mrd_buff.shp'"
   ]
  },
  {
   "cell_type": "markdown",
   "metadata": {},
   "source": [
    "Work through the errors:"
   ]
  },
  {
   "cell_type": "code",
   "execution_count": null,
   "metadata": {},
   "outputs": [],
   "source": [
    "try:       \n",
    "    if arcpy.Exists(outfiles):\n",
    "        arcpy.management.Delete(outfile)\n",
    "        print outfile, 'has been detonated.'\n",
    "        arcpy.GetMessages(0)\n",
    "        \n",
    "    if arcpy.Exists(infile) == True:\n",
    "        print 'Starting Buffer routine'\n",
    "        arcpy.analysis.Buffer(infile, outfile, '100 Feet','ROUND')\n",
    "        print 'Buffer operation executed.'\n",
    "        \n",
    "    else:\n",
    "        print 'Dataset does not exist in directory'\n",
    "        \n",
    "except:\n",
    "    tb = sys.exc_info()[2]\n",
    "    tbinfo = traceback.format_tb(tb)[0]\n",
    "    pymsg = 'PYTHON ERRORS:\\nTraceback Info:\\n' + tbinfo + '\\nError Info:\\n' + str(sys.exc_info()[1])\n",
    "    arcmsgs = 'ARCPY ERRORS:\\n' + arcpy.GetMessages(2) + '\\n'\n",
    "    print arcmsgs\n",
    "    print pymsg\n",
    "    print '\\nCurrent Arcpy Messages:', arcpy.GetMessages()"
   ]
  },
  {
   "cell_type": "markdown",
   "metadata": {},
   "source": [
    "What's the ploblem?  \n",
    "\n",
    "Don't forget to read the docs: https://desktop.arcgis.com/en/arcmap/latest/tools/analysis-toolbox/buffer.htm"
   ]
  },
  {
   "cell_type": "code",
   "execution_count": 31,
   "metadata": {},
   "outputs": [
    {
     "name": "stdout",
     "output_type": "stream",
     "text": [
      "********************************\n",
      "Declaring all variables needed for year 1972\n",
      "delete operation performed\n",
      "Calculating year field of /data/samplePNT1_1972.shp\n",
      "********************************\n",
      "Declaring all variables needed for year 1973\n",
      "delete operation performed\n",
      "Calculating year field of /data/samplePNT1_1973.shp\n",
      "********************************\n",
      "Declaring all variables needed for year 1974\n",
      "delete operation performed\n",
      "Calculating year field of /data/samplePNT1_1974.shp\n",
      "********************************\n",
      "Declaring all variables needed for year 1975\n",
      "delete operation performed\n",
      "Calculating year field of /data/samplePNT1_1975.shp\n",
      "********************************\n",
      "Declaring all variables needed for year 1976\n",
      "delete operation performed\n",
      "Calculating year field of /data/samplePNT1_1976.shp\n",
      "********************************\n",
      "Declaring all variables needed for year 1977\n",
      "delete operation performed\n",
      "Calculating year field of /data/samplePNT1_1977.shp\n",
      "********************************\n",
      "Declaring all variables needed for year 1978\n",
      "delete operation performed\n",
      "Calculating year field of /data/samplePNT1_1978.shp\n"
     ]
    }
   ],
   "source": [
    "period = range(1972,1979) # use the range function to define a list variable\n",
    "\n",
    "try:\n",
    "    for year in period:\n",
    "        #all variables you will need you should declare right here\n",
    "        \n",
    "        print '********************************'\n",
    "        print 'Declaring all variables needed for year', year\n",
    "        \n",
    "        inFile = r'/data/samplePNT1_' + str(year) + '.shp'\n",
    "        outFile = r'/results/samplePNT1_' + str(year) + '.shp'\n",
    "        \n",
    "        if arcpy.Exists(outFile)==True:\n",
    "            arcpy.management.Delete(outFile)\n",
    "            print 'delete operation performed'\n",
    "        arcpy.management.Copy(inFile,outFile)\n",
    "        \n",
    "        #Add a field to the table\n",
    "        arcpy.management.AddField(outFile,'year','Long')\n",
    "        \n",
    "        #calculate the field 'year'\n",
    "        print 'Calculating year field of', inFile\n",
    "        arcpy.management.CalculateField(outFile, 'year',year)\n",
    "        #gp.deletefield('Y://GIS3//GIS3demos_S2010//dataclassdemos//scratch//samplePNT1_1973.dbf','year')\n",
    "        \n",
    "except:\n",
    "    print 'Try it again...'\n",
    "    tb = sys.exc_info()[2]\n",
    "    tbinfo = traceback.format_tb(tb)[0]\n",
    "    msgs = 'ARCPY ERRORS:\\n' + arcpy.GetMessages(0) + '\\n'\n",
    "    pymsg = 'PYTHON ERRORS:\\nTraceback Info:\\n' + tbinfo + '\\nError Info:\\n ' +str(sys.exc_info()[1])    \n",
    "    print msgs\n",
    "    print pymsg\n"
   ]
  },
  {
   "cell_type": "markdown",
   "metadata": {},
   "source": [
    "Calculate Field docs: https://desktop.arcgis.com/en/arcmap/latest/tools/data-management-toolbox/calculate-field.htm  \n",
    "Add Field docs: https://desktop.arcgis.com/en/arcmap/latest/tools/data-management-toolbox/add-field.htm  "
   ]
  },
  {
   "cell_type": "code",
   "execution_count": null,
   "metadata": {},
   "outputs": [],
   "source": []
  }
 ],
 "metadata": {
  "kernelspec": {
   "display_name": "Python 2",
   "language": "python",
   "name": "python2"
  },
  "language_info": {
   "codemirror_mode": {
    "name": "ipython",
    "version": 2
   },
   "file_extension": ".py",
   "mimetype": "text/x-python",
   "name": "python",
   "nbconvert_exporter": "python",
   "pygments_lexer": "ipython2",
   "version": "2.7.15"
  }
 },
 "nbformat": 4,
 "nbformat_minor": 2
}
