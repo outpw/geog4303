{
 "cells": [
  {
   "cell_type": "markdown",
   "metadata": {},
   "source": [
    "## ArcPy  \n",
    "\n",
    "More ArcPy...  \n",
    "\n",
    "\n",
    "```python\n",
    "import arcpy\n",
    "import traceback\n",
    "import sys\n",
    "from arcpy import env\n",
    "```"
   ]
  },
  {
   "cell_type": "code",
   "execution_count": null,
   "metadata": {},
   "outputs": [],
   "source": []
  },
  {
   "cell_type": "markdown",
   "metadata": {},
   "source": [
    "Set your workspace:"
   ]
  },
  {
   "cell_type": "code",
   "execution_count": null,
   "metadata": {},
   "outputs": [],
   "source": [
    "env.workspace = r'C:\\Users\\phwh9568\\GEOG_4303\\Week2\\data' #change it to your path..."
   ]
  },
  {
   "cell_type": "markdown",
   "metadata": {},
   "source": [
    "Let's take a look at `arcpy.ListFeatureClasses()`: https://desktop.arcgis.com/en/arcmap/latest/analyze/arcpy-functions/listfeatureclasses.htm  \n",
    "\n",
    "works like this: `ListFeatureClasses ({wild_card}, {feature_type}, {feature_dataset})`. All args are optional.  \n",
    "  \n",
    "  \n",
    "```python\n",
    "arcpy.ListFeatureClasses()\n",
    "```"
   ]
  },
  {
   "cell_type": "code",
   "execution_count": null,
   "metadata": {},
   "outputs": [],
   "source": [
    "arcpy.ListFeatureClasses()"
   ]
  },
  {
   "cell_type": "markdown",
   "metadata": {},
   "source": [
    "You can also return fields of a feature class using:  \n",
    "`arcpy.ListFields()`  https://desktop.arcgis.com/en/arcmap/latest/analyze/arcpy-functions/listfields.htm  \n",
    "\n",
    "But it works a little differently...  \n",
    "\n",
    "Works like this: `ListFields (dataset, {wild_card}, {field_type})` dataset input is required, other args are optional  \n",
    "\n",
    "\n",
    "```python\n",
    "inputFile = r'data/lyons_mrd.shp'\n",
    "\n",
    "arcpy.ListFields(inputFile)\n",
    "```"
   ]
  },
  {
   "cell_type": "code",
   "execution_count": null,
   "metadata": {},
   "outputs": [],
   "source": []
  },
  {
   "cell_type": "markdown",
   "metadata": {},
   "source": [
    "```python\n",
    "fields = arcpy.ListFields(inputFile)\n",
    "\n",
    "for field in fields:\n",
    "    print field.name, field.type, field.length\n",
    "```"
   ]
  },
  {
   "cell_type": "code",
   "execution_count": null,
   "metadata": {},
   "outputs": [],
   "source": []
  },
  {
   "cell_type": "markdown",
   "metadata": {},
   "source": [
    "### Describe function:  \n",
    "\n",
    "`arcpy.Describe()` has many [properties](https://desktop.arcgis.com/en/arcmap/latest/analyze/arcpy-functions/describe-object-properties.htm) you can return, like this:  \n",
    "\n",
    "`arcpy.Describe(dataSet).path`  \n",
    "\n",
    "Try several here:\n",
    "\n",
    "```python\n",
    "arcpy.Describe(inputFile).dataType\n",
    "```"
   ]
  },
  {
   "cell_type": "code",
   "execution_count": null,
   "metadata": {},
   "outputs": [],
   "source": []
  },
  {
   "cell_type": "code",
   "execution_count": null,
   "metadata": {},
   "outputs": [],
   "source": []
  },
  {
   "cell_type": "markdown",
   "metadata": {},
   "source": [
    "#### Put it together:"
   ]
  },
  {
   "cell_type": "code",
   "execution_count": null,
   "metadata": {},
   "outputs": [],
   "source": [
    "try:\n",
    "    \n",
    "    countThemes = 0\n",
    "    myThemesList = arcpy.ListFeatureClasses('*', 'line')   #point/line\n",
    "    countThemes += len(myThemesList)\n",
    "\n",
    "    #listOfFields_GP = gp.listFields(myThemesList[1])\n",
    "    for myfile in myThemesList:\n",
    "        listOfFields_GP = arcpy.ListFields(myfile)\n",
    "        print file, \"has\", len(listOfFields_GP), \"fields\"\n",
    "        for field in listOfFields_GP:\n",
    "            print field.name\n",
    "        \n",
    "        print \"This file is of type\", arcpy.Describe(myfile).extension\n",
    "        print \"The shape type is:\", arcpy.Describe(myfile).shapeType\n",
    "            \n",
    "except:\n",
    "    print \"Try it again...\"\n",
    "    tb = sys.exc_info()[2]\n",
    "    tbinfo = traceback.format_tb(tb)[0]\n",
    "    pymsg = \"PYTHON ERRORS:\\nTraceback Info:\\n\" + tbinfo + \"\\nError Info:\\n \" +str(sys.exc_info()[1])    \n",
    "    msgs = \"ARCPY ERRORS:\\n\" + arcpy.GetMessages(0) + \"\\n\"\n",
    "    print msgs\n",
    "    print pymsg"
   ]
  },
  {
   "cell_type": "code",
   "execution_count": null,
   "metadata": {},
   "outputs": [],
   "source": []
  },
  {
   "cell_type": "code",
   "execution_count": null,
   "metadata": {},
   "outputs": [],
   "source": []
  }
 ],
 "metadata": {
  "kernelspec": {
   "display_name": "Python 2",
   "language": "python",
   "name": "python2"
  },
  "language_info": {
   "codemirror_mode": {
    "name": "ipython",
    "version": 2
   },
   "file_extension": ".py",
   "mimetype": "text/x-python",
   "name": "python",
   "nbconvert_exporter": "python",
   "pygments_lexer": "ipython2",
   "version": "2.7.15"
  }
 },
 "nbformat": 4,
 "nbformat_minor": 2
}
