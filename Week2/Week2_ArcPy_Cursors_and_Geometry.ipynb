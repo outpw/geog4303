{
 "cells": [
  {
   "cell_type": "code",
   "execution_count": 1,
   "metadata": {},
   "outputs": [],
   "source": [
    "import arcpy\n",
    "import traceback\n",
    "import sys\n",
    "from arcpy import env"
   ]
  },
  {
   "cell_type": "code",
   "execution_count": 8,
   "metadata": {},
   "outputs": [],
   "source": [
    "env.workspace = r'C:\\Users\\phwh9568\\GEOG_4303\\Week2\\data'"
   ]
  },
  {
   "cell_type": "code",
   "execution_count": 9,
   "metadata": {},
   "outputs": [
    {
     "name": "stdout",
     "output_type": "stream",
     "text": [
      "[u'lyons_mrd.shp', u'samplePNT1_1972.shp', u'samplePNT1_1973.shp', u'samplePNT1_1974.shp', u'samplePNT1_1975.shp', u'samplePNT1_1976.shp', u'samplePNT1_1977.shp', u'samplePNT1_1978.shp']\n"
     ]
    }
   ],
   "source": [
    "print arcpy.ListFeatureClasses()"
   ]
  },
  {
   "cell_type": "code",
   "execution_count": 11,
   "metadata": {},
   "outputs": [],
   "source": [
    "env.workspace = r'C:\\Users\\phwh9568\\GEOG_4303\\Week2'"
   ]
  },
  {
   "cell_type": "code",
   "execution_count": 13,
   "metadata": {},
   "outputs": [],
   "source": [
    "inFC = r'/data/lyons_mrd.shp'"
   ]
  },
  {
   "cell_type": "code",
   "execution_count": 15,
   "metadata": {},
   "outputs": [],
   "source": [
    "copyFC = r'/results/copy_lyons_mrd.shp'"
   ]
  },
  {
   "cell_type": "code",
   "execution_count": 16,
   "metadata": {},
   "outputs": [],
   "source": []
  },
  {
   "cell_type": "code",
   "execution_count": null,
   "metadata": {},
   "outputs": [],
   "source": []
  },
  {
   "cell_type": "code",
   "execution_count": 153,
   "metadata": {},
   "outputs": [
    {
     "name": "stdout",
     "output_type": "stream",
     "text": [
      "existing output file DESTROYED.\n"
     ]
    }
   ],
   "source": [
    "if arcpy.Exists(copyFC):\n",
    "    arcpy.management.Delete(copyFC)\n",
    "    print 'existing output file DESTROYED.'\n",
    "else:\n",
    "    print 'nothing to blow up, sorry.'"
   ]
  },
  {
   "cell_type": "code",
   "execution_count": 154,
   "metadata": {},
   "outputs": [
    {
     "data": {
      "text/plain": [
       "<Result 'C:\\\\Users\\\\phwh9568\\\\GEOG_4303\\\\Week2\\\\\\\\results\\\\copy_lyons_mrd.shp'>"
      ]
     },
     "execution_count": 154,
     "metadata": {},
     "output_type": "execute_result"
    }
   ],
   "source": [
    "arcpy.management.Copy(inFC,copyFC)"
   ]
  },
  {
   "cell_type": "markdown",
   "metadata": {},
   "source": [
    "### Search Cursor\n",
    "\n",
    "Read about the data access search cursor: [https://desktop.arcgis.com/en/arcmap/latest/analyze/arcpy-data-access/searchcursor-class.htm](https://desktop.arcgis.com/en/arcmap/latest/analyze/arcpy-data-access/searchcursor-class.htm)  \n",
    "\n",
    "SearchCursor establishes **read-only** access to the records returned from a feature class or table."
   ]
  },
  {
   "cell_type": "code",
   "execution_count": 44,
   "metadata": {},
   "outputs": [
    {
     "name": "stdout",
     "output_type": "stream",
     "text": [
      "(0, u'80503')\n",
      "(1, u'80503')\n",
      "(2, u'80503')\n"
     ]
    }
   ],
   "source": [
    "sCursor = arcpy.da.SearchCursor(copyFC,['FID','ZIPL'])\n",
    "\n",
    "print sCursor.next()\n",
    "print sCursor.next()\n",
    "print sCursor.next()\n",
    "\n",
    "del sCursor"
   ]
  },
  {
   "cell_type": "markdown",
   "metadata": {},
   "source": [
    "What data type is returned? https://www.w3schools.com/python/python_datatypes.asp  \n",
    "\n",
    "How would we return just the zip codes without the index?"
   ]
  },
  {
   "cell_type": "code",
   "execution_count": 41,
   "metadata": {},
   "outputs": [
    {
     "name": "stdout",
     "output_type": "stream",
     "text": [
      "(0, u'80503')\n",
      "(1, u'80503')\n",
      "(2, u'80503')\n",
      "(3, u'80503')\n",
      "(4, u'80503')\n",
      "(5, u'80503')\n",
      "(6, u'80503')\n",
      "(7, u'80503')\n",
      "(8, u'80503')\n",
      "(9, u'80503')\n",
      "(10, u'80503')\n",
      "(11, u'80503')\n",
      "(12, u'80503')\n",
      "(13, u'80503')\n",
      "(14, u'80503')\n",
      "(15, u'80503')\n",
      "(16, u'80503')\n",
      "(17, u'80540')\n",
      "(18, u'80503')\n",
      "(19, u' ')\n",
      "(20, u'80540')\n",
      "(21, u'80503')\n",
      "(22, u' ')\n",
      "(23, u'80540')\n",
      "(24, u' ')\n",
      "(25, u' ')\n",
      "(26, u' ')\n",
      "(27, u' ')\n",
      "(28, u' ')\n",
      "(29, u' ')\n",
      "(30, u' ')\n",
      "(31, u'80540')\n",
      "(32, u'80540')\n",
      "(33, u' ')\n",
      "(34, u'80540')\n",
      "(35, u'80540')\n",
      "(36, u'80540')\n",
      "(37, u' ')\n",
      "(38, u' ')\n",
      "(39, u' ')\n",
      "(40, u' ')\n",
      "(41, u' ')\n",
      "(42, u' ')\n",
      "(43, u'80503')\n",
      "(44, u' ')\n",
      "(45, u'80503')\n",
      "(46, u'80540')\n",
      "(47, u' ')\n",
      "(48, u' ')\n",
      "(49, u'80540')\n",
      "(50, u'80540')\n",
      "(51, u'80540')\n",
      "(52, u'80540')\n",
      "(53, u' ')\n",
      "(54, u' ')\n",
      "(55, u'80540')\n",
      "(56, u' ')\n",
      "(57, u'80540')\n",
      "(58, u' ')\n",
      "(59, u'80540')\n",
      "(60, u'80540')\n",
      "(61, u' ')\n",
      "(62, u' ')\n",
      "(63, u' ')\n",
      "(64, u'80540')\n",
      "(65, u' ')\n",
      "(66, u' ')\n",
      "(67, u' ')\n",
      "(68, u' ')\n",
      "(69, u'80540')\n",
      "(70, u'80540')\n",
      "(71, u' ')\n",
      "(72, u'80540')\n",
      "(73, u' ')\n",
      "(74, u'80540')\n",
      "(75, u'80540')\n",
      "(76, u'80540')\n",
      "(77, u'80540')\n",
      "(78, u' ')\n",
      "(79, u'80540')\n",
      "(80, u'80540')\n",
      "(81, u'80540')\n",
      "(82, u' ')\n",
      "(83, u' ')\n",
      "(84, u' ')\n",
      "(85, u' ')\n",
      "(86, u' ')\n",
      "(87, u' ')\n",
      "(88, u' ')\n",
      "(89, u' ')\n",
      "(90, u' ')\n",
      "(91, u'80540')\n",
      "(92, u' ')\n",
      "(93, u'80540')\n",
      "(94, u' ')\n",
      "(95, u'80540')\n",
      "(96, u'80540')\n",
      "(97, u'80540')\n",
      "(98, u'80540')\n",
      "(99, u'80540')\n",
      "(100, u'80540')\n",
      "(101, u'80540')\n",
      "(102, u'80540')\n",
      "(103, u'80540')\n",
      "(104, u'80540')\n",
      "(105, u'80540')\n",
      "(106, u'80540')\n"
     ]
    }
   ],
   "source": [
    "sCursor = arcpy.da.SearchCursor(copyFC,['FID','ZIPL'])\n",
    "for row in sCursor:\n",
    "    print row\n",
    "    \n",
    "del sCursor    "
   ]
  },
  {
   "cell_type": "markdown",
   "metadata": {},
   "source": []
  },
  {
   "cell_type": "markdown",
   "metadata": {},
   "source": [
    "What if we wanted to count occurrences of the zip code 80540? "
   ]
  },
  {
   "cell_type": "code",
   "execution_count": 46,
   "metadata": {},
   "outputs": [
    {
     "name": "stdout",
     "output_type": "stream",
     "text": [
      "Zip at 17is 80540\n",
      "Zip at 20is 80540\n",
      "Zip at 23is 80540\n",
      "Zip at 31is 80540\n",
      "Zip at 32is 80540\n",
      "Zip at 34is 80540\n",
      "Zip at 35is 80540\n",
      "Zip at 36is 80540\n",
      "Zip at 46is 80540\n",
      "Zip at 49is 80540\n",
      "Zip at 50is 80540\n",
      "Zip at 51is 80540\n",
      "Zip at 52is 80540\n",
      "Zip at 55is 80540\n",
      "Zip at 57is 80540\n",
      "Zip at 59is 80540\n",
      "Zip at 60is 80540\n",
      "Zip at 64is 80540\n",
      "Zip at 69is 80540\n",
      "Zip at 70is 80540\n",
      "Zip at 72is 80540\n",
      "Zip at 74is 80540\n",
      "Zip at 75is 80540\n",
      "Zip at 76is 80540\n",
      "Zip at 77is 80540\n",
      "Zip at 79is 80540\n",
      "Zip at 80is 80540\n",
      "Zip at 81is 80540\n",
      "Zip at 91is 80540\n",
      "Zip at 93is 80540\n",
      "Zip at 95is 80540\n",
      "Zip at 96is 80540\n",
      "Zip at 97is 80540\n",
      "Zip at 98is 80540\n",
      "Zip at 99is 80540\n",
      "Zip at 100is 80540\n",
      "Zip at 101is 80540\n",
      "Zip at 102is 80540\n",
      "Zip at 103is 80540\n",
      "Zip at 104is 80540\n",
      "Zip at 105is 80540\n",
      "Zip at 106is 80540\n",
      "Zip code 80540 occurs 42 times.\n"
     ]
    }
   ],
   "source": [
    "sCursor = arcpy.da.SearchCursor(copyFC,['FID','ZIPL'])\n",
    "\n",
    "count = 0\n",
    "\n",
    "for row in sCursor:\n",
    "    if row[1] == '80540':\n",
    "        count += 1\n",
    "        print 'Zip at ' + str(row[0]) + 'is ' + str(row[1])\n",
    "        \n",
    "print 'Zip code 80540 occurs ' + str(count) + ' times.'\n",
    "\n",
    "del sCursor"
   ]
  },
  {
   "cell_type": "markdown",
   "metadata": {},
   "source": [
    "### Now let's look at Geometry.  \n",
    "\n",
    "\n",
    "Again, see docs: https://desktop.arcgis.com/en/arcmap/latest/analyze/arcpy-data-access/searchcursor-class.htm"
   ]
  },
  {
   "cell_type": "code",
   "execution_count": 107,
   "metadata": {},
   "outputs": [
    {
     "name": "stdout",
     "output_type": "stream",
     "text": [
      "(<Polyline object at 0x5064c30[0x5064f80]>,)\n"
     ]
    }
   ],
   "source": [
    "with arcpy.da.SearchCursor(copyFC,['SHAPE@']) as sCursor:\n",
    "\n",
    "    row = sCursor.next()\n",
    "\n",
    "    print row"
   ]
  },
  {
   "cell_type": "markdown",
   "metadata": {},
   "source": [
    "Okay, so we know it's a polyline... a polyline is a geometry type...  \n",
    "\n",
    "Take a look at the ArcPy Geometry class: https://desktop.arcgis.com/en/arcmap/latest/analyze/arcpy-classes/geometry.htm "
   ]
  },
  {
   "cell_type": "code",
   "execution_count": 96,
   "metadata": {},
   "outputs": [
    {
     "name": "stdout",
     "output_type": "stream",
     "text": [
      "False\n"
     ]
    }
   ],
   "source": [
    "with arcpy.da.SearchCursor(copyFC,['SHAPE@']) as sCursor:\n",
    "\n",
    "    row = sCursor.next()\n",
    "\n",
    "    pLine = row[0] \n",
    "\n",
    "    print pLine.isMultipart\n",
    "    #print pLine.partCount\n",
    "    #print pLine.pointCount\n",
    "    #print pLine.length\n",
    "    #print pLine.getPart()"
   ]
  },
  {
   "cell_type": "markdown",
   "metadata": {},
   "source": [
    "Why are we getting these results? What does this mean?  \n",
    "\n",
    "`.getPart()` returns an array that tells us information about the different parts... in this case the start and end points of our polyline. If you want one of these parts, use it's index position...  "
   ]
  },
  {
   "cell_type": "code",
   "execution_count": 135,
   "metadata": {},
   "outputs": [
    {
     "name": "stdout",
     "output_type": "stream",
     "text": [
      "<geoprocessing array object object at 0x04BD8B48>\n"
     ]
    }
   ],
   "source": [
    "with arcpy.da.SearchCursor(copyFC,['SHAPE@']) as sCursor:\n",
    "\n",
    "    row = sCursor.next()\n",
    "\n",
    "    pLine = row[0] \n",
    "\n",
    "    pLineArray = pLine.getPart(0) #this returns the first index\n",
    "\n",
    "    print pLineArray\n",
    "\n",
    "    #point1 = pLineArray[1]\n",
    "\n",
    "    #print point1\n",
    "\n",
    "    #print point1.X\n",
    "    #print point1.Y"
   ]
  },
  {
   "cell_type": "markdown",
   "metadata": {},
   "source": [
    "That's all good... but let's do this in a smarter way... Make a `for` loop!  "
   ]
  },
  {
   "cell_type": "code",
   "execution_count": 102,
   "metadata": {},
   "outputs": [
    {
     "name": "stdout",
     "output_type": "stream",
     "text": [
      "475970.402263, 4441416.67969\n",
      "475967.594763, 4441508.49245\n"
     ]
    }
   ],
   "source": [
    "with arcpy.da.SearchCursor(copyFC,['SHAPE@']) as sCursor:\n",
    "    row = sCursor.next()\n",
    "    pLine = row[0] \n",
    "    pLineArray = pLine.getPart(0)\n",
    "\n",
    "    for p in pLineArray:\n",
    "        print str(p.X) + ', ' + str(p.Y) "
   ]
  },
  {
   "cell_type": "markdown",
   "metadata": {},
   "source": [
    "There are LOTS of geometry methods. `.touch` for example returns topology information:  \n",
    "\n",
    "**What should the following return?**  \n",
    "\n",
    "Again, see Geometry methods: https://desktop.arcgis.com/en/arcmap/latest/analyze/arcpy-classes/geometry.htm"
   ]
  },
  {
   "cell_type": "code",
   "execution_count": 104,
   "metadata": {},
   "outputs": [
    {
     "name": "stdout",
     "output_type": "stream",
     "text": [
      "True\n"
     ]
    }
   ],
   "source": [
    "with arcpy.da.SearchCursor(copyFC,['SHAPE@']) as sCursor:\n",
    "    row = sCursor.next()\n",
    "    pLine = row[0] \n",
    "    pLineArray = pLine.getPart(0)\n",
    "    point1 = pLineArray[1]\n",
    "\n",
    "    print point1.touches(pLine)"
   ]
  },
  {
   "cell_type": "markdown",
   "metadata": {},
   "source": [
    "We can use the `.Polyline()` geometry method to create a new line from one of the line segments:"
   ]
  },
  {
   "cell_type": "code",
   "execution_count": 110,
   "metadata": {},
   "outputs": [
    {
     "name": "stdout",
     "output_type": "stream",
     "text": [
      "<geoprocessing describe geometry object object at 0x04B049C0>\n",
      "<geoprocessing array object object at 0x04B104A0>\n"
     ]
    }
   ],
   "source": [
    "with arcpy.da.SearchCursor(copyFC,['SHAPE@']) as sCursor:\n",
    "    row = sCursor.next()\n",
    "    pLine = row[0] \n",
    "    pLineArray = pLine.getPart(0)\n",
    "    \n",
    "    newPolyLine = arcpy.Polyline(pLineArray)"
   ]
  },
  {
   "cell_type": "code",
   "execution_count": 111,
   "metadata": {},
   "outputs": [
    {
     "data": {
      "text/plain": [
       "<Polyline object at 0x4db5ab0[0x4b049c0]>"
      ]
     },
     "execution_count": 111,
     "metadata": {},
     "output_type": "execute_result"
    }
   ],
   "source": [
    "newPolyLine"
   ]
  },
  {
   "cell_type": "markdown",
   "metadata": {},
   "source": [
    "Hm... Now what?   \n",
    "\n",
    "### Update Cursor  \n",
    "\n",
    "Docs: https://desktop.arcgis.com/en/arcmap/latest/analyze/arcpy-data-access/updatecursor-class.htm  \n",
    "\n",
    "UpdateCursor establishes **read-write** access to records returned from a feature class or table.  \n",
    "\n",
    "First let's use the update cursor to populate a new attribute field:\n"
   ]
  },
  {
   "cell_type": "code",
   "execution_count": 112,
   "metadata": {},
   "outputs": [
    {
     "data": {
      "text/plain": [
       "<Result 'C:\\\\Users\\\\phwh9568\\\\GEOG_4303\\\\Week2\\\\/results/copy_lyons_mrd.shp'>"
      ]
     },
     "execution_count": 112,
     "metadata": {},
     "output_type": "execute_result"
    }
   ],
   "source": [
    "#first add a field:\n",
    "arcpy.management.AddField(copyFC,'ZIP2', 'LONG')\n",
    "#this new field is named ZIP2 and is a LONG type"
   ]
  },
  {
   "cell_type": "code",
   "execution_count": 122,
   "metadata": {},
   "outputs": [
    {
     "name": "stdout",
     "output_type": "stream",
     "text": [
      "Zip2 at 17 is now 3562\n",
      "Zip2 at 20 is now 3562\n",
      "Zip2 at 23 is now 3562\n",
      "Zip2 at 31 is now 3562\n",
      "Zip2 at 32 is now 3562\n",
      "Zip2 at 34 is now 3562\n",
      "Zip2 at 35 is now 3562\n",
      "Zip2 at 36 is now 3562\n",
      "Zip2 at 46 is now 3562\n",
      "Zip2 at 49 is now 3562\n",
      "Zip2 at 50 is now 3562\n",
      "Zip2 at 51 is now 3562\n",
      "Zip2 at 52 is now 3562\n",
      "Zip2 at 55 is now 3562\n",
      "Zip2 at 57 is now 3562\n",
      "Zip2 at 59 is now 3562\n",
      "Zip2 at 60 is now 3562\n",
      "Zip2 at 64 is now 3562\n",
      "Zip2 at 69 is now 3562\n",
      "Zip2 at 70 is now 3562\n",
      "Zip2 at 72 is now 3562\n",
      "Zip2 at 74 is now 3562\n",
      "Zip2 at 75 is now 3562\n",
      "Zip2 at 76 is now 3562\n",
      "Zip2 at 77 is now 3562\n",
      "Zip2 at 79 is now 3562\n",
      "Zip2 at 80 is now 3562\n",
      "Zip2 at 81 is now 3562\n",
      "Zip2 at 91 is now 3562\n",
      "Zip2 at 93 is now 3562\n",
      "Zip2 at 95 is now 3562\n",
      "Zip2 at 96 is now 3562\n",
      "Zip2 at 97 is now 3562\n",
      "Zip2 at 98 is now 3562\n",
      "Zip2 at 99 is now 3562\n",
      "Zip2 at 100 is now 3562\n",
      "Zip2 at 101 is now 3562\n",
      "Zip2 at 102 is now 3562\n",
      "Zip2 at 103 is now 3562\n",
      "Zip2 at 104 is now 3562\n",
      "Zip2 at 105 is now 3562\n",
      "Zip2 at 106 is now 3562\n"
     ]
    }
   ],
   "source": [
    "#Now we will populate the field:\n",
    "with arcpy.da.UpdateCursor(copyFC, ['FID','ZIPL','ZIP2']) as uCursor: # this activates the cursor, working on the three attributes we specified\n",
    "    for row in uCursor:\n",
    "        if row[1] == '80540':\n",
    "            row[2] = 3562\n",
    "            print 'Zip2 at ' + str(row[0]) + ' is now ' + str(row[2])\n",
    "        uCursor.updateRow(row)"
   ]
  },
  {
   "cell_type": "markdown",
   "metadata": {},
   "source": [
    "Did it work? Check it with SearchCursor:"
   ]
  },
  {
   "cell_type": "code",
   "execution_count": 123,
   "metadata": {},
   "outputs": [
    {
     "name": "stdout",
     "output_type": "stream",
     "text": [
      "(0, u'80503', 0)\n",
      "(1, u'80503', 0)\n",
      "(2, u'80503', 0)\n",
      "(3, u'80503', 0)\n",
      "(4, u'80503', 0)\n",
      "(5, u'80503', 0)\n",
      "(6, u'80503', 0)\n",
      "(7, u'80503', 0)\n",
      "(8, u'80503', 0)\n",
      "(9, u'80503', 0)\n",
      "(10, u'80503', 0)\n",
      "(11, u'80503', 0)\n",
      "(12, u'80503', 0)\n",
      "(13, u'80503', 0)\n",
      "(14, u'80503', 0)\n",
      "(15, u'80503', 0)\n",
      "(16, u'80503', 0)\n",
      "(17, u'80540', 3562)\n",
      "(18, u'80503', 0)\n",
      "(19, u' ', 0)\n",
      "(20, u'80540', 3562)\n",
      "(21, u'80503', 0)\n",
      "(22, u' ', 0)\n",
      "(23, u'80540', 3562)\n",
      "(24, u' ', 0)\n",
      "(25, u' ', 0)\n",
      "(26, u' ', 0)\n",
      "(27, u' ', 0)\n",
      "(28, u' ', 0)\n",
      "(29, u' ', 0)\n",
      "(30, u' ', 0)\n",
      "(31, u'80540', 3562)\n",
      "(32, u'80540', 3562)\n",
      "(33, u' ', 0)\n",
      "(34, u'80540', 3562)\n",
      "(35, u'80540', 3562)\n",
      "(36, u'80540', 3562)\n",
      "(37, u' ', 0)\n",
      "(38, u' ', 0)\n",
      "(39, u' ', 0)\n",
      "(40, u' ', 0)\n",
      "(41, u' ', 0)\n",
      "(42, u' ', 0)\n",
      "(43, u'80503', 0)\n",
      "(44, u' ', 0)\n",
      "(45, u'80503', 0)\n",
      "(46, u'80540', 3562)\n",
      "(47, u' ', 0)\n",
      "(48, u' ', 0)\n",
      "(49, u'80540', 3562)\n",
      "(50, u'80540', 3562)\n",
      "(51, u'80540', 3562)\n",
      "(52, u'80540', 3562)\n",
      "(53, u' ', 0)\n",
      "(54, u' ', 0)\n",
      "(55, u'80540', 3562)\n",
      "(56, u' ', 0)\n",
      "(57, u'80540', 3562)\n",
      "(58, u' ', 0)\n",
      "(59, u'80540', 3562)\n",
      "(60, u'80540', 3562)\n",
      "(61, u' ', 0)\n",
      "(62, u' ', 0)\n",
      "(63, u' ', 0)\n",
      "(64, u'80540', 3562)\n",
      "(65, u' ', 0)\n",
      "(66, u' ', 0)\n",
      "(67, u' ', 0)\n",
      "(68, u' ', 0)\n",
      "(69, u'80540', 3562)\n",
      "(70, u'80540', 3562)\n",
      "(71, u' ', 0)\n",
      "(72, u'80540', 3562)\n",
      "(73, u' ', 0)\n",
      "(74, u'80540', 3562)\n",
      "(75, u'80540', 3562)\n",
      "(76, u'80540', 3562)\n",
      "(77, u'80540', 3562)\n",
      "(78, u' ', 0)\n",
      "(79, u'80540', 3562)\n",
      "(80, u'80540', 3562)\n",
      "(81, u'80540', 3562)\n",
      "(82, u' ', 0)\n",
      "(83, u' ', 0)\n",
      "(84, u' ', 0)\n",
      "(85, u' ', 0)\n",
      "(86, u' ', 0)\n",
      "(87, u' ', 0)\n",
      "(88, u' ', 0)\n",
      "(89, u' ', 0)\n",
      "(90, u' ', 0)\n",
      "(91, u'80540', 3562)\n",
      "(92, u' ', 0)\n",
      "(93, u'80540', 3562)\n",
      "(94, u' ', 0)\n",
      "(95, u'80540', 3562)\n",
      "(96, u'80540', 3562)\n",
      "(97, u'80540', 3562)\n",
      "(98, u'80540', 3562)\n",
      "(99, u'80540', 3562)\n",
      "(100, u'80540', 3562)\n",
      "(101, u'80540', 3562)\n",
      "(102, u'80540', 3562)\n",
      "(103, u'80540', 3562)\n",
      "(104, u'80540', 3562)\n",
      "(105, u'80540', 3562)\n",
      "(106, u'80540', 3562)\n"
     ]
    }
   ],
   "source": [
    "with arcpy.da.SearchCursor(copyFC, ['FID','ZIPL','ZIP2']) as sCursor:\n",
    "    for row in sCursor:\n",
    "        print row"
   ]
  },
  {
   "cell_type": "markdown",
   "metadata": {},
   "source": [
    "Neat...  \n",
    "\n",
    "Let's do some more UpdateCursor, this time working on geometry. \n",
    "\n",
    "We will shift a line's end point 2000 meters to the east... but first, what reference system is this in? "
   ]
  },
  {
   "cell_type": "code",
   "execution_count": 139,
   "metadata": {},
   "outputs": [
    {
     "data": {
      "text/plain": [
       "u'NAD_1983_UTM_Zone_13N'"
      ]
     },
     "execution_count": 139,
     "metadata": {},
     "output_type": "execute_result"
    }
   ],
   "source": [
    "arcpy.Describe(copyFC).spatialReference.name"
   ]
  },
  {
   "cell_type": "markdown",
   "metadata": {},
   "source": [
    "Think for a sec how UTM works... https://www.usgs.gov/faqs/how-are-utm-coordinates-measured-usgs-topographic-maps#:~:text=The%20UTM%20"
   ]
  },
  {
   "cell_type": "code",
   "execution_count": 145,
   "metadata": {},
   "outputs": [],
   "source": [
    "with arcpy.da.UpdateCursor(copyFC,['SHAPE@']) as uCursor:\n",
    "    row = uCursor.next()\n",
    "    pLine = row[0]\n",
    "    #print pLine.pointCount\n",
    "    pLineArr = pLine.getPart(0)\n",
    "    p1 = pLineArr[0]\n",
    "    #print p1.X\n",
    "    p1.X = p1.X+2000\n",
    "    #print p1.X\n",
    "    #print pLineArr[0]\n",
    "    \n",
    "    newPolyLine = arcpy.Polyline(pLineArr)\n",
    "    uCursor.updateRow([newPolyLine])"
   ]
  },
  {
   "cell_type": "markdown",
   "metadata": {},
   "source": [
    "Keep things tidy... delete the pLineArr variable so we don't mess ourselves up:"
   ]
  },
  {
   "cell_type": "code",
   "execution_count": 146,
   "metadata": {},
   "outputs": [],
   "source": [
    "del pLineArr"
   ]
  },
  {
   "cell_type": "markdown",
   "metadata": {},
   "source": [
    "Now, let's do the same except move the x values in all of the lines in the copyFC shepfile:"
   ]
  },
  {
   "cell_type": "code",
   "execution_count": 173,
   "metadata": {},
   "outputs": [
    {
     "name": "stdout",
     "output_type": "stream",
     "text": [
      "existing output file DESTROYED.\n"
     ]
    }
   ],
   "source": [
    "if arcpy.Exists(copyFC):\n",
    "    arcpy.management.Delete(copyFC)\n",
    "    print 'existing output file DESTROYED.'\n",
    "else:\n",
    "    print 'nothing to blow up, sorry.'"
   ]
  },
  {
   "cell_type": "code",
   "execution_count": 174,
   "metadata": {},
   "outputs": [
    {
     "data": {
      "text/plain": [
       "<Result 'C:\\\\Users\\\\phwh9568\\\\GEOG_4303\\\\Week2\\\\\\\\results\\\\copy_lyons_mrd.shp'>"
      ]
     },
     "execution_count": 174,
     "metadata": {},
     "output_type": "execute_result"
    }
   ],
   "source": [
    "arcpy.management.Copy(inFC,copyFC)"
   ]
  },
  {
   "cell_type": "code",
   "execution_count": 175,
   "metadata": {},
   "outputs": [
    {
     "name": "stdout",
     "output_type": "stream",
     "text": [
      "old values are:  475970.402262658 4441416.6796875 NaN NaN\n",
      "old values are:  475967.59476322 4441508.49245396 NaN NaN\n"
     ]
    }
   ],
   "source": [
    "with arcpy.da.UpdateCursor(copyFC,['SHAPE@']) as uCursor:\n",
    "    row = uCursor.next()\n",
    "    pLine = row[0]\n",
    "    pLineArr = pLine.getPart(0)\n",
    "    for i in range(len(pLineArr)):\n",
    "        p=pLineArr[i]\n",
    "        print 'old values are: ', p\n",
    "        p.X = p.X+2000\n",
    "        \n",
    "        \n",
    "    newPolyLine=arcpy.Polyline(pLineArr)\n",
    "    uCursor.updateRow([newPolyLine])\n",
    "del pLineArr "
   ]
  },
  {
   "cell_type": "markdown",
   "metadata": {},
   "source": [
    "Did it work?"
   ]
  },
  {
   "cell_type": "code",
   "execution_count": 176,
   "metadata": {},
   "outputs": [
    {
     "name": "stdout",
     "output_type": "stream",
     "text": [
      "New values are:  477970.402262658 4441416.6796875 NaN NaN\n",
      "New values are:  477967.59476322 4441508.49245396 NaN NaN\n"
     ]
    }
   ],
   "source": [
    "with arcpy.da.SearchCursor(copyFC,['SHAPE@']) as sCursor:\n",
    "    row = sCursor.next()\n",
    "    pLine = row[0]\n",
    "    pLineArr = pLine.getPart(0)\n",
    "    for i in range(len(pLineArr)):\n",
    "        p = pLineArr[i]\n",
    "        print 'New values are: ',p"
   ]
  },
  {
   "cell_type": "code",
   "execution_count": null,
   "metadata": {},
   "outputs": [],
   "source": []
  }
 ],
 "metadata": {
  "kernelspec": {
   "display_name": "Python 2",
   "language": "python",
   "name": "python2"
  },
  "language_info": {
   "codemirror_mode": {
    "name": "ipython",
    "version": 2
   },
   "file_extension": ".py",
   "mimetype": "text/x-python",
   "name": "python",
   "nbconvert_exporter": "python",
   "pygments_lexer": "ipython2",
   "version": "2.7.15"
  }
 },
 "nbformat": 4,
 "nbformat_minor": 2
}
