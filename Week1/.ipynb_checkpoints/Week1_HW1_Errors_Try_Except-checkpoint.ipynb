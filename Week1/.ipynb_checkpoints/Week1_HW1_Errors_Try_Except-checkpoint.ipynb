{
 "cells": [
  {
   "cell_type": "markdown",
   "metadata": {},
   "source": [
    "### Understanding Error Messages, try/except statements  \n",
    "\n",
    "`try:` and `except:` are for testing code for errors and then handling errors."
   ]
  },
  {
   "cell_type": "code",
   "execution_count": null,
   "metadata": {},
   "outputs": [],
   "source": [
    "import traceback\n",
    "import sys"
   ]
  },
  {
   "cell_type": "markdown",
   "metadata": {},
   "source": [
    "### Here's some code with an error...  "
   ]
  },
  {
   "cell_type": "code",
   "execution_count": null,
   "metadata": {},
   "outputs": [],
   "source": [
    "print 'starting my analysis'\n",
    "a = 34\n",
    "b = '45'\n",
    "g = a + b\n",
    "print 'The result is:', g"
   ]
  },
  {
   "cell_type": "markdown",
   "metadata": {},
   "source": [
    "Okay, we made a mistake, but where did things go wrong?  \n",
    "\n",
    "This is where traceback comes in. Traceback messages tell you where an exception aka error occurred.\n",
    "\n",
    "This is a traceback message:\n",
    "\n",
    "```\n",
    "---------------------------------------------------------------------------\n",
    "TypeError                                 Traceback (most recent call last)\n",
    "<ipython-input-9-66e80834d7b7> in <module>()\n",
    "      2 a = 34\n",
    "      3 b = '45'\n",
    "----> 4 g = a + b\n",
    "      5 print 'The result is:', g\n",
    "\n",
    "TypeError: unsupported operand type(s) for +: 'int' and 'str'\n",
    "```  \n",
    "\n",
    "Note that the `sys.exc_info` returns a tuple of 3 values with information about the exception that occurred....  \n",
    "\n",
    "#### Here is a try/except statement:"
   ]
  },
  {
   "cell_type": "code",
   "execution_count": null,
   "metadata": {},
   "outputs": [],
   "source": [
    "try:\n",
    "    print 'starting my analysis'\n",
    "    a = 34\n",
    "    b = '45'\n",
    "    g = a + b\n",
    "    print 'The result is:', g\n",
    "except:\n",
    "    print 'BEEP BOOP BEEP! You messed up!'"
   ]
  },
  {
   "cell_type": "markdown",
   "metadata": {},
   "source": [
    "You'll find try/except statements in many of the scripts used in this class. They can help you identify and understand problems. And we can implement them in a way that delivers more clearer information than the traceback message by itself. We can return bits of the sys.exc_info tuple in our excpetion like this:"
   ]
  },
  {
   "cell_type": "code",
   "execution_count": null,
   "metadata": {},
   "outputs": [],
   "source": [
    "try:\n",
    "    print 'starting my analysis'\n",
    "    a = 34\n",
    "    b = '45'\n",
    "    g = a + b\n",
    "    print 'The result is:', g\n",
    "except:\n",
    "    print 'BEEP BOOP BEEP! You messed up!'\n",
    "    print sys.exc_info()[0]\n",
    "    print sys.exc_info()[1]\n",
    "    print sys.exc_info()[2]"
   ]
  },
  {
   "cell_type": "markdown",
   "metadata": {},
   "source": [
    "This info tells us the following:\n",
    "1. `<type 'exceptions.TypeError'>`: You made a type error (that is, something to do with data types)\n",
    "2. `unsupported operand type(s) for +: 'int' and 'str'`: This get's to the bottom of it--you tried to add a number and a string together. \n",
    "3. `<traceback object at 0x05091300>`: this is where it exists in your computer's memory. Sort of... more on this:"
   ]
  },
  {
   "cell_type": "markdown",
   "metadata": {},
   "source": [
    "You can use the traceback module to make things more human readable. For example: `traceback.format_tb()` can make the location actually human-readable: "
   ]
  },
  {
   "cell_type": "code",
   "execution_count": null,
   "metadata": {},
   "outputs": [],
   "source": [
    "try: \n",
    "    print 'starting my analysis'\n",
    "    a = 34\n",
    "    b = '45'\n",
    "    g = a + b\n",
    "    print 'The result is:', g\n",
    "\n",
    "except:\n",
    "    print 'Bump! There is something wrong.'\n",
    "    print traceback.format_tb(sys.exc_info()[2])"
   ]
  },
  {
   "cell_type": "markdown",
   "metadata": {},
   "source": [
    "Now we can see the error is in line 5, and the offending bit of code was `g = a+ b`. *Note that `traceback.format_tb()` returns a list of three elements.*\n",
    "\n",
    "But let's combine the traceback info with our own print message to make it a little easier to read."
   ]
  },
  {
   "cell_type": "code",
   "execution_count": null,
   "metadata": {},
   "outputs": [],
   "source": [
    "try: \n",
    "    print 'starting my analysis'\n",
    "    a = 34\n",
    "    b = '45'\n",
    "    g = a + b\n",
    "    print 'The result is:', g\n",
    "\n",
    "except:\n",
    "    print 'BEEP BOOP BEEP! You messed up!'\n",
    "    tb = sys.exc_info()[2]\n",
    "    print tb\n",
    "    tbinfo = traceback.format_tb(tb)[0]\n",
    "    pymsg = 'PYTHON ERRORS: \\nTraceback Info:\\n' + tbinfo + '\\nError Info:\\n' + str(sys.exc_info()[1])\n",
    "    print pymsg"
   ]
  },
  {
   "cell_type": "markdown",
   "metadata": {},
   "source": [
    "#### You will see try/except blocks in various exercise and lab scripts that will return errors in a similar fashion...  \n",
    "\n",
    "### Now, let's practice some debugging and reading error messages.  \n",
    "\n",
    "Bring in some modules:"
   ]
  },
  {
   "cell_type": "code",
   "execution_count": null,
   "metadata": {},
   "outputs": [],
   "source": [
    "import arcpy\n",
    "from arcpy import env"
   ]
  },
  {
   "cell_type": "markdown",
   "metadata": {},
   "source": [
    "Set your workspace and define variables that represent our input and output files:"
   ]
  },
  {
   "cell_type": "code",
   "execution_count": null,
   "metadata": {},
   "outputs": [],
   "source": [
    "env.workspace = r'C:\\Users\\phwh9568\\GEOG_4303\\Week1'\n",
    "\n",
    "outpath = r'/results'\n",
    "infile = r'/data/lyons_mrdA.shp'\n",
    "outfile = outpath + r'/ly_mrd_buff.shp'"
   ]
  },
  {
   "cell_type": "markdown",
   "metadata": {},
   "source": [
    "You'll find there are several errors in this code block. Run the code, review the errors, fix, and run again until it works:"
   ]
  },
  {
   "cell_type": "code",
   "execution_count": null,
   "metadata": {},
   "outputs": [],
   "source": [
    "try:       \n",
    "    if arcpy.Exists(outfiles):\n",
    "        arcpy.management.Delete(outfile)\n",
    "        print outfile, 'has been detonated.'\n",
    "        arcpy.GetMessages(0)\n",
    "        \n",
    "    if arcpy.Exists(infile) == True:\n",
    "        print 'Starting Buffer routine'\n",
    "        arcpy.analysis.Buffer(infile, outfile, '100 Feet','ROUND')\n",
    "        print 'Buffer operation executed.'\n",
    "        \n",
    "    else:\n",
    "        print 'Dataset does not exist in directory'\n",
    "        \n",
    "except:\n",
    "    tb = sys.exc_info()[2]\n",
    "    tbinfo = traceback.format_tb(tb)[0]\n",
    "    pymsg = 'PYTHON ERRORS:\\nTraceback Info:\\n' + tbinfo + '\\nError Info:\\n' + str(sys.exc_info()[1])\n",
    "    arcmsgs = 'ARCPY ERRORS:\\n' + arcpy.GetMessages(2) + '\\n'\n",
    "    print arcmsgs\n",
    "    print pymsg\n",
    "    print '\\nCurrent Arcpy Messages:', arcpy.GetMessages()"
   ]
  },
  {
   "cell_type": "markdown",
   "metadata": {},
   "source": [
    "What's the ploblem?  \n",
    "\n",
    "Don't forget to read the docs: https://desktop.arcgis.com/en/arcmap/latest/tools/analysis-toolbox/buffer.htm\n",
    "\n",
    "\n",
    "## Here is a functional script.  \n",
    "\n",
    "This one doesn't have errors, but this is an example of the type of script you will be building soon. Spend some time running it and reviewing the results. Carefully read each line to understand what is going on during each step of the sequence. Run it several times. It's okay if it is a little unclear, we will discuss during class.  \n",
    "\n",
    "Here's what it accomplishes:  \n",
    "\n",
    "In your week 1 data folder, there are shapefiles that represent one point for the years 1972 through 1978. This script simply reads each shapefile, adds a new field 'year', and populates that field in each shapefile with it's corresponding year."
   ]
  },
  {
   "cell_type": "code",
   "execution_count": null,
   "metadata": {},
   "outputs": [],
   "source": [
    "period = range(1972,1979) # use the range function to define a list variable\n",
    "\n",
    "try:\n",
    "    for year in period:\n",
    "        #all variables you will need you should declare right here\n",
    "        \n",
    "        print '********************************'\n",
    "        print 'Declaring all variables needed for year', year\n",
    "        \n",
    "        inFile = r'/data/samplePNT1_' + str(year) + '.shp'\n",
    "        outFile = r'/results/samplePNT1_' + str(year) + '.shp'\n",
    "        \n",
    "        if arcpy.Exists(outFile)==True:\n",
    "            arcpy.management.Delete(outFile)\n",
    "            print 'delete operation performed'\n",
    "        arcpy.management.Copy(inFile,outFile)\n",
    "        \n",
    "        #Add a field to the table\n",
    "        arcpy.management.AddField(outFile,'year','Long')\n",
    "        \n",
    "        #calculate the field 'year'\n",
    "        print 'Calculating year field of', inFile\n",
    "        arcpy.management.CalculateField(outFile, 'year',year)\n",
    "\n",
    "        \n",
    "except:\n",
    "    print 'Try it again...'\n",
    "    tb = sys.exc_info()[2]\n",
    "    tbinfo = traceback.format_tb(tb)[0]\n",
    "    msgs = 'ARCPY ERRORS:\\n' + arcpy.GetMessages(0) + '\\n'\n",
    "    pymsg = 'PYTHON ERRORS:\\nTraceback Info:\\n' + tbinfo + '\\nError Info:\\n ' +str(sys.exc_info()[1])    \n",
    "    print msgs\n",
    "    print pymsg\n"
   ]
  },
  {
   "cell_type": "markdown",
   "metadata": {},
   "source": [
    "Calculate Field docs: https://desktop.arcgis.com/en/arcmap/latest/tools/data-management-toolbox/calculate-field.htm  \n",
    "Add Field docs: https://desktop.arcgis.com/en/arcmap/latest/tools/data-management-toolbox/add-field.htm  "
   ]
  },
  {
   "cell_type": "code",
   "execution_count": null,
   "metadata": {},
   "outputs": [],
   "source": []
  }
 ],
 "metadata": {
  "kernelspec": {
   "display_name": "Python 2",
   "language": "python",
   "name": "python2"
  },
  "language_info": {
   "codemirror_mode": {
    "name": "ipython",
    "version": 2
   },
   "file_extension": ".py",
   "mimetype": "text/x-python",
   "name": "python",
   "nbconvert_exporter": "python",
   "pygments_lexer": "ipython2",
   "version": "2.7.15"
  }
 },
 "nbformat": 4,
 "nbformat_minor": 2
}
