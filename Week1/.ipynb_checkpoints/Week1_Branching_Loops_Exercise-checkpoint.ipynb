{
 "cells": [
  {
   "cell_type": "markdown",
   "metadata": {},
   "source": [
    "## Branching\n",
    "\n",
    "### This is a story--ahem--SCRIPT about some trees in a forest.\n",
    "\n",
    "By Strum, Leyk, White\n",
    "\n",
    "#### Let's pretend we're out surveying a forest. What kind of forest is this and what sort of trees live there? \n",
    "\n",
    "First, we will count deciduous and coniferous:\n",
    "```python\n",
    "countDeciduous = 0\n",
    "countConiferous = 0\n",
    "```"
   ]
  },
  {
   "cell_type": "code",
   "execution_count": 1,
   "metadata": {},
   "outputs": [],
   "source": []
  },
  {
   "cell_type": "markdown",
   "metadata": {},
   "source": [
    "First we meet a pine tree. We'll record it and add to our coniferous count:\n",
    "```python\n",
    "firstTree = 'Pine'\n",
    "countConiferous +=1\n",
    "print ('A ', firstTree, 'has been recorded')\n",
    "```"
   ]
  },
  {
   "cell_type": "code",
   "execution_count": 2,
   "metadata": {},
   "outputs": [
    {
     "name": "stdout",
     "output_type": "stream",
     "text": [
      "A  Pine has been recorded\n"
     ]
    }
   ],
   "source": []
  },
  {
   "cell_type": "markdown",
   "metadata": {},
   "source": [
    "Next you encounter an oak...\n",
    "```python\n",
    "secondTree = 'Oak'\n",
    "countDeciduous += 1\n",
    "print ('A ', secondTree, 'has been recorded' )\n",
    "```"
   ]
  },
  {
   "cell_type": "code",
   "execution_count": 3,
   "metadata": {},
   "outputs": [
    {
     "name": "stdout",
     "output_type": "stream",
     "text": [
      "A  Oak has been recorded\n"
     ]
    }
   ],
   "source": []
  },
  {
   "cell_type": "markdown",
   "metadata": {},
   "source": [
    "Look, a spruce! \n",
    "```python\n",
    "thirdTree = 'Spruce'\n",
    "countConiferous += 1\n",
    "print ('A ', thirdTree, 'has been recorded')\n",
    "```"
   ]
  },
  {
   "cell_type": "code",
   "execution_count": null,
   "metadata": {},
   "outputs": [],
   "source": []
  },
  {
   "cell_type": "markdown",
   "metadata": {},
   "source": [
    "Summarizing tree counts:\n",
    "```python\n",
    "print (\"This forest contains \", countConiferous, \" coniferous trees and \", countDeciduous, \" deciduous trees.\")\n",
    "```"
   ]
  },
  {
   "cell_type": "code",
   "execution_count": null,
   "metadata": {},
   "outputs": [],
   "source": []
  },
  {
   "cell_type": "markdown",
   "metadata": {},
   "source": [
    "#### Not a smart script here, is it? "
   ]
  },
  {
   "cell_type": "markdown",
   "metadata": {},
   "source": [
    "## Let's start over..."
   ]
  },
  {
   "cell_type": "code",
   "execution_count": 1,
   "metadata": {},
   "outputs": [],
   "source": [
    "countDeciduous = 0\n",
    "countConiferous = 0"
   ]
  },
  {
   "cell_type": "markdown",
   "metadata": {},
   "source": [
    "This time, we'll just reassign `tree` everytime we encounter a new tree, and will use branching, AKA `if`, `elif`, and `else` statements to manage our count and summary. \n",
    "\n",
    "First, you encounter a pine:\n",
    "```python\n",
    "tree = 'pine'\n",
    "```"
   ]
  },
  {
   "cell_type": "code",
   "execution_count": null,
   "metadata": {},
   "outputs": [],
   "source": []
  },
  {
   "cell_type": "markdown",
   "metadata": {},
   "source": [
    "Set up your if statement:\n",
    "```python\n",
    "if tree =='pine':\n",
    "    print 'A', tree,'--a coniferous tree--has been recorded.'\n",
    "    countConiferous += 1\n",
    "    \n",
    "else tree =='oak':\n",
    "    print 'A', tree,'--a deciduous tree--has been recorded.'\n",
    "    countDeciduous += 1\n",
    "    \n",
    "print \"This forest contains \", countConiferous, \" coniferous trees \\\n",
    "and \", countDeciduous, \" deciduous trees.\"\n",
    "```"
   ]
  },
  {
   "cell_type": "code",
   "execution_count": null,
   "metadata": {},
   "outputs": [],
   "source": [
    "\n",
    "\n",
    "\n",
    "\n",
    "\n",
    "\n",
    "\n",
    "\n",
    "\n",
    "\n"
   ]
  },
  {
   "cell_type": "markdown",
   "metadata": {},
   "source": [
    "Look, now you found an oak. Reassign `tree` as 'oak'\n",
    "```python\n",
    "tree = 'oak'\n",
    "```\n",
    "Then re-run the if - if statement above... what happens? Run it a few times reassigning between 'oak' and 'pine'... What happens if you assign `tree` as 'spruce'? "
   ]
  },
  {
   "cell_type": "code",
   "execution_count": 6,
   "metadata": {},
   "outputs": [],
   "source": [
    "tree = 'oak'"
   ]
  },
  {
   "cell_type": "markdown",
   "metadata": {},
   "source": [
    "Note that you can reassign a variable at any point in your script.\n",
    "\n",
    "We can use an `else` along with our `if` to handle more conditions:\n",
    "```python\n",
    "if tree =='pine':\n",
    "    print 'A', tree,'--a coniferous tree--has been recorded.'\n",
    "    countConiferous += 1\n",
    "    \n",
    "elif tree =='oak':\n",
    "    print 'A', tree,'--a deciduous tree--has been recorded.'\n",
    "    countDeciduous += 1\n",
    "    \n",
    "else:\n",
    "    print 'I dont know what kind of tree this is`\n",
    "    \n",
    "print \"This forest contains \", countConiferous, \" coniferous trees and \", countDeciduous, \" deciduous trees.\"\n",
    "```\n",
    "reassign `tree` as 'oak', 'pine', or 'spruce' and view the outcome."
   ]
  },
  {
   "cell_type": "code",
   "execution_count": null,
   "metadata": {},
   "outputs": [],
   "source": [
    "\n",
    "\n",
    "\n",
    "\n",
    "\n",
    "\n",
    "\n",
    "\n",
    "\n",
    "\n",
    "\n",
    "\n",
    "\n",
    "\n"
   ]
  },
  {
   "cell_type": "markdown",
   "metadata": {},
   "source": [
    "In the next cell, modify the above code and add a second elif statement to account for spruce trees:"
   ]
  },
  {
   "cell_type": "code",
   "execution_count": null,
   "metadata": {},
   "outputs": [],
   "source": [
    "\n",
    "\n",
    "\n",
    "\n",
    "\n",
    "\n",
    "\n",
    "\n",
    "\n",
    "\n",
    "\n",
    "\n",
    "\n",
    "\n",
    "\n",
    "\n",
    "\n"
   ]
  },
  {
   "cell_type": "markdown",
   "metadata": {},
   "source": [
    "Now let's make our summary statement a little smarter... \n",
    "```python\n",
    "if countConiferous > countDeciduous:\n",
    "    print 'could be a coniferous forest.'\n",
    "    \n",
    "elif countConiferous < countDeciduous:\n",
    "    print 'could be a deciduous forest'\n",
    "    \n",
    "else:\n",
    "    print 'could be a mixed forest.'\n",
    "```"
   ]
  },
  {
   "cell_type": "code",
   "execution_count": null,
   "metadata": {},
   "outputs": [],
   "source": [
    "\n",
    "\n",
    "\n",
    "\n",
    "\n",
    "\n",
    "\n",
    "\n",
    "\n",
    "\n"
   ]
  },
  {
   "cell_type": "markdown",
   "metadata": {},
   "source": [
    "**Now put it all together!** In the next cell, combine your tree counting conditional checks with your summary print statement conditions. Note that these are checking different things and do not all go in one big if statement... there are two separate things happenning... "
   ]
  },
  {
   "cell_type": "code",
   "execution_count": null,
   "metadata": {},
   "outputs": [],
   "source": [
    "\n",
    "\n",
    "\n",
    "\n",
    "\n",
    "\n",
    "\n",
    "\n",
    "\n",
    "\n",
    "\n",
    "\n",
    "\n",
    "\n",
    "\n",
    "\n",
    "\n"
   ]
  },
  {
   "cell_type": "markdown",
   "metadata": {},
   "source": [
    "Better! but still only takes one tree at a time...\n",
    "\n",
    "### Let's do this one more time...  \n",
    "\n",
    "Let's start with a list of trees and modify our code so we can just input our list instead of one tree at a time."
   ]
  },
  {
   "cell_type": "code",
   "execution_count": 16,
   "metadata": {},
   "outputs": [],
   "source": [
    "countDeciduous = 0\n",
    "countConiferous = 0"
   ]
  },
  {
   "cell_type": "markdown",
   "metadata": {},
   "source": [
    "Let's start by declaring a list of trees:\n",
    "```python\n",
    "myTrees = ['pine', 'oak', 'pine', 'spruce', 'oak', 'oak', 'chestnut']\n",
    "```"
   ]
  },
  {
   "cell_type": "code",
   "execution_count": null,
   "metadata": {},
   "outputs": [],
   "source": []
  },
  {
   "cell_type": "markdown",
   "metadata": {},
   "source": [
    "Let's use a `for` loop to count these up:\n",
    "```python\n",
    "for tree in myTrees:\n",
    "    if tree == 'pine':\n",
    "        print 'A ', tree, '--a confierous tree--has been recorded.'\n",
    "        countConiferous +=1\n",
    "        \n",
    "    elif tree =='oak':\n",
    "        print 'A ', tree, '--a deciduous tree--has been recorded'\n",
    "        countDeciduous += 1\n",
    "    \n",
    "    elif tree =='spruce':\n",
    "        print 'A', tree,'--a deciduous tree--has been recorded.'\n",
    "        countConiferous += 1\n",
    "    \n",
    "    else:\n",
    "        print'No idea what this tree is'\n",
    "```"
   ]
  },
  {
   "cell_type": "code",
   "execution_count": null,
   "metadata": {},
   "outputs": [],
   "source": [
    "\n",
    "\n",
    "\n",
    "\n",
    "\n",
    "\n",
    "\n",
    "\n",
    "\n",
    "\n",
    "\n",
    "\n",
    "\n",
    "\n"
   ]
  },
  {
   "cell_type": "markdown",
   "metadata": {},
   "source": [
    "All you've done here is indent your earlier conditional checks and put them inside a for loop. EASY!"
   ]
  },
  {
   "cell_type": "markdown",
   "metadata": {},
   "source": [
    "Let's try this again with a `while` loop:"
   ]
  },
  {
   "cell_type": "code",
   "execution_count": 47,
   "metadata": {},
   "outputs": [],
   "source": [
    "countDeciduous = 0\n",
    "countConiferous = 0"
   ]
  },
  {
   "cell_type": "markdown",
   "metadata": {},
   "source": [
    "Remember that a `while` loop iterates until a specific condition is met. We will count all trees and stop iterating when the count equals the number of trees."
   ]
  },
  {
   "cell_type": "code",
   "execution_count": 37,
   "metadata": {},
   "outputs": [],
   "source": [
    "countTrees = 0\n",
    "while countTrees < len(myTrees):\n",
    "    tree = myTrees[countTrees] \n",
    "    \n",
    "    # your if else statements go here\n",
    "        \n",
    "    countTrees += 1"
   ]
  },
  {
   "cell_type": "code",
   "execution_count": null,
   "metadata": {},
   "outputs": [],
   "source": []
  },
  {
   "cell_type": "code",
   "execution_count": null,
   "metadata": {},
   "outputs": [],
   "source": []
  },
  {
   "cell_type": "code",
   "execution_count": null,
   "metadata": {},
   "outputs": [],
   "source": []
  },
  {
   "cell_type": "code",
   "execution_count": null,
   "metadata": {},
   "outputs": [],
   "source": []
  },
  {
   "cell_type": "code",
   "execution_count": null,
   "metadata": {},
   "outputs": [],
   "source": []
  },
  {
   "cell_type": "code",
   "execution_count": null,
   "metadata": {},
   "outputs": [],
   "source": []
  },
  {
   "cell_type": "code",
   "execution_count": null,
   "metadata": {},
   "outputs": [],
   "source": []
  },
  {
   "cell_type": "code",
   "execution_count": null,
   "metadata": {},
   "outputs": [],
   "source": []
  },
  {
   "cell_type": "code",
   "execution_count": null,
   "metadata": {},
   "outputs": [],
   "source": []
  },
  {
   "cell_type": "code",
   "execution_count": null,
   "metadata": {},
   "outputs": [],
   "source": []
  },
  {
   "cell_type": "code",
   "execution_count": null,
   "metadata": {},
   "outputs": [],
   "source": []
  },
  {
   "cell_type": "code",
   "execution_count": null,
   "metadata": {},
   "outputs": [],
   "source": []
  },
  {
   "cell_type": "markdown",
   "metadata": {},
   "source": [
    "## All together:"
   ]
  },
  {
   "cell_type": "code",
   "execution_count": 40,
   "metadata": {},
   "outputs": [
    {
     "name": "stdout",
     "output_type": "stream",
     "text": [
      "A  pine --a confierous tree--has been recorded.\n",
      "A  oak --a deciduous tree--has been recorded\n",
      "A  pine --a confierous tree--has been recorded.\n",
      "A spruce --a deciduous tree--has been recorded.\n",
      "A  oak --a deciduous tree--has been recorded\n",
      "No idea what this tree is\n",
      "This forest contains  3  coniferous trees and  2  deciduous trees.\n",
      "could be a coniferous forest.\n"
     ]
    }
   ],
   "source": [
    "countDeciduous = 0\n",
    "countConiferous = 0\n",
    "countTrees = 0\n",
    "\n",
    "myTrees = ['pine', 'oak', 'pine', 'spruce', 'oak', 'chestnut']\n",
    "\n",
    "while countTrees < len(myTrees):\n",
    "    tree = myTrees[countTrees] \n",
    "    \n",
    "    if tree == 'pine':\n",
    "        print 'A ', tree, '--a confierous tree--has been recorded.'\n",
    "        countConiferous +=1\n",
    "        \n",
    "    elif tree =='oak':\n",
    "        print 'A ', tree, '--a deciduous tree--has been recorded'\n",
    "        countDeciduous += 1\n",
    "        \n",
    "    elif tree =='spruce':\n",
    "        print 'A', tree,'--a deciduous tree--has been recorded.'\n",
    "        countConiferous += 1\n",
    "    \n",
    "    else:\n",
    "        print'No idea what this tree is'\n",
    "        \n",
    "    countTrees += 1\n",
    "\n",
    "\n",
    "print \"This forest contains \", countConiferous, \" coniferous trees \\\n",
    "and \", countDeciduous, \" deciduous trees.\"\n",
    "\n",
    "if countConiferous > countDeciduous:\n",
    "    print 'could be a coniferous forest.'\n",
    "    \n",
    "elif countConiferous < countDeciduous:\n",
    "    print 'could be a deciduous forest'\n",
    "    \n",
    "else:\n",
    "    print 'could be a mixed forest.'"
   ]
  },
  {
   "cell_type": "markdown",
   "metadata": {},
   "source": [
    "## How might we make this better?"
   ]
  }
 ],
 "metadata": {
  "kernelspec": {
   "display_name": "Python 2",
   "language": "python",
   "name": "python2"
  },
  "language_info": {
   "codemirror_mode": {
    "name": "ipython",
    "version": 2
   },
   "file_extension": ".py",
   "mimetype": "text/x-python",
   "name": "python",
   "nbconvert_exporter": "python",
   "pygments_lexer": "ipython2",
   "version": "2.7.15"
  }
 },
 "nbformat": 4,
 "nbformat_minor": 2
}
