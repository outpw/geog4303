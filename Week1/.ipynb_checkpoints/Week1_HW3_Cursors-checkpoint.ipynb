{
 "cells": [
  {
   "cell_type": "markdown",
   "metadata": {},
   "source": [
    "## ArcPy Cursors!  \n",
    "\n",
    "What is a \"cursor\"? Here's what the [Esri docs](https://desktop.arcgis.com/en/arcmap/latest/analyze/arcpy-classes/cursor.htm) have to say:  \n",
    "\n",
    "\"A cursor is a data access object that can be used either to iterate through the set of rows in a table or to insert new rows into a table. Cursors have three forms: search, insert, or update. Cursors are commonly used to read and update attributes.\"  \n",
    "\n",
    "There are 3 types of cursors: Search, Insert, and Update. Search let's you read through a layer's attribute table, Insert let's you add new rows to an attribute table, and Update let's you modify existing data within an attribute. Cursors let you iterate throw each row of the table.  \n",
    "\n",
    "Cursors are for working with vector data (aka shapefiles, feature classes, etc... points, lines, and polygons!). \n",
    "\n",
    "**Take your time**. Run through the examples slowly. With each code block, review each line and try to understand what each code snippet is doing. "
   ]
  },
  {
   "cell_type": "markdown",
   "metadata": {},
   "source": [
    "Start by importing arcpy and env:"
   ]
  },
  {
   "cell_type": "code",
   "execution_count": null,
   "metadata": {},
   "outputs": [],
   "source": [
    "import arcpy\n",
    "from arcpy import env"
   ]
  },
  {
   "cell_type": "markdown",
   "metadata": {},
   "source": [
    "Set your workspace:"
   ]
  },
  {
   "cell_type": "code",
   "execution_count": null,
   "metadata": {},
   "outputs": [],
   "source": [
    "env.workspace = r'C:\\Users\\phwh9568\\GEOG_4303\\Week1' #change to your path"
   ]
  },
  {
   "cell_type": "markdown",
   "metadata": {},
   "source": [
    "Make a variable `fc` that represents the path to the lyons_mrd shapefile. This shapefile is major roads in the Lyons area. FC is shorthand for \"feature class\""
   ]
  },
  {
   "cell_type": "code",
   "execution_count": null,
   "metadata": {},
   "outputs": [],
   "source": [
    "fc = r'/data/lyons_mrd.shp'"
   ]
  },
  {
   "cell_type": "markdown",
   "metadata": {},
   "source": [
    "### Search Cursor:  \n",
    "We will use the `arcpy.da.SearchCursor` function first. \"da\" is the data access class within ArcPy.  \n",
    "\n",
    "The `SearchCursor()` function takes two parameters, first the layer you want to read, and second, field names. You can use a wildcard (asterisk entered as a string like this `'*'` to return all rows. We will make the cursor a variable:"
   ]
  },
  {
   "cell_type": "code",
   "execution_count": null,
   "metadata": {},
   "outputs": [],
   "source": [
    "cursor = arcpy.da.SearchCursor(fc, '*')"
   ]
  },
  {
   "cell_type": "markdown",
   "metadata": {},
   "source": [
    "Now for every \"row\" in the lyons_mrd shapefile, we will iterate and print the contents of that row in the attribute table:"
   ]
  },
  {
   "cell_type": "code",
   "execution_count": null,
   "metadata": {},
   "outputs": [],
   "source": [
    "for row in cursor:\n",
    "    print row"
   ]
  },
  {
   "cell_type": "markdown",
   "metadata": {},
   "source": [
    "Now, you're looking at the lyons_mrd shapefile's attribute table. You can open up the shapefile in ArcGIS and view the attribute table to confirm... \n",
    "\n",
    "When you are done with a cursor, it needs to be deleted like this:"
   ]
  },
  {
   "cell_type": "code",
   "execution_count": null,
   "metadata": {},
   "outputs": [],
   "source": [
    "del cursor"
   ]
  },
  {
   "cell_type": "markdown",
   "metadata": {},
   "source": [
    "But, instead of instantiating the cursor and then deleting it when you're done, a better way is to use a `with` statement. In Python, the with statement is used to \"open something\" and it will close automatically...  \n",
    "\n",
    "Like this:"
   ]
  },
  {
   "cell_type": "code",
   "execution_count": null,
   "metadata": {},
   "outputs": [],
   "source": [
    "with arcpy.da.SearchCursor(fc,'*') as cursor:\n",
    "    for row in cursor:\n",
    "        print row"
   ]
  },
  {
   "cell_type": "markdown",
   "metadata": {},
   "source": [
    "Much like a loop, everything within the `with` statement is indented. Once your script moves on outside the `with` statement, the thing (in this case our cursor) is automatically closed. No need to use `del` command. **This is the preferred way to use an ArcPy Cursor.**  \n",
    "\n",
    "Take a look at the rows... Note that they're enclosed within parentheses? [What data structure is enclosed in parentheses](https://www.w3schools.com/python/python_tuples.asp)?  \n",
    "\n",
    "If you don't want to return the full list of attributes for each row, you can specify the fields you want as a list as the second parameter in the SearchCursor function: "
   ]
  },
  {
   "cell_type": "code",
   "execution_count": null,
   "metadata": {},
   "outputs": [],
   "source": [
    "with arcpy.da.SearchCursor(fc,['Name', 'Type']) as cursor:\n",
    "    for row in cursor:\n",
    "        print row"
   ]
  },
  {
   "cell_type": "markdown",
   "metadata": {},
   "source": [
    "*Quick side note:* If you need a list of all the fields, you can use [ListFields](https://desktop.arcgis.com/en/arcmap/latest/analyze/arcpy-functions/listfields.htm)...  "
   ]
  },
  {
   "cell_type": "code",
   "execution_count": null,
   "metadata": {},
   "outputs": [],
   "source": [
    "fields = arcpy.ListFields(fc)\n",
    "for field in fields:\n",
    "    print field.name"
   ]
  },
  {
   "cell_type": "markdown",
   "metadata": {},
   "source": [
    "\"SHAPE\" is another (sort of hidden) field that can be accessed to give you information about the feature's geometry:"
   ]
  },
  {
   "cell_type": "code",
   "execution_count": null,
   "metadata": {},
   "outputs": [],
   "source": [
    "with arcpy.da.SearchCursor(fc,['SHAPE@LENGTH', 'Name', 'Type']) as cursor:\n",
    "    for row in cursor:\n",
    "        print row"
   ]
  },
  {
   "cell_type": "markdown",
   "metadata": {},
   "source": [
    "Again, note that this is a tuple, and you can access items in a tuple by their index position:  "
   ]
  },
  {
   "cell_type": "code",
   "execution_count": null,
   "metadata": {},
   "outputs": [],
   "source": [
    "with arcpy.da.SearchCursor(fc, ['Name', 'Type']) as cursor:\n",
    "    for row in cursor:\n",
    "        print 'Name of field is:', row[0]\n",
    "        print 'Type of field is:', row[1]"
   ]
  },
  {
   "cell_type": "markdown",
   "metadata": {},
   "source": [
    "It's good for more than printing stuff though. You can select by attribute values, much like you might using Select by Attribute in ArcMap...  \n",
    "\n",
    "Let's select all occurrences of the zip code 80540 in the ZIPL field:  "
   ]
  },
  {
   "cell_type": "code",
   "execution_count": null,
   "metadata": {},
   "outputs": [],
   "source": [
    "with arcpy.da.SearchCursor(fc,'ZIPL') as cursor:\n",
    "    for row in cursor:\n",
    "        if row[0] == '80540':\n",
    "            print row[0]"
   ]
  },
  {
   "cell_type": "markdown",
   "metadata": {},
   "source": [
    "Or count them:"
   ]
  },
  {
   "cell_type": "code",
   "execution_count": null,
   "metadata": {},
   "outputs": [],
   "source": [
    "count80540 = 0\n",
    "with arcpy.da.SearchCursor(fc,'ZIPL') as cursor:\n",
    "    for row in cursor:\n",
    "        if row[0] == '80540':\n",
    "            count80540 += 1\n",
    "            \n",
    "print 'Zip code 80540 occurrs',count80540,'times.'"
   ]
  },
  {
   "cell_type": "markdown",
   "metadata": {},
   "source": [
    "### Update Cursor:  \n",
    "Now we'll use insert cursor to populate a new field.  \n",
    "\n",
    "It is good practice to work on a copy instead of your original data, so create a copy first using [copy from the management tools](https://desktop.arcgis.com/en/arcmap/latest/tools/data-management-toolbox/copy.htm).  "
   ]
  },
  {
   "cell_type": "code",
   "execution_count": null,
   "metadata": {},
   "outputs": [],
   "source": [
    "fc2 = 'results/lyons_mrd_copy.shp'"
   ]
  },
  {
   "cell_type": "code",
   "execution_count": null,
   "metadata": {},
   "outputs": [],
   "source": [
    "if arcpy.Exists(fc2):\n",
    "    arcpy.management.Delete(fc2)\n",
    "    print 'Old copy blown up'\n",
    "    \n",
    "arcpy.management.Copy(fc,fc2)\n",
    "print 'New copy created'"
   ]
  },
  {
   "cell_type": "markdown",
   "metadata": {},
   "source": [
    "Now instantiate a variable that represents your copied file:"
   ]
  },
  {
   "cell_type": "markdown",
   "metadata": {},
   "source": [
    "Add a new field using `arcpy.management.AddField()`: https://desktop.arcgis.com/en/arcmap/latest/tools/data-management-toolbox/add-field.htm  \n",
    "\n",
    "First param is the layer, second is the name of the new field, third is the data type of the new field...  "
   ]
  },
  {
   "cell_type": "code",
   "execution_count": null,
   "metadata": {},
   "outputs": [],
   "source": [
    "arcpy.management.AddField(fc2,'Name_Type', 'TEXT') #side note 'TEXT' is ArcGIS terminology... to us this is a string data type"
   ]
  },
  {
   "cell_type": "code",
   "execution_count": null,
   "metadata": {},
   "outputs": [],
   "source": [
    "with arcpy.da.UpdateCursor(fc2,['Name', 'Type', 'Name_Type']) as uCursor:\n",
    "    for row in uCursor:\n",
    "        row[2] = row[0] + ' ' + row[1]\n",
    "        uCursor.updateRow(row)"
   ]
  },
  {
   "cell_type": "markdown",
   "metadata": {},
   "source": [
    "Did it work? Check with the Search Cursor:"
   ]
  },
  {
   "cell_type": "code",
   "execution_count": null,
   "metadata": {},
   "outputs": [],
   "source": [
    "with arcpy.da.SearchCursor(fc2,['Name','Type', 'Name_Type']) as cursor:\n",
    "    for row in cursor:\n",
    "        print row"
   ]
  },
  {
   "cell_type": "markdown",
   "metadata": {},
   "source": [
    "Nice! (note that some 'Type' fields were null, but our code worked).  \n",
    "\n",
    "### Geometry\n",
    "\n",
    "Now let's explore geometry.   \n",
    "\n",
    "For lines/polylines, one row in the attribute table represents one line feature. That one line feature is an array of points. The array of points are connected by a line. Like connecting dots!  (more on arrays in a few weeks)\n",
    "\n",
    "Here is an example of how to access points in one individual line array:"
   ]
  },
  {
   "cell_type": "code",
   "execution_count": null,
   "metadata": {},
   "outputs": [],
   "source": [
    "with arcpy.da.SearchCursor(fc2,['SHAPE@']) as cursor:\n",
    "    row = cursor.next() #next() will access the next row, in this case the first. If ran again within same with statement, it would move to next row\n",
    "    \n",
    "    line = row[0] #here we use the same methods as before to access our attribute of the current row\n",
    "    \n",
    "    pCount = pLine.pointCount #this just tells us how many points are in this line feature\n",
    "    print 'There are',pCount,'points in this line.' \n",
    "    \n",
    "    lineArr = line.getPart(0) #this returns the first index, that is, the first segment in the line\n",
    "    \n",
    "    p1 = lineArr[0] #this returns the first point, but you could change to [1] to get the second point\n",
    "    \n",
    "    print p1, 'these are the X and Y coords of the first point in line 1'\n",
    "    \n",
    "    print p1.X, 'this is the X coordinate in the first point of line 1'\n",
    "    \n",
    "    print p1.Y, 'this is the Y coordinate in the first point of line 1'"
   ]
  },
  {
   "cell_type": "markdown",
   "metadata": {},
   "source": [
    "### Update Cursor\n",
    "\n",
    "Now let's use Update Cursor to tinker with geometry.  \n",
    "\n",
    "We use the same basic workflow to access the points, with some extra bits added on to update the line.  \n",
    "We will move the first point 2000 meters eastward. After accessing the points, we will simply update the X coordinate for the first point in our line, then use `arcpy.Polyline()` to create a brand new line, then update the row to the new line. Here's how [arcpy.Polyline()](https://desktop.arcgis.com/en/arcmap/latest/analyze/python/writing-geometries.htm) works."
   ]
  },
  {
   "cell_type": "code",
   "execution_count": null,
   "metadata": {},
   "outputs": [],
   "source": [
    "if arcpy.Exists(fc2):\n",
    "    arcpy.management.Delete(fc2)\n",
    "    print 'Earlier version blown up!'\n",
    "\n",
    "arcpy.management.Copy(fc,'results/lyons_mrd_copy.shp')\n",
    "print 'New copy created'\n",
    "\n",
    "with arcpy.da.UpdateCursor(fc2,['SHAPE@']) as uCursor:\n",
    "    row = uCursor.next() \n",
    "    line = row[0] \n",
    "    lineArr = line.getPart(0) #this returns the first index, that is, the first segment in the line\n",
    "    p1 = lineArr[0] #this returns the first point\n",
    "    p1.X = p1.X+2000 #we add 2000 (meters) to the point, which effectively moves it eastward\n",
    "    lineArr[0] = p1 #we reassign the first point in the line array to our updated p1\n",
    "    newLine=arcpy.Polyline(lineArr) #we create a brand new line\n",
    "    uCursor.updateRow([newLine]) #we update, that is, replace, the row's geometry with the new line.\n",
    "\n",
    "print \"Moved first point in first line by 2000 ft... take a look in ArcMap at old vs new\""
   ]
  },
  {
   "cell_type": "markdown",
   "metadata": {},
   "source": [
    "### Done!"
   ]
  }
 ],
 "metadata": {
  "kernelspec": {
   "display_name": "Python 2",
   "language": "python",
   "name": "python2"
  },
  "language_info": {
   "codemirror_mode": {
    "name": "ipython",
    "version": 2
   },
   "file_extension": ".py",
   "mimetype": "text/x-python",
   "name": "python",
   "nbconvert_exporter": "python",
   "pygments_lexer": "ipython2",
   "version": "2.7.15"
  }
 },
 "nbformat": 4,
 "nbformat_minor": 2
}
