{
 "cells": [
  {
   "cell_type": "code",
   "execution_count": 14,
   "metadata": {},
   "outputs": [],
   "source": [
    "def howdy(str1, str2):\n",
    "    return (str1+' '+str2)\n",
    "    "
   ]
  },
  {
   "cell_type": "code",
   "execution_count": null,
   "metadata": {},
   "outputs": [],
   "source": []
  },
  {
   "cell_type": "markdown",
   "metadata": {
    "slideshow": {
     "slide_type": "slide"
    }
   },
   "source": [
    "## Geography 4303/5303 \n",
    "\n",
    "# GIS Programming for Spatial Analysis \n",
    "\n",
    "### Instructor: Phil White\n",
    "### TA: Caitlin McShane \n",
    "\n",
    "## Class 0: Introduction \n",
    "---\n",
    "---"
   ]
  },
  {
   "cell_type": "markdown",
   "metadata": {
    "slideshow": {
     "slide_type": "slide"
    }
   },
   "source": [
    "### Today's Outline: \n",
    "\n",
    "- #### Introductions\n",
    "- #### This course: components\n",
    "- #### You and Me: expectations\n",
    "- #### Learning objectives and target audience\n",
    "- #### Contents and structure\n",
    "- #### The Tech\n",
    "---"
   ]
  },
  {
   "cell_type": "markdown",
   "metadata": {},
   "source": [
    "# Icebreaker  \n",
    "\n",
    "### First, take this quiz real quick:\n",
    "\n",
    "### Round Robin:\n",
    "#### Tell us your:\n",
    "1. #### Name\n",
    "2. #### Are you an undergrad or grad student\n",
    "3. #### Major(s) or Department\n",
    "4. #### Why you signed up for this class\n",
    "5. #### What worries or concerns you have about this class"
   ]
  },
  {
   "cell_type": "markdown",
   "metadata": {
    "slideshow": {
     "slide_type": "slide"
    }
   },
   "source": [
    "### Introduction \n",
    "\n",
    "- #### Programming in a GIS context... and why!\n",
    "- #### You will be trained on a very effective set of tools (Python, ArcPy, Numpy, and more!)\n",
    "- #### Commercial and some open source, too!\n",
    "- #### Advance your skills in modeling, automating, developing, and your knowledge of GIS and GIScience\n",
    "    - remote sensing, spatial modeling, recognition, spatial analysis"
   ]
  },
  {
   "cell_type": "markdown",
   "metadata": {},
   "source": [
    "## Components of this Course \n",
    "\n",
    "### First some comments on the individual components of this course: \n",
    "\n",
    "1. #### Lectures\n",
    "    - Some discussion, some demo, some exercises\n",
    "2. #### Labs\n",
    "    - Basically multi-week homework assignments\n",
    "3. #### Projects\n",
    "    - Groups! \n",
    "4. #### Course homepage\n",
    "5. #### Literature"
   ]
  },
  {
   "cell_type": "markdown",
   "metadata": {},
   "source": [
    "## Lectures \n",
    "\n",
    "In lectures, we will: \n",
    "\n",
    "- #### Discuss concepts and terminology\n",
    "- #### Demonstrate coding methods\n",
    "- #### Hands on! We will have exercises during class and discuss as a group\n",
    "- #### Yes, this is a GIS class. We will talk about GIS... but some days we won't discuss GIS at all\n",
    "- #### We will learn about data structures, geoprocessing, and theoretical approaches toward solving problems with code\n",
    "- #### You will participate. We're all learning together!"
   ]
  },
  {
   "cell_type": "markdown",
   "metadata": {},
   "source": [
    "## Lab Assignments \n",
    "\n",
    "- #### Labs are mandatory and... \n",
    "- #### Labs are essential to your success in this course.  \n",
    "- #### Labs are mostly giant problem solving activities \n",
    "\n"
   ]
  },
  {
   "cell_type": "markdown",
   "metadata": {},
   "source": [
    "## Lab Assignments \n",
    "\n",
    "\n",
    "- #### We will:\n",
    "    1. #### Give you some intro stuff to work through \n",
    "    2. #### Present a problem for you to solve \n",
    "    3. #### Give you all the data \n",
    "    4. #### Give you a framework for solving the problem \n",
    "    5. #### Give you time... and some hints! \n",
    "    \n"
   ]
  },
  {
   "cell_type": "markdown",
   "metadata": {},
   "source": [
    "## Lab Assignments \n",
    "\n",
    "- #### You will:\n",
    "    1. #### Write your own code!\n",
    "    2. #### Solve the problem however you like... You have independence\n",
    "    3. #### It's okay to Google... but... you will not find specific answers to these problems by Googling\n",
    "    4. #### \"Borrowing\" code is part of coding. But acknowledge tricks, snippets, or adaptations you've implemented in your code\n",
    "    5. #### Turn it in on time. We will accept an incomplete solution"
   ]
  },
  {
   "cell_type": "markdown",
   "metadata": {},
   "source": [
    "## Projects \n",
    "\n",
    "- #### Projects will take place in the final weeks of the semester \n",
    "- #### Project proposals will be presented mid-February (more details later) \n",
    "- #### There will be a lead who is responsible for project management \n",
    "- #### Groups will work on the leader's proposal \n",
    "- #### Group will present a project status update and a final presentation \n",
    "- #### Final written report (short paper) "
   ]
  },
  {
   "cell_type": "markdown",
   "metadata": {},
   "source": [
    "# Schedule\n",
    "\n",
    "also here: \n",
    "\n",
    "\n",
    "| Week         | Day          | Class Discussion                                                | Readings                                                   | Lab Exercise                                        |   |\n",
    "|--------------|--------------|-----------------------------------------------------------------|------------------------------------------------------------|-----------------------------------------------------|---|\n",
    "| 0            | 1-11/13      | Introduction, Programming & Python Basics, Geoprocessing Basics | A Byte of Python: Basics, Control Flow; PEP 8              | PC setup, installation, first steps                 |   |\n",
    "| 1            | 1-18/20      | Variables, Data & Data Objects, Text Files                      | A Byte of Python: Data Structures                          | Lab 0: Intro to Python and ArcPy                    |   |\n",
    "| 2            | 1-25/27      | Scripting with GP Tools                                         | What is ArcPy; A Quick Tour of ArcPy                       | Lab 1: Temporal trends in vector data               |   |\n",
    "| 3            | 2-1/3        | Modules & Functions                                             | A Byte of Python: Functions, Modules                       | Lab 2: Creating spatial data geometry from raw text |   |\n",
    "| 4            | 2-8/10       | Operators, Logic & Decisions, Debugging                         | A Byte of Python: Operators & Expressions, Problem Solving | Lab 3: Sampling design with vector data             |   |\n",
    "| 5            | 2-15/17      | Spatial Data Manipulation, editing, sampling                    | Stuff                                                      | Lab 3 Continued                                     |   |\n",
    "| 6            | 2-22/24      | Raster Data, queries with Numpy                                 | Stuff                                                      | Lab 4: 3D shape descriptors in raster & vector data |   |\n",
    "| 7            | 3-1/3        | Raster Overlay, Map Algebra Neighborhood Functions              | Stuff                                                      | Lab 4 Continued                                     |   |\n",
    "| 8            | 3-8/10       | Raster Analysis and Modeling w/ Numpy & GDAL                    | Stuff                                                      | Lab 5: Raster convolution with Numpy                |   |\n",
    "| 9            | 3-15/17      | Buffer week                                                     | Stuff                                                      | Lab 5 Continued                                     |   |\n",
    "| Spring Break | Spring Break | Spring Break                                                    | Spring Break                                               | Spring Break                                        |   |\n",
    "| 10           | 3-29/31      | More FOSS Tools                                                 | Stuff                                                      | Lab 6: Open source tools and geospatial analysis    |   |\n",
    "| 11           | 4-5/7        | Objects & Classes                                               | A Byte of Python: Object Oriented Programming              | Work in project groups                              |   |\n",
    "| 12           | 4-12/14      | Objects & Classes                                               | Stuff                                                      | Work in project groups                              |   |\n",
    "| 13           | 4-19/21      | Special Topic/Project Advice                                    | Stuff                                                      | Work in project groups                              |   |\n",
    "| 14           | 4-26/28      | Presentations                                                   | None                                                       | Work in project groups                              |   |"
   ]
  },
  {
   "cell_type": "markdown",
   "metadata": {},
   "source": [
    "## Grading \n",
    "\n",
    "\n",
    "\n",
    "| Activity                   | Undergraduate | Graduate |\n",
    "|----------------------------|---------------|----------|\n",
    "| Lab Assignments (Labs 0-6) | 100 pts       | 100 pts  |\n",
    "| Lab participation          | 10 pts        | 10 pts   |\n",
    "| Class Participation        | 10 pts        | 10 pts   |\n",
    "| Group Project (team)       | 30 pts        | 30 pts   |\n",
    "| Group Project (individual) | 30 pts        | 30 pts   |\n",
    "| Total                      | 180           | 180      |\n",
    "\n",
    "\n",
    "\n",
    "- #### Project leaders earn an additional 20 points \n",
    "- #### No exam! You will demonstrate your learning during labs and the project\n",
    "- #### Labs and project will be ***Time Demanding***"
   ]
  },
  {
   "cell_type": "code",
   "execution_count": null,
   "metadata": {},
   "outputs": [],
   "source": []
  }
 ],
 "metadata": {
  "kernelspec": {
   "display_name": "Python 2",
   "language": "python",
   "name": "python2"
  },
  "language_info": {
   "codemirror_mode": {
    "name": "ipython",
    "version": 2
   },
   "file_extension": ".py",
   "mimetype": "text/x-python",
   "name": "python",
   "nbconvert_exporter": "python",
   "pygments_lexer": "ipython2",
   "version": "2.7.15"
  }
 },
 "nbformat": 4,
 "nbformat_minor": 2
}
