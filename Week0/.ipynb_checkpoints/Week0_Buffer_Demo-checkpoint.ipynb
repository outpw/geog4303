{
 "cells": [
  {
   "cell_type": "markdown",
   "metadata": {},
   "source": [
    "## This script demos a few first geoprocessing examples and the use of different programming techniques"
   ]
  },
  {
   "cell_type": "code",
   "execution_count": 1,
   "metadata": {},
   "outputs": [],
   "source": [
    "import arcpy\n",
    "from arcpy import env"
   ]
  },
  {
   "cell_type": "markdown",
   "metadata": {},
   "source": [
    "#### Example 1: A sequential geoprocessing script"
   ]
  },
  {
   "cell_type": "code",
   "execution_count": 24,
   "metadata": {},
   "outputs": [],
   "source": [
    "env.workspace = r'C:\\Users\\phwh9568\\GEOG_4303\\GEOG_4303_5303\\0Week\\data'\n",
    "inputFC = 'lyons_mrd.shp'\n",
    "outputFC = 'lyons_mrd_buff.shp'"
   ]
  },
  {
   "cell_type": "markdown",
   "metadata": {},
   "source": [
    "Buffer roads in Lyons 100 ft:  \n",
    "\n",
    "We will use ArcPy's Buffer Analysis. Take a look at the docs:\n",
    "https://desktop.arcgis.com/en/arcmap/latest/tools/analysis-toolbox/buffer.htm  \n",
    "\n",
    "arcpy.analysis.Buffer(in_features, out_feature_class, buffer_distance_or_field, {line_side}, {line_end_type}, {dissolve_option}, {dissolve_field}, {method})  \n",
    "\n",
    "Not all of those parameters are required...  \n",
    "\n",
    "A basic version:"
   ]
  },
  {
   "cell_type": "code",
   "execution_count": 14,
   "metadata": {},
   "outputs": [
    {
     "data": {
      "text/plain": [
       "<Result 'C:\\\\Users\\\\phwh9568\\\\GEOG_4303\\\\GEOG_4303_5303\\\\0Week\\\\\\\\data\\\\lyons_mrd_buff.shp'>"
      ]
     },
     "execution_count": 14,
     "metadata": {},
     "output_type": "execute_result"
    }
   ],
   "source": [
    "arcpy.Buffer_analysis(inputFC, outputFC, '100 feet')"
   ]
  },
  {
   "cell_type": "markdown",
   "metadata": {},
   "source": [
    "What happens when we run this again?"
   ]
  },
  {
   "cell_type": "code",
   "execution_count": 6,
   "metadata": {},
   "outputs": [
    {
     "ename": "ExecuteError",
     "evalue": "Failed to execute. Parameters are not valid.\nERROR 000725: Output Feature Class: Dataset C:\\Users\\phwh9568\\GEOG_4303\\GEOG_4303_5303\\0Week\\\\data\\lyons_mrd_buff.shp already exists.\nFailed to execute (Buffer).\n",
     "output_type": "error",
     "traceback": [
      "\u001b[1;31m---------------------------------------------------------------------------\u001b[0m",
      "\u001b[1;31mExecuteError\u001b[0m                              Traceback (most recent call last)",
      "\u001b[1;32m<ipython-input-6-d6e51670a4db>\u001b[0m in \u001b[0;36m<module>\u001b[1;34m()\u001b[0m\n\u001b[1;32m----> 1\u001b[1;33m \u001b[0marcpy\u001b[0m\u001b[1;33m.\u001b[0m\u001b[0mBuffer_analysis\u001b[0m\u001b[1;33m(\u001b[0m\u001b[0minputFC\u001b[0m\u001b[1;33m,\u001b[0m \u001b[0moutputFC\u001b[0m\u001b[1;33m,\u001b[0m \u001b[1;34m'100 feet'\u001b[0m\u001b[1;33m)\u001b[0m\u001b[1;33m\u001b[0m\u001b[0m\n\u001b[0m",
      "\u001b[1;32mC:\\Program Files (x86)\\ArcGIS\\Desktop10.8\\ArcPy\\arcpy\\analysis.py\u001b[0m in \u001b[0;36mBuffer\u001b[1;34m(in_features, out_feature_class, buffer_distance_or_field, line_side, line_end_type, dissolve_option, dissolve_field, method)\u001b[0m\n\u001b[0;32m    766\u001b[0m         \u001b[1;32mreturn\u001b[0m \u001b[0mretval\u001b[0m\u001b[1;33m\u001b[0m\u001b[0m\n\u001b[0;32m    767\u001b[0m     \u001b[1;32mexcept\u001b[0m \u001b[0mException\u001b[0m \u001b[1;32mas\u001b[0m \u001b[0me\u001b[0m\u001b[1;33m:\u001b[0m\u001b[1;33m\u001b[0m\u001b[0m\n\u001b[1;32m--> 768\u001b[1;33m         \u001b[1;32mraise\u001b[0m \u001b[0me\u001b[0m\u001b[1;33m\u001b[0m\u001b[0m\n\u001b[0m\u001b[0;32m    769\u001b[0m \u001b[1;33m\u001b[0m\u001b[0m\n\u001b[0;32m    770\u001b[0m \u001b[1;33m@\u001b[0m\u001b[0mgptooldoc\u001b[0m\u001b[1;33m(\u001b[0m\u001b[1;34m'CreateThiessenPolygons_analysis'\u001b[0m\u001b[1;33m,\u001b[0m \u001b[0mNone\u001b[0m\u001b[1;33m)\u001b[0m\u001b[1;33m\u001b[0m\u001b[0m\n",
      "\u001b[1;31mExecuteError\u001b[0m: Failed to execute. Parameters are not valid.\nERROR 000725: Output Feature Class: Dataset C:\\Users\\phwh9568\\GEOG_4303\\GEOG_4303_5303\\0Week\\\\data\\lyons_mrd_buff.shp already exists.\nFailed to execute (Buffer).\n"
     ]
    }
   ],
   "source": [
    "arcpy.Buffer_analysis(inputFC, outputFC, '100 feet')"
   ]
  },
  {
   "cell_type": "markdown",
   "metadata": {},
   "source": [
    "Oops. Already exists. How might we check this..."
   ]
  },
  {
   "cell_type": "code",
   "execution_count": 10,
   "metadata": {},
   "outputs": [
    {
     "data": {
      "text/plain": [
       "False"
      ]
     },
     "execution_count": 10,
     "metadata": {},
     "output_type": "execute_result"
    }
   ],
   "source": [
    "arcpy.Exists(outputFC)"
   ]
  },
  {
   "cell_type": "markdown",
   "metadata": {},
   "source": [
    "#### Example 2: Branching in a Geoprocessing script"
   ]
  },
  {
   "cell_type": "markdown",
   "metadata": {},
   "source": [
    "Cool... let's use an if statement to check. Start basic then build out:"
   ]
  },
  {
   "cell_type": "code",
   "execution_count": 15,
   "metadata": {},
   "outputs": [
    {
     "name": "stdout",
     "output_type": "stream",
     "text": [
      "this file exists\n"
     ]
    }
   ],
   "source": [
    "if arcpy.Exists(outputFC) == True:\n",
    "    print 'this file exists'\n",
    "else:\n",
    "    print 'this file does not exist'"
   ]
  },
  {
   "cell_type": "markdown",
   "metadata": {},
   "source": [
    "Now, if it exists, BURN IT!"
   ]
  },
  {
   "cell_type": "code",
   "execution_count": 18,
   "metadata": {},
   "outputs": [],
   "source": [
    "if arcpy.Exists(outputFC) == True:\n",
    "    arcpy.Delete_management(outputFC)\n",
    "    print 'File ruthlessly destroyed'"
   ]
  },
  {
   "cell_type": "markdown",
   "metadata": {},
   "source": [
    "But if you run it again, you get nothing... finish that `else` statement!"
   ]
  },
  {
   "cell_type": "code",
   "execution_count": 19,
   "metadata": {},
   "outputs": [
    {
     "name": "stdout",
     "output_type": "stream",
     "text": [
      "Arcpy already razed that village\n"
     ]
    }
   ],
   "source": [
    "if arcpy.Exists(outputFC) == True:\n",
    "    arcpy.Delete_management(outputFC)\n",
    "    print 'File ruthlessly destroyed'\n",
    "else:\n",
    "    print 'Arcpy already razed that village'"
   ]
  },
  {
   "cell_type": "markdown",
   "metadata": {},
   "source": [
    "### Now let's say you wanted to create multiple buffers.   \n",
    "## LOOP There It Is!  \n",
    "\n",
    "or  \n",
    "\n",
    "#### Example 3: `for` Looping in a geoprocessing script  \n",
    "You need buffers in increments of 20 feet starting at 100 and ending at 300"
   ]
  },
  {
   "cell_type": "code",
   "execution_count": 26,
   "metadata": {},
   "outputs": [
    {
     "name": "stdout",
     "output_type": "stream",
     "text": [
      "lyons_mrd_buff100.shp written\n",
      "lyons_mrd_buff120.shp written\n",
      "lyons_mrd_buff140.shp written\n",
      "lyons_mrd_buff160.shp written\n",
      "lyons_mrd_buff180.shp written\n",
      "lyons_mrd_buff200.shp written\n",
      "lyons_mrd_buff220.shp written\n",
      "lyons_mrd_buff240.shp written\n",
      "lyons_mrd_buff260.shp written\n",
      "lyons_mrd_buff280.shp written\n",
      "lyons_mrd_buff300.shp written\n"
     ]
    }
   ],
   "source": [
    "outputFC = r'lyons_mrd_buff' #note this is omitting the file extension\n",
    "\n",
    "for a in range(100,300,20):\n",
    "    outputName = outputFC+str(a)+'.shp'\n",
    "    arcpy.Buffer_analysis(inputFC, outputName, str(a)+' feet')\n",
    "    print outputName, 'written'"
   ]
  },
  {
   "cell_type": "markdown",
   "metadata": {},
   "source": [
    "### Cool! But did this do *exactly* what we wanted?\n",
    "Make mods as needed...  \n",
    "\n",
    "Crap. They already exist... so:"
   ]
  },
  {
   "cell_type": "code",
   "execution_count": 28,
   "metadata": {},
   "outputs": [
    {
     "name": "stdout",
     "output_type": "stream",
     "text": [
      "File ruthlessly destroyed\n",
      "new lyons_mrd_buff100.shp written\n",
      "File ruthlessly destroyed\n",
      "new lyons_mrd_buff120.shp written\n",
      "File ruthlessly destroyed\n",
      "new lyons_mrd_buff140.shp written\n",
      "File ruthlessly destroyed\n",
      "new lyons_mrd_buff160.shp written\n",
      "File ruthlessly destroyed\n",
      "new lyons_mrd_buff180.shp written\n",
      "File ruthlessly destroyed\n",
      "new lyons_mrd_buff200.shp written\n",
      "File ruthlessly destroyed\n",
      "new lyons_mrd_buff220.shp written\n",
      "File ruthlessly destroyed\n",
      "new lyons_mrd_buff240.shp written\n",
      "File ruthlessly destroyed\n",
      "new lyons_mrd_buff260.shp written\n",
      "File ruthlessly destroyed\n",
      "new lyons_mrd_buff280.shp written\n",
      "File ruthlessly destroyed\n",
      "new lyons_mrd_buff300.shp written\n"
     ]
    }
   ],
   "source": [
    "outputFC = r'lyons_mrd_buff' #note this is omitting the file extension\n",
    "\n",
    "for a in range(100,320,20):\n",
    "    outputName = outputFC+str(a)+'.shp'\n",
    "    if arcpy.Exists(outputName) == True:\n",
    "        arcpy.Delete_management(outputName)\n",
    "        print 'File ruthlessly destroyed'\n",
    "    arcpy.Buffer_analysis(inputFC, outputName, str(a)+' feet')\n",
    "    print 'new', outputName, 'written'"
   ]
  },
  {
   "cell_type": "markdown",
   "metadata": {},
   "source": [
    "#### But can we do the same with a `while` loop?  \n",
    "\n",
    "#### Example 4: `while` looping in a geoprocessing script"
   ]
  },
  {
   "cell_type": "code",
   "execution_count": 30,
   "metadata": {},
   "outputs": [
    {
     "name": "stdout",
     "output_type": "stream",
     "text": [
      "File ruthlessly destroyed\n",
      "new lyons_mrd_buff100.shp written\n",
      "File ruthlessly destroyed\n",
      "new lyons_mrd_buff120.shp written\n",
      "File ruthlessly destroyed\n",
      "new lyons_mrd_buff140.shp written\n",
      "File ruthlessly destroyed\n",
      "new lyons_mrd_buff160.shp written\n",
      "File ruthlessly destroyed\n",
      "new lyons_mrd_buff180.shp written\n",
      "File ruthlessly destroyed\n",
      "new lyons_mrd_buff200.shp written\n",
      "File ruthlessly destroyed\n",
      "new lyons_mrd_buff220.shp written\n",
      "File ruthlessly destroyed\n",
      "new lyons_mrd_buff240.shp written\n",
      "File ruthlessly destroyed\n",
      "new lyons_mrd_buff260.shp written\n",
      "File ruthlessly destroyed\n",
      "new lyons_mrd_buff280.shp written\n",
      "File ruthlessly destroyed\n",
      "new lyons_mrd_buff300.shp written\n"
     ]
    }
   ],
   "source": [
    "outputFC = r'lyons_mrd_buff' #note this is omitting the file extension\n",
    "\n",
    "buffer_dist = 100\n",
    "\n",
    "while buffer_dist <= 300:\n",
    "    outputName = outputFC+str(buffer_dist)+'.shp'\n",
    "    if arcpy.Exists(outputName) == True:\n",
    "        arcpy.Delete_management(outputName)\n",
    "        print 'File ruthlessly destroyed'\n",
    "    arcpy.Buffer_analysis(inputFC, outputName, str(buffer_dist)+' feet')\n",
    "    buffer_dist += 20\n",
    "    print 'new', outputName, 'written'"
   ]
  },
  {
   "cell_type": "markdown",
   "metadata": {},
   "source": [
    "## Sweet."
   ]
  }
 ],
 "metadata": {
  "kernelspec": {
   "display_name": "Python 2",
   "language": "python",
   "name": "python2"
  },
  "language_info": {
   "codemirror_mode": {
    "name": "ipython",
    "version": 2
   },
   "file_extension": ".py",
   "mimetype": "text/x-python",
   "name": "python",
   "nbconvert_exporter": "python",
   "pygments_lexer": "ipython2",
   "version": "2.7.15"
  }
 },
 "nbformat": 4,
 "nbformat_minor": 2
}
