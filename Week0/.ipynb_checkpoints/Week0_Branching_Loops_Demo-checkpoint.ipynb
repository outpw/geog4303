{
 "cells": [
  {
   "cell_type": "markdown",
   "metadata": {},
   "source": [
    "### This is a story--ahem--SCRIPT about some trees in a forest.\n",
    "\n",
    "#### What kind of forest is this and what sort of trees live there?"
   ]
  },
  {
   "cell_type": "code",
   "execution_count": 1,
   "metadata": {},
   "outputs": [],
   "source": [
    "countDeciduous = 0\n",
    "countConiferous = 0"
   ]
  },
  {
   "cell_type": "markdown",
   "metadata": {},
   "source": [
    "Meet our trees:"
   ]
  },
  {
   "cell_type": "code",
   "execution_count": 9,
   "metadata": {},
   "outputs": [
    {
     "name": "stdout",
     "output_type": "stream",
     "text": [
      "A  Pine has been recorded\n"
     ]
    }
   ],
   "source": [
    "firstTree = 'Pine'\n",
    "countConiferous +=1\n",
    "print 'A ', firstTree, 'has been recorded'"
   ]
  },
  {
   "cell_type": "code",
   "execution_count": 10,
   "metadata": {},
   "outputs": [
    {
     "name": "stdout",
     "output_type": "stream",
     "text": [
      "A  Oak has been recorded\n"
     ]
    }
   ],
   "source": [
    "secondTree = 'Oak'\n",
    "countDeciduous += 1\n",
    "print 'A ', secondTree, 'has been recorded' "
   ]
  },
  {
   "cell_type": "code",
   "execution_count": 11,
   "metadata": {},
   "outputs": [
    {
     "name": "stdout",
     "output_type": "stream",
     "text": [
      "A  Spruce has been recorded\n"
     ]
    }
   ],
   "source": [
    "thirdTree = 'Spruce'\n",
    "countConiferous += 1\n",
    "print 'A ', thirdTree, 'has been recorded'"
   ]
  },
  {
   "cell_type": "markdown",
   "metadata": {},
   "source": [
    "Summarizing tree counts:"
   ]
  },
  {
   "cell_type": "code",
   "execution_count": 12,
   "metadata": {},
   "outputs": [
    {
     "name": "stdout",
     "output_type": "stream",
     "text": [
      "This forest contains  7  coniferous trees and  2  deciduous trees.\n"
     ]
    }
   ],
   "source": [
    "print \"This forest contains \", countConiferous, \" coniferous trees \\\n",
    "and \", countDeciduous, \" deciduous trees.\""
   ]
  },
  {
   "cell_type": "markdown",
   "metadata": {},
   "source": [
    "#### Not a smart script here, is it? "
   ]
  },
  {
   "cell_type": "markdown",
   "metadata": {},
   "source": [
    "## Let's start over..."
   ]
  },
  {
   "cell_type": "code",
   "execution_count": 13,
   "metadata": {},
   "outputs": [],
   "source": [
    "countDeciduous = 0\n",
    "countConiferous = 0"
   ]
  },
  {
   "cell_type": "markdown",
   "metadata": {},
   "source": [
    "This time, we'll just reassign `tree` everytime we encounter a new tree"
   ]
  },
  {
   "cell_type": "code",
   "execution_count": 35,
   "metadata": {},
   "outputs": [],
   "source": [
    "tree = 'spruce'"
   ]
  },
  {
   "cell_type": "code",
   "execution_count": 36,
   "metadata": {},
   "outputs": [
    {
     "name": "stdout",
     "output_type": "stream",
     "text": [
      "An unknown species has been encountered\n"
     ]
    }
   ],
   "source": [
    "if tree =='pine':\n",
    "    print 'A', tree,'--a coniferous tree--has been recorded.'\n",
    "    countConiferous += 1\n",
    "elif tree =='oak':\n",
    "    print 'A', tree,'--a deciduous tree--has been recorded.'\n",
    "    countDeciduous += 1\n",
    "else:\n",
    "    print 'An unknown species has been encountered'"
   ]
  },
  {
   "cell_type": "code",
   "execution_count": 37,
   "metadata": {},
   "outputs": [
    {
     "name": "stdout",
     "output_type": "stream",
     "text": [
      "This forest contains  5  coniferous trees and  4  deciduous trees.\n"
     ]
    }
   ],
   "source": [
    "print \"This forest contains \", countConiferous, \" coniferous trees \\\n",
    "and \", countDeciduous, \" deciduous trees.\""
   ]
  },
  {
   "cell_type": "code",
   "execution_count": 39,
   "metadata": {},
   "outputs": [
    {
     "name": "stdout",
     "output_type": "stream",
     "text": [
      "could be a coniferous forest.\n"
     ]
    }
   ],
   "source": [
    "if countConiferous > countDeciduous:\n",
    "    print 'could be a coniferous forest.'\n",
    "    \n",
    "elif countConiferous < countDeciduous:\n",
    "    print 'could be a deciduous forest'\n",
    "    \n",
    "else:\n",
    "    print 'could be a mixed forest.'"
   ]
  },
  {
   "cell_type": "markdown",
   "metadata": {},
   "source": [
    "Better! but still only takes one tree at a time...\n",
    "\n",
    "### Let's do this again..."
   ]
  },
  {
   "cell_type": "code",
   "execution_count": 44,
   "metadata": {},
   "outputs": [],
   "source": [
    "countDeciduous = 0\n",
    "countConiferous = 0"
   ]
  },
  {
   "cell_type": "markdown",
   "metadata": {},
   "source": [
    "Let's start with an input list of trees:"
   ]
  },
  {
   "cell_type": "code",
   "execution_count": 45,
   "metadata": {},
   "outputs": [],
   "source": [
    "myTrees = ['pine', 'oak', 'pine', 'spruce', 'oak']"
   ]
  },
  {
   "cell_type": "markdown",
   "metadata": {},
   "source": [
    "Let's use a `for` loop to count these up:"
   ]
  },
  {
   "cell_type": "code",
   "execution_count": 43,
   "metadata": {},
   "outputs": [
    {
     "name": "stdout",
     "output_type": "stream",
     "text": [
      "A  pine --a confierous tree--has been recorded.\n",
      "A  oak --a deciduous tree--has been recorded\n",
      "A  pine --a confierous tree--has been recorded.\n",
      "A  oak --a deciduous tree--has been recorded\n"
     ]
    }
   ],
   "source": [
    "for tree in myTrees:\n",
    "    if tree == 'pine':\n",
    "        print 'A ', tree, '--a confierous tree--has been recorded.'\n",
    "        countConiferous +=1\n",
    "    elif tree =='oak':\n",
    "        print 'A ', tree, '--a deciduous tree--has been recorded'\n",
    "        countDeciduous += 1\n",
    "    else:\n",
    "        print'No idea what this tree is'"
   ]
  },
  {
   "cell_type": "markdown",
   "metadata": {},
   "source": [
    "Let's try this again with a `while` loop:"
   ]
  },
  {
   "cell_type": "code",
   "execution_count": 47,
   "metadata": {},
   "outputs": [],
   "source": [
    "countDeciduous = 0\n",
    "countConiferous = 0"
   ]
  },
  {
   "cell_type": "code",
   "execution_count": 48,
   "metadata": {},
   "outputs": [],
   "source": [
    "countTrees = 0"
   ]
  },
  {
   "cell_type": "code",
   "execution_count": 49,
   "metadata": {},
   "outputs": [
    {
     "name": "stdout",
     "output_type": "stream",
     "text": [
      "A  pine --a confierous tree--has been recorded.\n",
      "A  oak --a deciduous tree--has been recorded\n",
      "A  pine --a confierous tree--has been recorded.\n",
      "No idea what this tree is\n",
      "A  oak --a deciduous tree--has been recorded\n"
     ]
    }
   ],
   "source": [
    "while countTrees < len(myTrees):\n",
    "    tree = myTrees[countTrees] \n",
    "    if tree == 'pine':\n",
    "        print 'A ', tree, '--a confierous tree--has been recorded.'\n",
    "        countConiferous +=1\n",
    "    elif tree =='oak':\n",
    "        print 'A ', tree, '--a deciduous tree--has been recorded'\n",
    "        countDeciduous += 1\n",
    "    else:\n",
    "        print'No idea what this tree is'\n",
    "        \n",
    "    countTrees += 1"
   ]
  },
  {
   "cell_type": "markdown",
   "metadata": {},
   "source": [
    "#### Huh? How does this work? You tell me."
   ]
  },
  {
   "cell_type": "code",
   "execution_count": 50,
   "metadata": {},
   "outputs": [
    {
     "name": "stdout",
     "output_type": "stream",
     "text": [
      "This forest contains  2  coniferous trees and  2  deciduous trees.\n",
      "could be a mixed forest.\n"
     ]
    }
   ],
   "source": [
    "print \"This forest contains \", countConiferous, \" coniferous trees \\\n",
    "and \", countDeciduous, \" deciduous trees.\"\n",
    "\n",
    "if countConiferous > countDeciduous:\n",
    "    print 'could be a coniferous forest.'\n",
    "    \n",
    "elif countConiferous < countDeciduous:\n",
    "    print 'could be a deciduous forest'\n",
    "    \n",
    "else:\n",
    "    print 'could be a mixed forest.'"
   ]
  },
  {
   "cell_type": "markdown",
   "metadata": {},
   "source": [
    "## How might we make this better?"
   ]
  },
  {
   "cell_type": "code",
   "execution_count": null,
   "metadata": {},
   "outputs": [],
   "source": []
  }
 ],
 "metadata": {
  "kernelspec": {
   "display_name": "Python 2",
   "language": "python",
   "name": "python2"
  },
  "language_info": {
   "codemirror_mode": {
    "name": "ipython",
    "version": 2
   },
   "file_extension": ".py",
   "mimetype": "text/x-python",
   "name": "python",
   "nbconvert_exporter": "python",
   "pygments_lexer": "ipython2",
   "version": "2.7.15"
  }
 },
 "nbformat": 4,
 "nbformat_minor": 2
}
