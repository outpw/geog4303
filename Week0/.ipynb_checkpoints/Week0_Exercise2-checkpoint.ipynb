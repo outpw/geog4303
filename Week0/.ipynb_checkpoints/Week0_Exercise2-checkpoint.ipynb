{
 "cells": [
  {
   "cell_type": "markdown",
   "metadata": {},
   "source": [
    "### Take Home: A basic ArcPy Geoprocessing Script\n",
    "Created 2010 by Galen Maclaurin  \n",
    "Updated, Jupyter-fied 2020 by Phil"
   ]
  },
  {
   "cell_type": "markdown",
   "metadata": {},
   "source": [
    "Start by importing arcpy--something you will do often!\n",
    "\n",
    "```python\n",
    "import arcpy\n",
    "from arcpy import env\n",
    "```"
   ]
  },
  {
   "cell_type": "code",
   "execution_count": null,
   "metadata": {},
   "outputs": [],
   "source": []
  },
  {
   "cell_type": "markdown",
   "metadata": {},
   "source": [
    "Now set the workspace:\n",
    "```python\n",
    "env.workspace = r'C:\\your\\path\\GEOG_4303\\week0\\data'\n",
    "env.overwriteOutput = 1\n",
    "```"
   ]
  },
  {
   "cell_type": "code",
   "execution_count": null,
   "metadata": {},
   "outputs": [],
   "source": []
  },
  {
   "cell_type": "markdown",
   "metadata": {},
   "source": [
    "You might be asking, what does `env.overwriteOutput = 1` do?  \n",
    "Check the docs: https://desktop.arcgis.com/en/arcmap/10.3/analyze/executing-tools/setting-environments-at-the-python-window.htm"
   ]
  },
  {
   "cell_type": "markdown",
   "metadata": {},
   "source": [
    "Now, let's say you wanted to know what files are in your workspace:\n",
    "```python\n",
    "print 'listing feature classes in workspace:'\n",
    "print arcpy.ListFeatureClasses()\n",
    "```"
   ]
  },
  {
   "cell_type": "code",
   "execution_count": null,
   "metadata": {},
   "outputs": [],
   "source": []
  },
  {
   "cell_type": "markdown",
   "metadata": {},
   "source": [
    "Make it pretty...  \n",
    "\n",
    "```python\n",
    "for item in arcpy.ListFeatureClasses():\n",
    "    print item\n",
    "```"
   ]
  },
  {
   "cell_type": "code",
   "execution_count": null,
   "metadata": {},
   "outputs": [],
   "source": []
  },
  {
   "cell_type": "markdown",
   "metadata": {},
   "source": [
    "Let's define some variables...  \n",
    "\n",
    "First, a shapefile:\n",
    "```python\n",
    "openSpace = 'boulderCountyOpen.shp\n",
    "```"
   ]
  },
  {
   "cell_type": "code",
   "execution_count": null,
   "metadata": {},
   "outputs": [],
   "source": []
  },
  {
   "cell_type": "markdown",
   "metadata": {},
   "source": [
    "Now a list of shapefile names:\n",
    "*Take a look at the data folder to see what's in there...*\n",
    "```python\n",
    "cities = ['boulder', 'lafayette', 'louisville']\n",
    "```\n",
    "We will iterate over these."
   ]
  },
  {
   "cell_type": "code",
   "execution_count": null,
   "metadata": {},
   "outputs": [],
   "source": []
  },
  {
   "cell_type": "markdown",
   "metadata": {},
   "source": [
    "Take a sec to practice your looping... **Loop over the cities list, printing each:**"
   ]
  },
  {
   "cell_type": "code",
   "execution_count": null,
   "metadata": {},
   "outputs": [],
   "source": []
  },
  {
   "cell_type": "markdown",
   "metadata": {},
   "source": [
    "Now, let's clip the `openSpace` feature to just Boulder... \n",
    "\n",
    "Spend a few minutes reviewing the arcpy.Clip_analysis() docs to get familiar with the parameters aka arguments aka *args that you enter in between the parentheses. https://desktop.arcgis.com/en/arcmap/latest/tools/analysis-toolbox/clip.htm\n",
    "\n",
    "The format is: \n",
    "`arcpy.analysis.Clip(in_features, clip_features, out_feature_class)`  \n",
    "\n",
    "Remember that to access one element of a list, you use its index position:\n",
    "\n",
    "So, let's try:\n",
    "```python\n",
    "arcpy.analysis.Clip(openSpace,cities[0]+'.shp', cities[0]+'.shp')\n",
    "```\n",
    "\n",
    "ArcPy knows your working directory holds the boulder.shp file... so when you reference it in this function, you're literally pointing to that file.\n"
   ]
  },
  {
   "cell_type": "code",
   "execution_count": null,
   "metadata": {},
   "outputs": [],
   "source": []
  },
  {
   "cell_type": "markdown",
   "metadata": {},
   "source": [
    "Success?"
   ]
  },
  {
   "cell_type": "markdown",
   "metadata": {},
   "source": [
    "### Challenge!\n",
    "Now loop through the cities list and clip open space to each municipality. As each is completed, use `print ` to let us know the name of each county that has successfully been clipped. For example \"open space clipped to boulder city limits\". When all are finished, print \"analysis complete\". Put all of your code in the same cell.\n",
    "\n"
   ]
  },
  {
   "cell_type": "code",
   "execution_count": null,
   "metadata": {},
   "outputs": [],
   "source": []
  }
 ],
 "metadata": {
  "kernelspec": {
   "display_name": "Python 2",
   "language": "python",
   "name": "python2"
  },
  "language_info": {
   "codemirror_mode": {
    "name": "ipython",
    "version": 2
   },
   "file_extension": ".py",
   "mimetype": "text/x-python",
   "name": "python",
   "nbconvert_exporter": "python",
   "pygments_lexer": "ipython2",
   "version": "2.7.15"
  }
 },
 "nbformat": 4,
 "nbformat_minor": 2
}
