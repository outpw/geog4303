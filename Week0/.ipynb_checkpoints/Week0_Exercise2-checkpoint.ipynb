{
 "cells": [
  {
   "cell_type": "markdown",
   "metadata": {},
   "source": [
    "### A basic ArcPy Geoprocessing Script\n",
    "Created 2010 by Galen Maclaurin  \n",
    "Updated, Jupyter-fied 2020 by Phil"
   ]
  },
  {
   "cell_type": "markdown",
   "metadata": {},
   "source": [
    "Start by importing arcpy--something you will do often!\n",
    "\n",
    "```\n",
    "import arcpy\n",
    "from arcpy import env\n",
    "```"
   ]
  },
  {
   "cell_type": "code",
   "execution_count": 1,
   "metadata": {},
   "outputs": [],
   "source": [
    "import arcpy\n",
    "from arcpy import env"
   ]
  },
  {
   "cell_type": "markdown",
   "metadata": {},
   "source": [
    "Now set the workspace:\n",
    "```\n",
    "env.workspace = r'C:\\Users\\phwh9568\\OneDrive - UCB-O365\\UCB\\Documents\\GEOG_4303\\ \n",
    "    GEOG 4303_5303\\labs GEOG 4303_5303_7labs\\lab0\\data'\n",
    "env.overwriteOutput = 1\n",
    "```"
   ]
  },
  {
   "cell_type": "code",
   "execution_count": 5,
   "metadata": {},
   "outputs": [],
   "source": [
    "env.workspace = r'C:\\Users\\phwh9568\\OneDrive - UCB-O365\\UCB\\Documents\\GEOG_4303\\GEOG 4303_5303\\labs GEOG 4303_5303_7labs\\lab0\\data'\n",
    "env.overwriteOutput = 1"
   ]
  },
  {
   "cell_type": "markdown",
   "metadata": {},
   "source": [
    "You might be asking, what does `env.overwriteOutput = 1` do?  \n",
    "Check the docs: https://desktop.arcgis.com/en/arcmap/10.3/analyze/executing-tools/setting-environments-at-the-python-window.htm"
   ]
  },
  {
   "cell_type": "markdown",
   "metadata": {},
   "source": [
    "Now, let's say you wanted to know what files are in your workspace:\n",
    "```\n",
    "print('listing feature classes in workspace:')\n",
    "print(arcpy.ListFeatureClasses()\n",
    "```"
   ]
  },
  {
   "cell_type": "code",
   "execution_count": 6,
   "metadata": {},
   "outputs": [
    {
     "name": "stdout",
     "output_type": "stream",
     "text": [
      "listing feature classes in workspace:\n",
      "[u'boulder.shp', u'boulderCountyOpen.shp', u'boulderOpen.shp', u'boulderOpenBuff3000.shp', u'boulderSites_buff3000.shp', u'boulder_Open.shp', u'Buffsites329231lou.shp', u'Buffsites430183laf.shp', u'Buffsites53242bld.shp', u'lafayette.shp', u'lafayetteOpen.shp', u'lafayetteOpenBuff3000.shp', u'lafayetteSites_buff3000.shp', u'lafayette_Open.shp', u'louisville.shp', u'louisvilleOpen.shp', u'louisvilleOpenBuff3000.shp', u'louisvilleSites_buff3000.shp', u'louisville_Open.shp', u'sites329231lou.shp', u'sites329231loubuffered.shp', u'sites329231lou_buff3000.shp', u'sites430183laf.shp', u'sites430183lafbuffered.shp', u'sites430183laf_buff3000.shp', u'sites53242bld.shp', u'sites53242bldbuffered.shp', u'sites53242bld_buff3000.shp', u'site_spaceboulder.shp', u'site_spacelafayette.shp', u'site_spacelouisville.shp', u'spaceboulder.shp', u'spacelafayette.shp', u'spacelouisville.shp']\n"
     ]
    }
   ],
   "source": [
    "print('listing feature classes in workspace:')\n",
    "print(arcpy.ListFeatureClasses())"
   ]
  },
  {
   "cell_type": "markdown",
   "metadata": {},
   "source": [
    "Make it pretty...  \n",
    "\n",
    "```\n",
    "for item in arcpy.ListFeatureClasses():\n",
    "    print(item)\n",
    "```"
   ]
  },
  {
   "cell_type": "code",
   "execution_count": 10,
   "metadata": {},
   "outputs": [
    {
     "name": "stdout",
     "output_type": "stream",
     "text": [
      "boulder.shp\n",
      "boulderCountyOpen.shp\n",
      "boulderOpen.shp\n",
      "boulderOpenBuff3000.shp\n",
      "boulderSites_buff3000.shp\n",
      "boulder_Open.shp\n",
      "Buffsites329231lou.shp\n",
      "Buffsites430183laf.shp\n",
      "Buffsites53242bld.shp\n",
      "lafayette.shp\n",
      "lafayetteOpen.shp\n",
      "lafayetteOpenBuff3000.shp\n",
      "lafayetteSites_buff3000.shp\n",
      "lafayette_Open.shp\n",
      "louisville.shp\n",
      "louisvilleOpen.shp\n",
      "louisvilleOpenBuff3000.shp\n",
      "louisvilleSites_buff3000.shp\n",
      "louisville_Open.shp\n",
      "sites329231lou.shp\n",
      "sites329231loubuffered.shp\n",
      "sites329231lou_buff3000.shp\n",
      "sites430183laf.shp\n",
      "sites430183lafbuffered.shp\n",
      "sites430183laf_buff3000.shp\n",
      "sites53242bld.shp\n",
      "sites53242bldbuffered.shp\n",
      "sites53242bld_buff3000.shp\n",
      "site_spaceboulder.shp\n",
      "site_spacelafayette.shp\n",
      "site_spacelouisville.shp\n",
      "spaceboulder.shp\n",
      "spacelafayette.shp\n",
      "spacelouisville.shp\n"
     ]
    }
   ],
   "source": [
    "for item in arcpy.ListFeatureClasses():\n",
    "    print(item)"
   ]
  },
  {
   "cell_type": "markdown",
   "metadata": {},
   "source": [
    "Let's define some variables...  \n",
    "\n",
    "First, a shapefile:\n",
    "```\n",
    "openSpace = 'boulderCountyOpen.shp\n",
    "```"
   ]
  },
  {
   "cell_type": "code",
   "execution_count": 7,
   "metadata": {},
   "outputs": [],
   "source": [
    "openSpace = 'boulderCountyOpen.shp'"
   ]
  },
  {
   "cell_type": "markdown",
   "metadata": {},
   "source": [
    "Now a list of shapefile names:\n",
    "*Take a look at the data folder to see what's in there...*\n",
    "```\n",
    "cities = ['boulder', 'lafayette', 'louisville']\n",
    "```\n",
    "We will iterate over these."
   ]
  },
  {
   "cell_type": "code",
   "execution_count": 8,
   "metadata": {},
   "outputs": [],
   "source": [
    "cities = ['boulder', 'lafayette', 'louisville']"
   ]
  },
  {
   "cell_type": "markdown",
   "metadata": {},
   "source": [
    "Take a sec to practice your looping... **Loop over the cities list, printing each:**"
   ]
  },
  {
   "cell_type": "code",
   "execution_count": null,
   "metadata": {},
   "outputs": [],
   "source": []
  },
  {
   "cell_type": "markdown",
   "metadata": {},
   "source": [
    "Now, let's clip the `openSpace` feature to just Boulder... \n",
    "\n",
    "Spend a few minutes reviewing the arcpy.Clip_analysis() docs to get familiar with the parameters aka arguments aka *args that you enter in between the parentheses. https://desktop.arcgis.com/en/arcmap/latest/tools/analysis-toolbox/clip.htm\n",
    "\n",
    "The format is: \n",
    "`arcpy.Clip_analysis(in_features, clip_features, out_feature_class)`  \n",
    "\n",
    "Remember that to access one element of a list, you use its index position:\n",
    "\n",
    "So, let's try:\n",
    "```\n",
    "arcpy.Clip_analysis(openSpace,cities[0]+'.shp', cities[0]+'.shp')\n",
    "```\n",
    "\n",
    "ArcPy knows your working directory holds the boulder.shp file... so when you reference it in this function, you're literally pointing to that file.\n"
   ]
  },
  {
   "cell_type": "code",
   "execution_count": null,
   "metadata": {},
   "outputs": [],
   "source": []
  },
  {
   "cell_type": "markdown",
   "metadata": {},
   "source": [
    "Success?"
   ]
  },
  {
   "cell_type": "markdown",
   "metadata": {},
   "source": [
    "### Challenge!\n",
    "Now loop through the cities list and clip open space to each municipality. As each is completed, use `print()` to let us know the name of each county that has successfully been clipped. For example \"open space clipped to boulder city limits\". When all are finished, print \"analysis complete\". Put all of your code in the same cell.\n",
    "\n"
   ]
  },
  {
   "cell_type": "code",
   "execution_count": 9,
   "metadata": {},
   "outputs": [
    {
     "name": "stdout",
     "output_type": "stream",
     "text": [
      "open space clipped to boulder city limits\n",
      "open space clipped to lafayette city limits\n",
      "open space clipped to louisville city limits\n",
      "analysis complete\n"
     ]
    }
   ],
   "source": [
    "for city in cities:\n",
    "    arcpy.Clip_analysis(openSpace, city + '.shp', city + 'Open.shp')\n",
    "    print('open space clipped to '+ city + ' city limits')\n",
    "\n",
    "print('analysis complete')"
   ]
  },
  {
   "cell_type": "markdown",
   "metadata": {},
   "source": []
  }
 ],
 "metadata": {
  "kernelspec": {
   "display_name": "Python 2",
   "language": "python",
   "name": "python2"
  },
  "language_info": {
   "codemirror_mode": {
    "name": "ipython",
    "version": 2
   },
   "file_extension": ".py",
   "mimetype": "text/x-python",
   "name": "python",
   "nbconvert_exporter": "python",
   "pygments_lexer": "ipython2",
   "version": "2.7.15"
  }
 },
 "nbformat": 4,
 "nbformat_minor": 2
}
