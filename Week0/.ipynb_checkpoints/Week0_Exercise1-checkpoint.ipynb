{
 "cells": [
  {
   "cell_type": "markdown",
   "metadata": {},
   "source": [
    "## Python Basics\n",
    "\n",
    "Authors: Maclaurin, Leyk, Stum, White\n",
    "\n",
    "\n",
    "### Declaring variables:\n",
    "Variables are declared with a single equal sign\n",
    "\n",
    "```python\n",
    "a = 3\n",
    "b = 4\n",
    "c = 1.5\n",
    "```"
   ]
  },
  {
   "cell_type": "code",
   "execution_count": null,
   "metadata": {},
   "outputs": [],
   "source": []
  },
  {
   "cell_type": "code",
   "execution_count": null,
   "metadata": {},
   "outputs": [],
   "source": []
  },
  {
   "cell_type": "markdown",
   "metadata": {},
   "source": [
    "Characters (referred to as strings) are enclosed in quotes\n",
    "Single (') and double(\") quotes are treated the same\n",
    "\n",
    "```python\n",
    "d = 'hello'\n",
    "e = \" world\"\n",
    "```"
   ]
  },
  {
   "cell_type": "code",
   "execution_count": null,
   "metadata": {},
   "outputs": [],
   "source": []
  },
  {
   "cell_type": "code",
   "execution_count": null,
   "metadata": {},
   "outputs": [],
   "source": []
  },
  {
   "cell_type": "code",
   "execution_count": null,
   "metadata": {},
   "outputs": [],
   "source": []
  },
  {
   "cell_type": "code",
   "execution_count": null,
   "metadata": {},
   "outputs": [],
   "source": []
  },
  {
   "cell_type": "markdown",
   "metadata": {},
   "source": [
    "A space is also a character, as well as numbers. This is a string, not a number:\n",
    "\n",
    "```python\n",
    "f = '123'\n",
    "```"
   ]
  },
  {
   "cell_type": "code",
   "execution_count": null,
   "metadata": {},
   "outputs": [],
   "source": []
  },
  {
   "cell_type": "code",
   "execution_count": null,
   "metadata": {},
   "outputs": [],
   "source": []
  },
  {
   "cell_type": "markdown",
   "metadata": {},
   "source": [
    "You can convert between data types:\n",
    "\n",
    "```python\n",
    "cc = str(c)\n",
    "ff = int(f)\n",
    "aa = float(a)\n",
    "```"
   ]
  },
  {
   "cell_type": "code",
   "execution_count": null,
   "metadata": {},
   "outputs": [],
   "source": []
  },
  {
   "cell_type": "code",
   "execution_count": null,
   "metadata": {},
   "outputs": [],
   "source": []
  },
  {
   "cell_type": "code",
   "execution_count": null,
   "metadata": {},
   "outputs": [],
   "source": []
  },
  {
   "cell_type": "markdown",
   "metadata": {},
   "source": [
    "`int` is for integer, `str` is for string, `float` is for... take a wild guess!  \n",
    "\n",
    "Convert only if logically possible: you can't convert letters to numbers, but you can convert numbers to strings:\n",
    "\n",
    "```python\n",
    "dd = int(d)\n",
    "```"
   ]
  },
  {
   "cell_type": "code",
   "execution_count": null,
   "metadata": {},
   "outputs": [],
   "source": []
  },
  {
   "cell_type": "markdown",
   "metadata": {},
   "source": [
    "*Can't convert `hello` to an `int`.* :-)"
   ]
  },
  {
   "cell_type": "markdown",
   "metadata": {},
   "source": [
    "### Booleans\n",
    "\n",
    "Boolean is a datatype, and an important one...  \n",
    "\n",
    "Take this simple example:\n",
    "\n",
    "```python\n",
    "g = 3\n",
    "a == g\n",
    "```"
   ]
  },
  {
   "cell_type": "code",
   "execution_count": null,
   "metadata": {},
   "outputs": [],
   "source": []
  },
  {
   "cell_type": "code",
   "execution_count": null,
   "metadata": {},
   "outputs": [],
   "source": []
  },
  {
   "cell_type": "markdown",
   "metadata": {},
   "source": [
    "The double equal sign tests if the two objects are equal. This is a logical operator, it tests whether a condition is `True` or `False`.  \n",
    "\n",
    "```python\n",
    "b == g\n",
    "```"
   ]
  },
  {
   "cell_type": "code",
   "execution_count": null,
   "metadata": {},
   "outputs": [],
   "source": []
  },
  {
   "cell_type": "markdown",
   "metadata": {},
   "source": [
    "Here are some more logical operators that return a boolean:\n",
    "\n",
    "```python\n",
    "a > g\n",
    "a <= g\n",
    "```"
   ]
  },
  {
   "cell_type": "code",
   "execution_count": null,
   "metadata": {},
   "outputs": [],
   "source": []
  },
  {
   "cell_type": "code",
   "execution_count": null,
   "metadata": {},
   "outputs": [],
   "source": []
  },
  {
   "cell_type": "markdown",
   "metadata": {},
   "source": [
    "### Concatenation:\n",
    "You must convert numbers to a string before concatenation.\n",
    "\n",
    "```python\n",
    "cat_1 = d+e\n",
    "cat_2 = d+e+str(c)\n",
    "```"
   ]
  },
  {
   "cell_type": "code",
   "execution_count": null,
   "metadata": {},
   "outputs": [],
   "source": []
  },
  {
   "cell_type": "code",
   "execution_count": null,
   "metadata": {},
   "outputs": [],
   "source": []
  },
  {
   "cell_type": "code",
   "execution_count": null,
   "metadata": {},
   "outputs": [],
   "source": []
  },
  {
   "cell_type": "markdown",
   "metadata": {},
   "source": [
    "#### Lists:  \n",
    "This is a list, simply a collection of objects. Lists are enclosed by square brackets `[]`:\n",
    "\n",
    "```python\n",
    "list_1 = [1,2,3]\n",
    "```"
   ]
  },
  {
   "cell_type": "code",
   "execution_count": null,
   "metadata": {},
   "outputs": [],
   "source": []
  },
  {
   "cell_type": "code",
   "execution_count": null,
   "metadata": {},
   "outputs": [],
   "source": []
  },
  {
   "cell_type": "markdown",
   "metadata": {},
   "source": [
    "Lists can contain numbers or strings (or any other data type)\n",
    "```python\n",
    "list_2 = ['a', 'b', 'c']\n",
    "```"
   ]
  },
  {
   "cell_type": "code",
   "execution_count": null,
   "metadata": {},
   "outputs": [],
   "source": []
  },
  {
   "cell_type": "code",
   "execution_count": null,
   "metadata": {},
   "outputs": [],
   "source": []
  },
  {
   "cell_type": "markdown",
   "metadata": {},
   "source": [
    "Or a combination of different data types:\n",
    "```python\n",
    "list_3 = ['abcd',1,'2',3.4,'3d']\n",
    "```"
   ]
  },
  {
   "cell_type": "code",
   "execution_count": null,
   "metadata": {},
   "outputs": [],
   "source": []
  },
  {
   "cell_type": "code",
   "execution_count": null,
   "metadata": {},
   "outputs": [],
   "source": []
  },
  {
   "cell_type": "markdown",
   "metadata": {},
   "source": [
    "I can't think of a time when I would do that... but do-able! Would make life difficult when looping... more on that later."
   ]
  },
  {
   "cell_type": "markdown",
   "metadata": {},
   "source": [
    "### Indexing\n",
    "**Starts at Zero!**  \n",
    "\n",
    "This will return the first element in a list. You can access elements of a list based on their index position...\n",
    "```python\n",
    "list_1[0]\n",
    "list_1[1]\n",
    "list_1[2]\n",
    "```\n",
    "**Indexing in Python always starts at zero**"
   ]
  },
  {
   "cell_type": "code",
   "execution_count": null,
   "metadata": {},
   "outputs": [],
   "source": []
  },
  {
   "cell_type": "markdown",
   "metadata": {},
   "source": [
    "### More lists:  \n",
    "\n",
    "You can use the range function to create a sequenced list:\n",
    "```python\n",
    "range_1 = range(5)\n",
    "```"
   ]
  },
  {
   "cell_type": "code",
   "execution_count": null,
   "metadata": {},
   "outputs": [],
   "source": []
  },
  {
   "cell_type": "code",
   "execution_count": null,
   "metadata": {},
   "outputs": [],
   "source": []
  },
  {
   "cell_type": "markdown",
   "metadata": {},
   "source": [
    "This is just an easy way of creating a list...  \n",
    "The range function starts at 0 if only one parameter is given, and it creates a sequenced list up to BUT NOT including that number.  \n",
    "\n",
    "Play around with this:  \n",
    "```python\n",
    "range_2 = range(1,5)\n",
    "```  \n",
    "If you give two parameters, the first is the starting number and the second is the stopping number, but it counts up to but not including the stop number."
   ]
  },
  {
   "cell_type": "code",
   "execution_count": null,
   "metadata": {},
   "outputs": [],
   "source": []
  },
  {
   "cell_type": "code",
   "execution_count": null,
   "metadata": {},
   "outputs": [],
   "source": []
  },
  {
   "cell_type": "markdown",
   "metadata": {},
   "source": [
    "*Note: you can overwrite variables whenever you want.*"
   ]
  },
  {
   "cell_type": "markdown",
   "metadata": {},
   "source": [
    "This is an empty list:\n",
    "```python\n",
    "list_4 = []\n",
    "```"
   ]
  },
  {
   "cell_type": "code",
   "execution_count": null,
   "metadata": {},
   "outputs": [],
   "source": []
  },
  {
   "cell_type": "markdown",
   "metadata": {},
   "source": [
    "One method of populating a list is with the append function:\n",
    "```python\n",
    "list_4.append(1)\n",
    "```"
   ]
  },
  {
   "cell_type": "code",
   "execution_count": null,
   "metadata": {},
   "outputs": [],
   "source": []
  },
  {
   "cell_type": "code",
   "execution_count": null,
   "metadata": {},
   "outputs": [],
   "source": []
  },
  {
   "cell_type": "markdown",
   "metadata": {},
   "source": [
    "### Now, the all important print function!\n",
    "* first a word on print vs print()  \n",
    "\n",
    "Python 2, which we will use in this class, does not require `()`. In Python 3, print function uses parens like so: `print()`.  \n",
    "\n",
    "If you're doing this exercise in Google Colab, you'll need to use Python 3 notation for your print statements.  \n",
    "\n",
    "Python 2:\n",
    "```python\n",
    "print a\n",
    "```  \n",
    "\n",
    "Python 3:\n",
    "```python\n",
    "print (a)\n",
    "```"
   ]
  },
  {
   "cell_type": "code",
   "execution_count": null,
   "metadata": {},
   "outputs": [],
   "source": []
  },
  {
   "cell_type": "markdown",
   "metadata": {},
   "source": [
    "You can type code within the parentheses, as with any function:\n",
    "\n",
    "```python\n",
    "print d+e+str(c)\n",
    "```"
   ]
  },
  {
   "cell_type": "code",
   "execution_count": null,
   "metadata": {},
   "outputs": [],
   "source": []
  },
  {
   "cell_type": "markdown",
   "metadata": {},
   "source": [
    "*Hot tip:* The print function is a very useful debugging tool. When you're having trouble figuring out where your code is breaking, try inserting a print function at various places to ensure you're outputting what you think you are."
   ]
  },
  {
   "cell_type": "markdown",
   "metadata": {},
   "source": [
    "## Loops  \n",
    "\n",
    "Loops are a fundamental structure in programming.  \n",
    "\n",
    "There are two kinds of loops: for and while  \n",
    "\n",
    "A for loop:  \n",
    "```python\n",
    "k = 'abcdef'\n",
    "for i in k:\n",
    "    print i\n",
    "```"
   ]
  },
  {
   "cell_type": "code",
   "execution_count": null,
   "metadata": {},
   "outputs": [],
   "source": []
  },
  {
   "cell_type": "markdown",
   "metadata": {},
   "source": [
    "Loops are a fundamental structure in programming. This is how you blast through boring, repetitive stuff, and makes programming very powerful to folks like us.  \n",
    "\n",
    "You can read the above for loop as: \"For each element in K, print that element\".  \n",
    "You will learn about the `in` operator in the full lab0, we use it with iteration using a for loop.  \n",
    "`for` and `in` establish the structure of the for loop. `i` is what we call the \"iterable\". Think of it as a placeholder variable.\n",
    "\n",
    "*You can name the iterable anything you want*:  \n",
    "```python\n",
    "for doodad in k:\n",
    "    print doodad\n",
    "```"
   ]
  },
  {
   "cell_type": "code",
   "execution_count": null,
   "metadata": {},
   "outputs": [],
   "source": []
  },
  {
   "cell_type": "markdown",
   "metadata": {},
   "source": [
    "In this example, `k` is an iterable object. An iterable object is one that is a collection of objects, like a list populated with stuff. \n",
    "```python\n",
    "for thingy in list_1:\n",
    "    print thingy\n",
    "```"
   ]
  },
  {
   "cell_type": "code",
   "execution_count": null,
   "metadata": {},
   "outputs": [],
   "source": []
  },
  {
   "cell_type": "markdown",
   "metadata": {},
   "source": [
    "Two examples to try in the next cells:\n",
    "```python\n",
    "for elem in list_3:\n",
    "    print elem \n",
    "```\n",
    "and:  \n",
    "```python\n",
    "for i in range(len(list_3)):\n",
    "    print 'index'\n",
    "    print i\n",
    "    print 'value'\n",
    "    print list_3[i]\n",
    "```"
   ]
  },
  {
   "cell_type": "code",
   "execution_count": null,
   "metadata": {},
   "outputs": [],
   "source": []
  },
  {
   "cell_type": "code",
   "execution_count": null,
   "metadata": {},
   "outputs": [],
   "source": []
  },
  {
   "cell_type": "markdown",
   "metadata": {},
   "source": [
    "Think about how these two examples are different. What is the iterable in each?  \n",
    "This seems like a simple difference... but it's powerful in application.  \n",
    "\n",
    "\n",
    "How about a more complicated example: \n",
    "```python\n",
    "myList = []\n",
    "for char in d:\n",
    "    myList.append(char)\n",
    "\n",
    "print myList\n",
    "```"
   ]
  },
  {
   "cell_type": "code",
   "execution_count": null,
   "metadata": {},
   "outputs": [],
   "source": []
  },
  {
   "cell_type": "markdown",
   "metadata": {},
   "source": [
    "Here we iterated over `d` and placed each character into a list."
   ]
  },
  {
   "cell_type": "markdown",
   "metadata": {},
   "source": [
    "While loops: \n",
    "Use while loops when you need to iterate over something until a particular condition is fulfilled: \n",
    "```python\n",
    "counter = 0\n",
    "while counter < 8:\n",
    "    print x[counter]\n",
    "    counter+=1\n",
    "```    "
   ]
  },
  {
   "cell_type": "code",
   "execution_count": null,
   "metadata": {},
   "outputs": [],
   "source": []
  },
  {
   "cell_type": "markdown",
   "metadata": {},
   "source": [
    "```python\n",
    "myList = []\n",
    "while len(myList) < 4:\n",
    "    myList.append(d[len(myList)])\n",
    "    print myList\n",
    "```"
   ]
  },
  {
   "cell_type": "code",
   "execution_count": null,
   "metadata": {},
   "outputs": [],
   "source": []
  },
  {
   "cell_type": "markdown",
   "metadata": {},
   "source": [
    "The difference here is that we stopped the iterations when a condition was met, rather than looping through an entire list."
   ]
  }
 ],
 "metadata": {
  "kernelspec": {
   "display_name": "Python 2",
   "language": "python",
   "name": "python2"
  },
  "language_info": {
   "codemirror_mode": {
    "name": "ipython",
    "version": 2
   },
   "file_extension": ".py",
   "mimetype": "text/x-python",
   "name": "python",
   "nbconvert_exporter": "python",
   "pygments_lexer": "ipython2",
   "version": "2.7.15"
  }
 },
 "nbformat": 4,
 "nbformat_minor": 2
}
